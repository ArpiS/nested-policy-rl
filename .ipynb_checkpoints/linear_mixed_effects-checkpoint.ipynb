{
 "cells": [
  {
   "cell_type": "markdown",
   "id": "southeast-medium",
   "metadata": {},
   "source": [
    "* Tutorial: https://github.com/tensorflow/probability/blob/master/tensorflow_probability/examples/jupyter_notebooks/Linear_Mixed_Effects_Models.ipynb"
   ]
  },
  {
   "cell_type": "code",
   "execution_count": 1,
   "id": "local-manchester",
   "metadata": {},
   "outputs": [],
   "source": [
    "import csv\n",
    "import matplotlib.pyplot as plt\n",
    "import numpy as np\n",
    "import pandas as pd\n",
    "import requests\n",
    "\n",
    "\n",
    "import tensorflow.compat.v2 as tf\n",
    "tf.enable_v2_behavior()\n",
    "\n",
    "import tensorflow_probability as tfp\n",
    "\n",
    "\n",
    "tfd = tfp.distributions\n",
    "tfb = tfp.bijectors\n",
    "\n",
    "dtype = tf.float64\n",
    "\n",
    "%config InlineBackend.figure_format = 'retina'\n",
    "%matplotlib inline\n",
    "plt.style.use('ggplot')"
   ]
  },
  {
   "cell_type": "code",
   "execution_count": 4,
   "id": "laden-clark",
   "metadata": {},
   "outputs": [],
   "source": [
    "def load_insteval():\n",
    "    url = ('https://raw.github.com/vincentarelbundock/Rdatasets/master/csv/'\n",
    "         'lme4/InstEval.csv')\n",
    "    with requests.Session() as s:\n",
    "        download = s.get(url)\n",
    "        f = download.content.decode().splitlines()\n",
    "\n",
    "    iterator = csv.reader(f)\n",
    "    columns = next(iterator)[1:]\n",
    "    x_train = np.array([row[1:] for row in iterator], dtype=np.int)\n",
    "    metadata = {'columns': columns}\n",
    "    return x_train, metadata\n"
   ]
  },
  {
   "cell_type": "code",
   "execution_count": 5,
   "id": "biological-story",
   "metadata": {},
   "outputs": [
    {
     "data": {
      "text/html": [
       "<div>\n",
       "<style scoped>\n",
       "    .dataframe tbody tr th:only-of-type {\n",
       "        vertical-align: middle;\n",
       "    }\n",
       "\n",
       "    .dataframe tbody tr th {\n",
       "        vertical-align: top;\n",
       "    }\n",
       "\n",
       "    .dataframe thead th {\n",
       "        text-align: right;\n",
       "    }\n",
       "</style>\n",
       "<table border=\"1\" class=\"dataframe\">\n",
       "  <thead>\n",
       "    <tr style=\"text-align: right;\">\n",
       "      <th></th>\n",
       "      <th>students</th>\n",
       "      <th>instructors</th>\n",
       "      <th>studage</th>\n",
       "      <th>lectage</th>\n",
       "      <th>service</th>\n",
       "      <th>departments</th>\n",
       "      <th>ratings</th>\n",
       "    </tr>\n",
       "  </thead>\n",
       "  <tbody>\n",
       "    <tr>\n",
       "      <th>72342</th>\n",
       "      <td>2932</td>\n",
       "      <td>488</td>\n",
       "      <td>2</td>\n",
       "      <td>2</td>\n",
       "      <td>0</td>\n",
       "      <td>13</td>\n",
       "      <td>5</td>\n",
       "    </tr>\n",
       "    <tr>\n",
       "      <th>284</th>\n",
       "      <td>31</td>\n",
       "      <td>301</td>\n",
       "      <td>6</td>\n",
       "      <td>5</td>\n",
       "      <td>0</td>\n",
       "      <td>2</td>\n",
       "      <td>3</td>\n",
       "    </tr>\n",
       "    <tr>\n",
       "      <th>4543</th>\n",
       "      <td>171</td>\n",
       "      <td>116</td>\n",
       "      <td>6</td>\n",
       "      <td>6</td>\n",
       "      <td>0</td>\n",
       "      <td>3</td>\n",
       "      <td>4</td>\n",
       "    </tr>\n",
       "    <tr>\n",
       "      <th>31103</th>\n",
       "      <td>1266</td>\n",
       "      <td>80</td>\n",
       "      <td>2</td>\n",
       "      <td>1</td>\n",
       "      <td>1</td>\n",
       "      <td>7</td>\n",
       "      <td>3</td>\n",
       "    </tr>\n",
       "    <tr>\n",
       "      <th>45376</th>\n",
       "      <td>1830</td>\n",
       "      <td>463</td>\n",
       "      <td>8</td>\n",
       "      <td>3</td>\n",
       "      <td>0</td>\n",
       "      <td>5</td>\n",
       "      <td>4</td>\n",
       "    </tr>\n",
       "  </tbody>\n",
       "</table>\n",
       "</div>"
      ],
      "text/plain": [
       "       students  instructors  studage  lectage  service  departments  ratings\n",
       "72342      2932          488        2        2        0           13        5\n",
       "284          31          301        6        5        0            2        3\n",
       "4543        171          116        6        6        0            3        4\n",
       "31103      1266           80        2        1        1            7        3\n",
       "45376      1830          463        8        3        0            5        4"
      ]
     },
     "execution_count": 5,
     "metadata": {},
     "output_type": "execute_result"
    }
   ],
   "source": [
    "data, metadata = load_insteval()\n",
    "data = pd.DataFrame(data, columns=metadata['columns'])\n",
    "data = data.rename(columns={'s': 'students',\n",
    "                            'd': 'instructors',\n",
    "                            'dept': 'departments',\n",
    "                            'y': 'ratings'})\n",
    "data['students'] -= 1  # start index by 0\n",
    "# Remap categories to start from 0 and end at max(category).\n",
    "data['instructors'] = data['instructors'].astype('category').cat.codes\n",
    "data['departments'] = data['departments'].astype('category').cat.codes\n",
    "\n",
    "train = data.sample(frac=0.8)\n",
    "test = data.drop(train.index)\n",
    "\n",
    "train.head()"
   ]
  },
  {
   "cell_type": "code",
   "execution_count": 6,
   "id": "bored-buffer",
   "metadata": {},
   "outputs": [],
   "source": [
    "get_value = lambda dataframe, key, dtype: dataframe[key].values.astype(dtype)\n",
    "features_train = {\n",
    "    k: get_value(train, key=k, dtype=np.int32)\n",
    "    for k in ['students', 'instructors', 'departments', 'service']}\n",
    "labels_train = get_value(train, key='ratings', dtype=np.float32)\n",
    "\n",
    "features_test = {k: get_value(test, key=k, dtype=np.int32)\n",
    "                 for k in ['students', 'instructors', 'departments', 'service']}\n",
    "labels_test = get_value(test, key='ratings', dtype=np.float32)"
   ]
  },
  {
   "cell_type": "code",
   "execution_count": 7,
   "id": "spiritual-remains",
   "metadata": {},
   "outputs": [
    {
     "name": "stdout",
     "output_type": "stream",
     "text": [
      "Number of students: 2972\n",
      "Number of instructors: 1128\n",
      "Number of departments: 14\n",
      "Number of observations: 58737\n"
     ]
    }
   ],
   "source": [
    "num_students = max(features_train['students']) + 1\n",
    "num_instructors = max(features_train['instructors']) + 1\n",
    "num_departments = max(features_train['departments']) + 1\n",
    "num_observations = train.shape[0]\n",
    "\n",
    "print(\"Number of students:\", num_students)\n",
    "print(\"Number of instructors:\", num_instructors)\n",
    "print(\"Number of departments:\", num_departments)\n",
    "print(\"Number of observations:\", num_observations)"
   ]
  },
  {
   "cell_type": "code",
   "execution_count": 8,
   "id": "urban-breach",
   "metadata": {},
   "outputs": [],
   "source": [
    "class LinearMixedEffectModel(tf.Module):\n",
    "    def __init__(self):\n",
    "        # Set up fixed effects and other parameters.\n",
    "        # These are free parameters to be optimized in E-steps\n",
    "        self._intercept = tf.Variable(0., name=\"intercept\")            # alpha in eq\n",
    "        self._effect_service = tf.Variable(0., name=\"effect_service\")  #  beta in eq\n",
    "        self._stddev_students = tfp.util.TransformedVariable(\n",
    "            1., bijector=tfb.Exp(), name=\"stddev_students\")            # sigma in eq\n",
    "        self._stddev_instructors = tfp.util.TransformedVariable(\n",
    "            1., bijector=tfb.Exp(), name=\"stddev_instructors\")         # sigma in eq\n",
    "        self._stddev_departments = tfp.util.TransformedVariable(\n",
    "            1., bijector=tfb.Exp(), name=\"stddev_departments\")         # sigma in eq\n",
    "\n",
    "    def __call__(self, features):\n",
    "        model = tfd.JointDistributionSequential([\n",
    "          # Set up random effects.\n",
    "          tfd.MultivariateNormalDiag(\n",
    "              loc=tf.zeros(num_students),\n",
    "              scale_identity_multiplier=self._stddev_students),\n",
    "          tfd.MultivariateNormalDiag(\n",
    "              loc=tf.zeros(num_instructors),\n",
    "              scale_identity_multiplier=self._stddev_instructors),\n",
    "          tfd.MultivariateNormalDiag(\n",
    "              loc=tf.zeros(num_departments),\n",
    "              scale_identity_multiplier=self._stddev_departments),\n",
    "          # This is the likelihood for the observed.\n",
    "          lambda effect_departments, effect_instructors, effect_students: tfd.Independent(\n",
    "              tfd.Normal(\n",
    "                  loc=(self._effect_service * features[\"service\"] +\n",
    "                      tf.gather(effect_students, features[\"students\"], axis=-1) +\n",
    "                      tf.gather(effect_instructors, features[\"instructors\"], axis=-1) +\n",
    "                      tf.gather(effect_departments, features[\"departments\"], axis=-1) +\n",
    "                      self._intercept),\n",
    "                  scale=1.),\n",
    "                  reinterpreted_batch_ndims=1)\n",
    "        ])\n",
    "\n",
    "        # To enable tracking of the trainable variables via the created distribution,\n",
    "        # we attach a reference to `self`. Since all TFP objects sub-class\n",
    "        # `tf.Module`, this means that the following is possible:\n",
    "        # LinearMixedEffectModel()(features_train).trainable_variables\n",
    "        # ==> tuple of all tf.Variables created by LinearMixedEffectModel.\n",
    "        model._to_track = self\n",
    "        return model"
   ]
  },
  {
   "cell_type": "code",
   "execution_count": 9,
   "id": "recognized-baltimore",
   "metadata": {},
   "outputs": [],
   "source": [
    "lmm_jointdist = LinearMixedEffectModel()\n",
    "# Conditioned on feature/predictors from the training data\n",
    "lmm_train = lmm_jointdist(features_train)"
   ]
  },
  {
   "cell_type": "code",
   "execution_count": 10,
   "id": "narrative-worcester",
   "metadata": {},
   "outputs": [
    {
     "data": {
      "text/plain": [
       "(<tf.Variable 'stddev_students:0' shape=() dtype=float32, numpy=0.0>,\n",
       " <tf.Variable 'stddev_instructors:0' shape=() dtype=float32, numpy=0.0>,\n",
       " <tf.Variable 'stddev_departments:0' shape=() dtype=float32, numpy=0.0>,\n",
       " <tf.Variable 'effect_service:0' shape=() dtype=float32, numpy=0.0>,\n",
       " <tf.Variable 'intercept:0' shape=() dtype=float32, numpy=0.0>)"
      ]
     },
     "execution_count": 10,
     "metadata": {},
     "output_type": "execute_result"
    }
   ],
   "source": [
    "lmm_train.trainable_variables\n"
   ]
  },
  {
   "cell_type": "code",
   "execution_count": 11,
   "id": "chronic-coordination",
   "metadata": {},
   "outputs": [
    {
     "data": {
      "text/plain": [
       "(('effect_students', ()),\n",
       " ('effect_instructors', ()),\n",
       " ('effect_departments', ()),\n",
       " ('x', ('effect_departments', 'effect_instructors', 'effect_students')))"
      ]
     },
     "execution_count": 11,
     "metadata": {},
     "output_type": "execute_result"
    }
   ],
   "source": [
    "lmm_train.resolve_graph()\n"
   ]
  },
  {
   "cell_type": "code",
   "execution_count": null,
   "id": "waiting-decline",
   "metadata": {},
   "outputs": [],
   "source": []
  }
 ],
 "metadata": {
  "kernelspec": {
   "display_name": "tf",
   "language": "python",
   "name": "tf"
  },
  "language_info": {
   "codemirror_mode": {
    "name": "ipython",
    "version": 3
   },
   "file_extension": ".py",
   "mimetype": "text/x-python",
   "name": "python",
   "nbconvert_exporter": "python",
   "pygments_lexer": "ipython3",
   "version": "3.7.10"
  },
  "toc": {
   "base_numbering": 1,
   "nav_menu": {},
   "number_sections": true,
   "sideBar": true,
   "skip_h1_title": false,
   "title_cell": "Table of Contents",
   "title_sidebar": "Contents",
   "toc_cell": false,
   "toc_position": {},
   "toc_section_display": true,
   "toc_window_display": false
  }
 },
 "nbformat": 4,
 "nbformat_minor": 5
}
