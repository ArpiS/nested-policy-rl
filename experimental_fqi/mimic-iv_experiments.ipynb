{
 "cells": [
  {
   "cell_type": "code",
   "execution_count": 1,
   "metadata": {},
   "outputs": [],
   "source": [
    "# TODO:\n",
    "# Interesting examples to pull out (preds are different btwn CFQI and FQI)"
   ]
  },
  {
   "cell_type": "code",
   "execution_count": 2,
   "metadata": {},
   "outputs": [],
   "source": [
    "import json\n",
    "import sys\n",
    "sys.path.append('../simulated_fqi')\n",
    "from train_cnfqi import run\n",
    "import seaborn as sns\n",
    "import tqdm\n",
    "import matplotlib.pyplot as plt \n",
    "import numpy as np\n",
    "import configargparse\n",
    "import torch\n",
    "import torch.optim as optim\n",
    "from models.agents import NFQAgent\n",
    "from models.networks import NFQNetwork, ContrastiveNFQNetwork\n",
    "from util import get_logger, load_models, make_reproducible, save_models\n",
    "import matplotlib.pyplot as plt\n",
    "import numpy as np\n",
    "import itertools\n",
    "import pandas as pd\n",
    "import pickle\n",
    "import math"
   ]
  },
  {
   "cell_type": "code",
   "execution_count": 3,
   "metadata": {},
   "outputs": [],
   "source": [
    "renal_test_tuples = pickle.load(open('mimic-iv_tuples/renal/renal_trainKtuples.pkl', 'rb'))\n",
    "renal_train_tuples = pickle.load(open('mimic-iv_tuples/renal/renal_testKtuples.pkl', 'rb'))\n",
    "regular_test_tuples = pickle.load(open('mimic-iv_tuples/renal/regular_trainKtuples.pkl', 'rb'))\n",
    "regular_train_tuples = pickle.load(open('mimic-iv_tuples/renal/regular_testKtuples.pkl', 'rb'))"
   ]
  },
  {
   "cell_type": "code",
   "execution_count": 4,
   "metadata": {},
   "outputs": [
    {
     "data": {
      "text/plain": [
       "123"
      ]
     },
     "execution_count": 4,
     "metadata": {},
     "output_type": "execute_result"
    }
   ],
   "source": [
    "len(list(set(renal_train_tuples['vnum']))) + len(list(set(renal_test_tuples['vnum'])))"
   ]
  },
  {
   "cell_type": "code",
   "execution_count": 5,
   "metadata": {},
   "outputs": [
    {
     "data": {
      "text/plain": [
       "3185"
      ]
     },
     "execution_count": 5,
     "metadata": {},
     "output_type": "execute_result"
    }
   ],
   "source": [
    "len(list(set(regular_train_tuples['vnum']))) + len(list(set(regular_test_tuples['vnum'])))"
   ]
  },
  {
   "cell_type": "raw",
   "metadata": {},
   "source": [
    "#Actions: 'none': 0, 'low2-iv': 0, 'low4-iv': 0, 'low6-iv': 0,'high1-iv': 0, 'high2-iv': 0, 'high3-iv': 0, 'low-po': 0, 'med-po': 0, 'high-po': 0\n",
    "sample_id = 20054471\n",
    "for action in female_test_tuples['a']:\n",
    "    if sum(action) != 1:\n",
    "        print(str(action))\n",
    "    else:\n",
    "        print(np.where(action==1))"
   ]
  },
  {
   "cell_type": "code",
   "execution_count": 6,
   "metadata": {},
   "outputs": [],
   "source": [
    "def generate_rollout(vnum, tuples, group=0):\n",
    "    trajectory = []\n",
    "    for i in range(len(tuples['vnum'])):\n",
    "        vn = tuples['vnum'][i]\n",
    "        if str(vn) == str(vnum):\n",
    "            s = tuples['s'][i]\n",
    "            a = tuples['a'][i]\n",
    "            if sum(a) > 1:\n",
    "                pass\n",
    "            a = np.where(a==1)[0][0]\n",
    "            if a == 0:\n",
    "                a = [0, 0]\n",
    "            elif a in [1, 2, 3, 7, 8]:\n",
    "                a = [0, 10]\n",
    "            else:\n",
    "                a = [10, 0]\n",
    "            ns = tuples['ns'][i]\n",
    "            r = tuples['r'][i]\n",
    "            \n",
    "            trajectory.append((s, a, r, ns, False, group))\n",
    "    \n",
    "    last_tuple = trajectory[-1]\n",
    "    new_last_tuple = (last_tuple[0], last_tuple[1], last_tuple[2], last_tuple[3], True, group)\n",
    "    trajectory = trajectory[:-1]\n",
    "    trajectory.append(new_last_tuple)\n",
    "    return trajectory\n",
    "\n",
    "def rollout_dataset(ds='train', env='bg', init_experience=1000):\n",
    "    if env == 'bg':\n",
    "        rollout = []\n",
    "        if ds == 'train':\n",
    "            for vnum in regular_train_tuples['vnum'][:init_experience]:\n",
    "                traj = generate_rollout(vnum, regular_train_tuples, group=0)\n",
    "                rollout.extend(traj)\n",
    "        elif ds == 'test':\n",
    "            for vnum in regular_test_tuples['vnum'][:init_experience]:\n",
    "                traj = generate_rollout(vnum, regular_test_tuples, group=0)\n",
    "                rollout.extend(traj)\n",
    "        return rollout\n",
    "    \n",
    "    elif env == 'fg':\n",
    "        rollout = []\n",
    "        if ds == 'train':\n",
    "            for vnum in renal_train_tuples['vnum'][:init_experience]:\n",
    "                traj = generate_rollout(vnum, renal_train_tuples, group=1)\n",
    "                rollout.extend(traj)\n",
    "        elif ds == 'test':\n",
    "            for vnum in renal_test_tuples['vnum'][:init_experience]:\n",
    "                traj = generate_rollout(vnum, renal_test_tuples, group=1)\n",
    "                rollout.extend(traj)\n",
    "        return rollout\n"
   ]
  },
  {
   "cell_type": "code",
   "execution_count": 7,
   "metadata": {},
   "outputs": [],
   "source": [
    "is_contrastive=True\n",
    "verbose = True\n",
    "init_experience = 750\n",
    "# A set of transition tuples. Male is background, female is foreground. \n",
    "bg_rollouts = rollout_dataset(ds='train', env='bg', init_experience=init_experience)\n",
    "fg_rollouts = rollout_dataset(ds='train', env='fg', init_experience=init_experience)\n",
    "\n",
    "bg_success_queue = [0] * 3\n",
    "fg_success_queue = [0] * 3\n",
    "bg_rollouts.extend(fg_rollouts)\n",
    "all_rollouts = bg_rollouts.copy()"
   ]
  },
  {
   "cell_type": "code",
   "execution_count": 8,
   "metadata": {},
   "outputs": [],
   "source": [
    "def normalize_rollouts(rollouts):\n",
    "    min_r = min([r[2] for r in rollouts])\n",
    "    max_r = max([r[2] for r in rollouts])\n",
    "    new_rollout = []\n",
    "    for r in rollouts:\n",
    "        new_reward = (r[2] - min_r)/(max_r - min_r)\n",
    "        new_rollout.append((r[0], r[1], new_reward, r[3], r[4], r[5]))\n",
    "    \n",
    "    sns.distplot([r[2] for r in new_rollout])\n",
    "    return new_rollout"
   ]
  },
  {
   "cell_type": "code",
   "execution_count": 9,
   "metadata": {},
   "outputs": [
    {
     "name": "stderr",
     "output_type": "stream",
     "text": [
      "/home/amandyam/.conda/envs/research/lib/python3.6/site-packages/seaborn/distributions.py:2551: FutureWarning: `distplot` is a deprecated function and will be removed in a future version. Please adapt your code to use either `displot` (a figure-level function with similar flexibility) or `histplot` (an axes-level function for histograms).\n",
      "  warnings.warn(msg, FutureWarning)\n"
     ]
    },
    {
     "data": {
      "image/png": "[encoded data removed]",
      "text/plain": [
       "<Figure size 432x288 with 1 Axes>"
      ]
     },
     "metadata": {
      "needs_background": "light"
     },
     "output_type": "display_data"
    }
   ],
   "source": [
    "all_rollouts = normalize_rollouts(all_rollouts)"
   ]
  },
  {
   "cell_type": "code",
   "execution_count": 10,
   "metadata": {},
   "outputs": [
    {
     "name": "stderr",
     "output_type": "stream",
     "text": [
      "/home/amandyam/.conda/envs/research/lib/python3.6/site-packages/seaborn/distributions.py:2551: FutureWarning: `distplot` is a deprecated function and will be removed in a future version. Please adapt your code to use either `displot` (a figure-level function with similar flexibility) or `histplot` (an axes-level function for histograms).\n",
      "  warnings.warn(msg, FutureWarning)\n"
     ]
    },
    {
     "data": {
      "text/plain": [
       "<AxesSubplot:ylabel='Density'>"
      ]
     },
     "execution_count": 10,
     "metadata": {},
     "output_type": "execute_result"
    },
    {
     "data": {
      "image/png": "[encoded data removed]",
      "text/plain": [
       "<Figure size 432x288 with 1 Axes>"
      ]
     },
     "metadata": {
      "needs_background": "light"
     },
     "output_type": "display_data"
    }
   ],
   "source": [
    "# See what the target q_values look like\n",
    "# Network has an impact on the q-values\n",
    "nfq_net = ContrastiveNFQNetwork(state_dim=63, is_contrastive=True)\n",
    "if is_contrastive:\n",
    "    optimizer = optim.SGD(itertools.chain(nfq_net.layers_shared.parameters(), nfq_net.layers_last_shared.parameters()), lr=1e-3)\n",
    "else:\n",
    "    optimizer = optim.SGD(nfq_net.parameters(), lr=5e-3)\n",
    "nfq_agent = NFQAgent(nfq_net, optimizer)\n",
    "state_action_b, target_q_values, groups = nfq_agent.generate_pattern_set(all_rollouts)\n",
    "sns.distplot(target_q_values)"
   ]
  },
  {
   "cell_type": "code",
   "execution_count": 11,
   "metadata": {},
   "outputs": [
    {
     "name": "stderr",
     "output_type": "stream",
     "text": [
      " 36%|███▋      | 728/2001 [39:00<27:33,  1.30s/it]  "
     ]
    },
    {
     "name": "stdout",
     "output_type": "stream",
     "text": [
      "BG Converged\n"
     ]
    },
    {
     "name": "stderr",
     "output_type": "stream",
     "text": [
      "\r",
      " 36%|███▋      | 729/2001 [39:01<27:29,  1.30s/it]"
     ]
    },
    {
     "name": "stdout",
     "output_type": "stream",
     "text": [
      "BG Converged\n"
     ]
    },
    {
     "name": "stderr",
     "output_type": "stream",
     "text": [
      "\r",
      " 36%|███▋      | 730/2001 [39:03<27:41,  1.31s/it]"
     ]
    },
    {
     "name": "stdout",
     "output_type": "stream",
     "text": [
      "BG Converged\n"
     ]
    },
    {
     "name": "stderr",
     "output_type": "stream",
     "text": [
      "\r",
      " 37%|███▋      | 731/2001 [39:04<27:29,  1.30s/it]"
     ]
    },
    {
     "name": "stdout",
     "output_type": "stream",
     "text": [
      "BG Converged\n"
     ]
    },
    {
     "name": "stderr",
     "output_type": "stream",
     "text": [
      "\r",
      " 37%|███▋      | 732/2001 [39:05<27:38,  1.31s/it]"
     ]
    },
    {
     "name": "stdout",
     "output_type": "stream",
     "text": [
      "BG Converged\n"
     ]
    },
    {
     "name": "stderr",
     "output_type": "stream",
     "text": [
      "\r",
      " 37%|███▋      | 733/2001 [39:06<27:16,  1.29s/it]"
     ]
    },
    {
     "name": "stdout",
     "output_type": "stream",
     "text": [
      "BG Converged\n"
     ]
    },
    {
     "name": "stderr",
     "output_type": "stream",
     "text": [
      "\r",
      " 37%|███▋      | 734/2001 [39:08<27:27,  1.30s/it]"
     ]
    },
    {
     "name": "stdout",
     "output_type": "stream",
     "text": [
      "BG Converged\n"
     ]
    },
    {
     "name": "stderr",
     "output_type": "stream",
     "text": [
      "\r",
      " 37%|███▋      | 735/2001 [39:09<27:36,  1.31s/it]"
     ]
    },
    {
     "name": "stdout",
     "output_type": "stream",
     "text": [
      "BG Converged\n"
     ]
    },
    {
     "name": "stderr",
     "output_type": "stream",
     "text": [
      "\r",
      " 37%|███▋      | 736/2001 [39:10<27:08,  1.29s/it]"
     ]
    },
    {
     "name": "stdout",
     "output_type": "stream",
     "text": [
      "BG Converged\n"
     ]
    },
    {
     "name": "stderr",
     "output_type": "stream",
     "text": [
      "\r",
      " 37%|███▋      | 737/2001 [39:12<27:29,  1.30s/it]"
     ]
    },
    {
     "name": "stdout",
     "output_type": "stream",
     "text": [
      "BG Converged\n"
     ]
    },
    {
     "name": "stderr",
     "output_type": "stream",
     "text": [
      "\r",
      " 37%|███▋      | 738/2001 [39:13<27:34,  1.31s/it]"
     ]
    },
    {
     "name": "stdout",
     "output_type": "stream",
     "text": [
      "BG Converged\n"
     ]
    },
    {
     "name": "stderr",
     "output_type": "stream",
     "text": [
      "\r",
      " 37%|███▋      | 739/2001 [39:14<26:59,  1.28s/it]"
     ]
    },
    {
     "name": "stdout",
     "output_type": "stream",
     "text": [
      "BG Converged\n"
     ]
    },
    {
     "name": "stderr",
     "output_type": "stream",
     "text": [
      "\r",
      " 37%|███▋      | 740/2001 [39:16<27:10,  1.29s/it]"
     ]
    },
    {
     "name": "stdout",
     "output_type": "stream",
     "text": [
      "BG Converged\n"
     ]
    },
    {
     "name": "stderr",
     "output_type": "stream",
     "text": [
      "\r",
      " 37%|███▋      | 741/2001 [39:17<26:45,  1.27s/it]"
     ]
    },
    {
     "name": "stdout",
     "output_type": "stream",
     "text": [
      "BG Converged\n"
     ]
    },
    {
     "name": "stderr",
     "output_type": "stream",
     "text": [
      "\r",
      " 37%|███▋      | 742/2001 [39:18<26:55,  1.28s/it]"
     ]
    },
    {
     "name": "stdout",
     "output_type": "stream",
     "text": [
      "BG Converged\n"
     ]
    },
    {
     "name": "stderr",
     "output_type": "stream",
     "text": [
      "\r",
      " 37%|███▋      | 743/2001 [39:19<26:32,  1.27s/it]"
     ]
    },
    {
     "name": "stdout",
     "output_type": "stream",
     "text": [
      "BG Converged\n"
     ]
    },
    {
     "name": "stderr",
     "output_type": "stream",
     "text": [
      "\r",
      " 37%|███▋      | 744/2001 [39:21<26:41,  1.27s/it]"
     ]
    },
    {
     "name": "stdout",
     "output_type": "stream",
     "text": [
      "BG Converged\n"
     ]
    },
    {
     "name": "stderr",
     "output_type": "stream",
     "text": [
      "\r",
      " 37%|███▋      | 745/2001 [39:22<26:55,  1.29s/it]"
     ]
    },
    {
     "name": "stdout",
     "output_type": "stream",
     "text": [
      "BG Converged\n"
     ]
    },
    {
     "name": "stderr",
     "output_type": "stream",
     "text": [
      "\r",
      " 37%|███▋      | 746/2001 [39:23<26:33,  1.27s/it]"
     ]
    },
    {
     "name": "stdout",
     "output_type": "stream",
     "text": [
      "BG Converged\n"
     ]
    },
    {
     "name": "stderr",
     "output_type": "stream",
     "text": [
      "\r",
      " 37%|███▋      | 747/2001 [39:24<26:45,  1.28s/it]"
     ]
    },
    {
     "name": "stdout",
     "output_type": "stream",
     "text": [
      "BG Converged\n"
     ]
    },
    {
     "name": "stderr",
     "output_type": "stream",
     "text": [
      "\r",
      " 37%|███▋      | 748/2001 [39:26<27:04,  1.30s/it]"
     ]
    },
    {
     "name": "stdout",
     "output_type": "stream",
     "text": [
      "BG Converged\n"
     ]
    },
    {
     "name": "stderr",
     "output_type": "stream",
     "text": [
      "\r",
      " 37%|███▋      | 749/2001 [39:27<26:40,  1.28s/it]"
     ]
    },
    {
     "name": "stdout",
     "output_type": "stream",
     "text": [
      "BG Converged\n"
     ]
    },
    {
     "name": "stderr",
     "output_type": "stream",
     "text": [
      "\r",
      " 37%|███▋      | 750/2001 [39:28<26:55,  1.29s/it]"
     ]
    },
    {
     "name": "stdout",
     "output_type": "stream",
     "text": [
      "BG Converged\n"
     ]
    },
    {
     "name": "stderr",
     "output_type": "stream",
     "text": [
      "\r",
      " 38%|███▊      | 751/2001 [39:30<26:27,  1.27s/it]"
     ]
    },
    {
     "name": "stdout",
     "output_type": "stream",
     "text": [
      "BG Converged\n"
     ]
    },
    {
     "name": "stderr",
     "output_type": "stream",
     "text": [
      "\r",
      " 38%|███▊      | 752/2001 [39:31<26:38,  1.28s/it]"
     ]
    },
    {
     "name": "stdout",
     "output_type": "stream",
     "text": [
      "BG Converged\n"
     ]
    },
    {
     "name": "stderr",
     "output_type": "stream",
     "text": [
      "\r",
      " 38%|███▊      | 753/2001 [39:32<26:29,  1.27s/it]"
     ]
    },
    {
     "name": "stdout",
     "output_type": "stream",
     "text": [
      "BG Converged\n"
     ]
    },
    {
     "name": "stderr",
     "output_type": "stream",
     "text": [
      "\r",
      " 38%|███▊      | 754/2001 [39:33<26:40,  1.28s/it]"
     ]
    },
    {
     "name": "stdout",
     "output_type": "stream",
     "text": [
      "BG Converged\n"
     ]
    },
    {
     "name": "stderr",
     "output_type": "stream",
     "text": [
      "\r",
      " 38%|███▊      | 755/2001 [39:35<26:44,  1.29s/it]"
     ]
    },
    {
     "name": "stdout",
     "output_type": "stream",
     "text": [
      "BG Converged\n"
     ]
    },
    {
     "name": "stderr",
     "output_type": "stream",
     "text": [
      "\r",
      " 38%|███▊      | 756/2001 [39:36<26:25,  1.27s/it]"
     ]
    },
    {
     "name": "stdout",
     "output_type": "stream",
     "text": [
      "BG Converged\n"
     ]
    },
    {
     "name": "stderr",
     "output_type": "stream",
     "text": [
      "\r",
      " 38%|███▊      | 757/2001 [39:37<26:35,  1.28s/it]"
     ]
    },
    {
     "name": "stdout",
     "output_type": "stream",
     "text": [
      "BG Converged\n",
      "FREEZING SHARED\n"
     ]
    },
    {
     "name": "stderr",
     "output_type": "stream",
     "text": [
      "\r",
      " 38%|███▊      | 758/2001 [39:39<26:39,  1.29s/it]"
     ]
    },
    {
     "name": "stdout",
     "output_type": "stream",
     "text": [
      "BG Converged\n"
     ]
    },
    {
     "name": "stderr",
     "output_type": "stream",
     "text": [
      "\r",
      " 38%|███▊      | 759/2001 [39:40<26:15,  1.27s/it]"
     ]
    },
    {
     "name": "stdout",
     "output_type": "stream",
     "text": [
      "BG Converged\n"
     ]
    },
    {
     "name": "stderr",
     "output_type": "stream",
     "text": [
      "\r",
      " 38%|███▊      | 760/2001 [39:41<26:30,  1.28s/it]"
     ]
    },
    {
     "name": "stdout",
     "output_type": "stream",
     "text": [
      "BG Converged\n"
     ]
    },
    {
     "name": "stderr",
     "output_type": "stream",
     "text": [
      "\r",
      " 38%|███▊      | 761/2001 [39:42<26:11,  1.27s/it]"
     ]
    },
    {
     "name": "stdout",
     "output_type": "stream",
     "text": [
      "BG Converged\n"
     ]
    },
    {
     "name": "stderr",
     "output_type": "stream",
     "text": [
      "\r",
      " 38%|███▊      | 762/2001 [39:44<26:33,  1.29s/it]"
     ]
    },
    {
     "name": "stdout",
     "output_type": "stream",
     "text": [
      "BG Converged\n"
     ]
    },
    {
     "name": "stderr",
     "output_type": "stream",
     "text": [
      "\r",
      " 38%|███▊      | 763/2001 [39:45<26:16,  1.27s/it]"
     ]
    },
    {
     "name": "stdout",
     "output_type": "stream",
     "text": [
      "BG Converged\n"
     ]
    },
    {
     "name": "stderr",
     "output_type": "stream",
     "text": [
      "\r",
      " 38%|███▊      | 764/2001 [39:46<26:28,  1.28s/it]"
     ]
    },
    {
     "name": "stdout",
     "output_type": "stream",
     "text": [
      "BG Converged\n"
     ]
    },
    {
     "name": "stderr",
     "output_type": "stream",
     "text": [
      "\r",
      " 38%|███▊      | 765/2001 [39:48<26:46,  1.30s/it]"
     ]
    },
    {
     "name": "stdout",
     "output_type": "stream",
     "text": [
      "BG Converged\n"
     ]
    },
    {
     "name": "stderr",
     "output_type": "stream",
     "text": [
      "\r",
      " 38%|███▊      | 766/2001 [39:49<26:23,  1.28s/it]"
     ]
    },
    {
     "name": "stdout",
     "output_type": "stream",
     "text": [
      "BG Converged\n"
     ]
    },
    {
     "name": "stderr",
     "output_type": "stream",
     "text": [
      "\r",
      " 38%|███▊      | 767/2001 [39:50<26:36,  1.29s/it]"
     ]
    },
    {
     "name": "stdout",
     "output_type": "stream",
     "text": [
      "BG Converged\n"
     ]
    },
    {
     "name": "stderr",
     "output_type": "stream",
     "text": [
      "\r",
      " 38%|███▊      | 768/2001 [39:51<26:46,  1.30s/it]"
     ]
    },
    {
     "name": "stdout",
     "output_type": "stream",
     "text": [
      "BG Converged\n"
     ]
    },
    {
     "name": "stderr",
     "output_type": "stream",
     "text": [
      "\r",
      " 38%|███▊      | 769/2001 [39:53<26:19,  1.28s/it]"
     ]
    },
    {
     "name": "stdout",
     "output_type": "stream",
     "text": [
      "BG Converged\n"
     ]
    },
    {
     "name": "stderr",
     "output_type": "stream",
     "text": [
      "\r",
      " 38%|███▊      | 770/2001 [39:54<26:35,  1.30s/it]"
     ]
    },
    {
     "name": "stdout",
     "output_type": "stream",
     "text": [
      "BG Converged\n"
     ]
    },
    {
     "name": "stderr",
     "output_type": "stream",
     "text": [
      "\r",
      " 39%|███▊      | 771/2001 [39:55<26:12,  1.28s/it]"
     ]
    },
    {
     "name": "stdout",
     "output_type": "stream",
     "text": [
      "BG Converged\n"
     ]
    },
    {
     "name": "stderr",
     "output_type": "stream",
     "text": [
      "\r",
      " 39%|███▊      | 772/2001 [39:57<26:23,  1.29s/it]"
     ]
    },
    {
     "name": "stdout",
     "output_type": "stream",
     "text": [
      "BG Converged\n"
     ]
    },
    {
     "name": "stderr",
     "output_type": "stream",
     "text": [
      "\r",
      " 39%|███▊      | 773/2001 [39:58<26:05,  1.28s/it]"
     ]
    },
    {
     "name": "stdout",
     "output_type": "stream",
     "text": [
      "BG Converged\n"
     ]
    },
    {
     "name": "stderr",
     "output_type": "stream",
     "text": [
      "\r",
      " 39%|███▊      | 774/2001 [39:59<26:21,  1.29s/it]"
     ]
    },
    {
     "name": "stdout",
     "output_type": "stream",
     "text": [
      "BG Converged\n"
     ]
    },
    {
     "name": "stderr",
     "output_type": "stream",
     "text": [
      "\r",
      " 39%|███▊      | 775/2001 [40:00<26:33,  1.30s/it]"
     ]
    },
    {
     "name": "stdout",
     "output_type": "stream",
     "text": [
      "BG Converged\n"
     ]
    },
    {
     "name": "stderr",
     "output_type": "stream",
     "text": [
      "\r",
      " 39%|███▉      | 776/2001 [40:02<26:23,  1.29s/it]"
     ]
    },
    {
     "name": "stdout",
     "output_type": "stream",
     "text": [
      "BG Converged\n"
     ]
    },
    {
     "name": "stderr",
     "output_type": "stream",
     "text": [
      "\r",
      " 39%|███▉      | 777/2001 [40:03<26:37,  1.31s/it]"
     ]
    },
    {
     "name": "stdout",
     "output_type": "stream",
     "text": [
      "BG Converged\n"
     ]
    },
    {
     "name": "stderr",
     "output_type": "stream",
     "text": [
      "\r",
      " 39%|███▉      | 778/2001 [40:04<26:43,  1.31s/it]"
     ]
    },
    {
     "name": "stdout",
     "output_type": "stream",
     "text": [
      "BG Converged\n"
     ]
    },
    {
     "name": "stderr",
     "output_type": "stream",
     "text": [
      "\r",
      " 39%|███▉      | 779/2001 [40:06<26:12,  1.29s/it]"
     ]
    },
    {
     "name": "stdout",
     "output_type": "stream",
     "text": [
      "BG Converged\n"
     ]
    },
    {
     "name": "stderr",
     "output_type": "stream",
     "text": [
      "\r",
      " 39%|███▉      | 780/2001 [40:07<26:14,  1.29s/it]"
     ]
    },
    {
     "name": "stdout",
     "output_type": "stream",
     "text": [
      "BG Converged\n"
     ]
    },
    {
     "name": "stderr",
     "output_type": "stream",
     "text": [
      "\r",
      " 39%|███▉      | 781/2001 [40:08<25:51,  1.27s/it]"
     ]
    },
    {
     "name": "stdout",
     "output_type": "stream",
     "text": [
      "BG Converged\n"
     ]
    },
    {
     "name": "stderr",
     "output_type": "stream",
     "text": [
      "\r",
      " 39%|███▉      | 782/2001 [40:09<26:05,  1.28s/it]"
     ]
    },
    {
     "name": "stdout",
     "output_type": "stream",
     "text": [
      "BG Converged\n"
     ]
    },
    {
     "name": "stderr",
     "output_type": "stream",
     "text": [
      "\r",
      " 39%|███▉      | 783/2001 [40:11<25:39,  1.26s/it]"
     ]
    },
    {
     "name": "stdout",
     "output_type": "stream",
     "text": [
      "BG Converged\n"
     ]
    },
    {
     "name": "stderr",
     "output_type": "stream",
     "text": [
      "\r",
      " 39%|███▉      | 784/2001 [40:12<25:55,  1.28s/it]"
     ]
    },
    {
     "name": "stdout",
     "output_type": "stream",
     "text": [
      "BG Converged\n"
     ]
    },
    {
     "name": "stderr",
     "output_type": "stream",
     "text": [
      "\r",
      " 39%|███▉      | 785/2001 [40:13<26:13,  1.29s/it]"
     ]
    },
    {
     "name": "stdout",
     "output_type": "stream",
     "text": [
      "BG Converged\n"
     ]
    },
    {
     "name": "stderr",
     "output_type": "stream",
     "text": [
      "\r",
      " 39%|███▉      | 786/2001 [40:15<25:43,  1.27s/it]"
     ]
    },
    {
     "name": "stdout",
     "output_type": "stream",
     "text": [
      "BG Converged\n"
     ]
    },
    {
     "name": "stderr",
     "output_type": "stream",
     "text": [
      "\r",
      " 39%|███▉      | 787/2001 [40:16<25:52,  1.28s/it]"
     ]
    },
    {
     "name": "stdout",
     "output_type": "stream",
     "text": [
      "BG Converged\n"
     ]
    },
    {
     "name": "stderr",
     "output_type": "stream",
     "text": [
      "\r",
      " 39%|███▉      | 788/2001 [40:17<26:05,  1.29s/it]"
     ]
    },
    {
     "name": "stdout",
     "output_type": "stream",
     "text": [
      "BG Converged\n"
     ]
    },
    {
     "name": "stderr",
     "output_type": "stream",
     "text": [
      "\r",
      " 39%|███▉      | 789/2001 [40:18<25:41,  1.27s/it]"
     ]
    },
    {
     "name": "stdout",
     "output_type": "stream",
     "text": [
      "BG Converged\n"
     ]
    },
    {
     "name": "stderr",
     "output_type": "stream",
     "text": [
      "\r",
      " 39%|███▉      | 790/2001 [40:20<25:52,  1.28s/it]"
     ]
    },
    {
     "name": "stdout",
     "output_type": "stream",
     "text": [
      "BG Converged\n"
     ]
    },
    {
     "name": "stderr",
     "output_type": "stream",
     "text": [
      "\r",
      " 40%|███▉      | 791/2001 [40:21<25:18,  1.25s/it]"
     ]
    },
    {
     "name": "stdout",
     "output_type": "stream",
     "text": [
      "BG Converged\n"
     ]
    },
    {
     "name": "stderr",
     "output_type": "stream",
     "text": [
      "\r",
      " 40%|███▉      | 792/2001 [40:22<25:22,  1.26s/it]"
     ]
    },
    {
     "name": "stdout",
     "output_type": "stream",
     "text": [
      "BG Converged\n"
     ]
    },
    {
     "name": "stderr",
     "output_type": "stream",
     "text": [
      "\r",
      " 40%|███▉      | 793/2001 [40:23<25:02,  1.24s/it]"
     ]
    },
    {
     "name": "stdout",
     "output_type": "stream",
     "text": [
      "BG Converged\n"
     ]
    },
    {
     "name": "stderr",
     "output_type": "stream",
     "text": [
      "\r",
      " 40%|███▉      | 794/2001 [40:25<25:21,  1.26s/it]"
     ]
    },
    {
     "name": "stdout",
     "output_type": "stream",
     "text": [
      "BG Converged\n"
     ]
    },
    {
     "name": "stderr",
     "output_type": "stream",
     "text": [
      "\r",
      " 40%|███▉      | 795/2001 [40:26<25:35,  1.27s/it]"
     ]
    },
    {
     "name": "stdout",
     "output_type": "stream",
     "text": [
      "BG Converged\n"
     ]
    },
    {
     "name": "stderr",
     "output_type": "stream",
     "text": [
      "\r",
      " 40%|███▉      | 796/2001 [40:27<25:17,  1.26s/it]"
     ]
    },
    {
     "name": "stdout",
     "output_type": "stream",
     "text": [
      "BG Converged\n"
     ]
    },
    {
     "name": "stderr",
     "output_type": "stream",
     "text": [
      "\r",
      " 40%|███▉      | 797/2001 [40:28<25:36,  1.28s/it]"
     ]
    },
    {
     "name": "stdout",
     "output_type": "stream",
     "text": [
      "BG Converged\n"
     ]
    },
    {
     "name": "stderr",
     "output_type": "stream",
     "text": [
      "\r",
      " 40%|███▉      | 798/2001 [40:30<25:47,  1.29s/it]"
     ]
    },
    {
     "name": "stdout",
     "output_type": "stream",
     "text": [
      "BG Converged\n"
     ]
    },
    {
     "name": "stderr",
     "output_type": "stream",
     "text": [
      "\r",
      " 40%|███▉      | 799/2001 [40:31<25:42,  1.28s/it]"
     ]
    },
    {
     "name": "stdout",
     "output_type": "stream",
     "text": [
      "BG Converged\n"
     ]
    },
    {
     "name": "stderr",
     "output_type": "stream",
     "text": [
      "\r",
      " 40%|███▉      | 800/2001 [40:32<25:53,  1.29s/it]"
     ]
    },
    {
     "name": "stdout",
     "output_type": "stream",
     "text": [
      "BG Converged\n"
     ]
    },
    {
     "name": "stderr",
     "output_type": "stream",
     "text": [
      "\r",
      " 40%|████      | 801/2001 [40:34<25:27,  1.27s/it]"
     ]
    },
    {
     "name": "stdout",
     "output_type": "stream",
     "text": [
      "BG Converged\n"
     ]
    },
    {
     "name": "stderr",
     "output_type": "stream",
     "text": [
      "\r",
      " 40%|████      | 802/2001 [40:35<25:45,  1.29s/it]"
     ]
    },
    {
     "name": "stdout",
     "output_type": "stream",
     "text": [
      "BG Converged\n"
     ]
    },
    {
     "name": "stderr",
     "output_type": "stream",
     "text": [
      "\r",
      " 40%|████      | 803/2001 [40:36<25:21,  1.27s/it]"
     ]
    },
    {
     "name": "stdout",
     "output_type": "stream",
     "text": [
      "BG Converged\n"
     ]
    },
    {
     "name": "stderr",
     "output_type": "stream",
     "text": [
      "\r",
      " 40%|████      | 804/2001 [40:37<25:25,  1.27s/it]"
     ]
    },
    {
     "name": "stdout",
     "output_type": "stream",
     "text": [
      "BG Converged\n"
     ]
    },
    {
     "name": "stderr",
     "output_type": "stream",
     "text": [
      "\r",
      " 40%|████      | 805/2001 [40:39<25:38,  1.29s/it]"
     ]
    },
    {
     "name": "stdout",
     "output_type": "stream",
     "text": [
      "BG Converged\n"
     ]
    },
    {
     "name": "stderr",
     "output_type": "stream",
     "text": [
      "\r",
      " 40%|████      | 806/2001 [40:40<25:18,  1.27s/it]"
     ]
    },
    {
     "name": "stdout",
     "output_type": "stream",
     "text": [
      "BG Converged\n"
     ]
    },
    {
     "name": "stderr",
     "output_type": "stream",
     "text": [
      "\r",
      " 40%|████      | 807/2001 [40:41<25:33,  1.28s/it]"
     ]
    },
    {
     "name": "stdout",
     "output_type": "stream",
     "text": [
      "BG Converged\n"
     ]
    },
    {
     "name": "stderr",
     "output_type": "stream",
     "text": [
      "\r",
      " 40%|████      | 808/2001 [40:43<25:46,  1.30s/it]"
     ]
    },
    {
     "name": "stdout",
     "output_type": "stream",
     "text": [
      "BG Converged\n"
     ]
    },
    {
     "name": "stderr",
     "output_type": "stream",
     "text": [
      "\r",
      " 40%|████      | 809/2001 [40:44<25:24,  1.28s/it]"
     ]
    },
    {
     "name": "stdout",
     "output_type": "stream",
     "text": [
      "BG Converged\n"
     ]
    },
    {
     "name": "stderr",
     "output_type": "stream",
     "text": [
      "\r",
      " 40%|████      | 810/2001 [40:45<25:31,  1.29s/it]"
     ]
    },
    {
     "name": "stdout",
     "output_type": "stream",
     "text": [
      "BG Converged\n"
     ]
    },
    {
     "name": "stderr",
     "output_type": "stream",
     "text": [
      "\r",
      " 41%|████      | 811/2001 [40:46<25:13,  1.27s/it]"
     ]
    },
    {
     "name": "stdout",
     "output_type": "stream",
     "text": [
      "BG Converged\n"
     ]
    },
    {
     "name": "stderr",
     "output_type": "stream",
     "text": [
      "\r",
      " 41%|████      | 812/2001 [40:48<25:28,  1.29s/it]"
     ]
    },
    {
     "name": "stdout",
     "output_type": "stream",
     "text": [
      "BG Converged\n"
     ]
    },
    {
     "name": "stderr",
     "output_type": "stream",
     "text": [
      "\r",
      " 41%|████      | 813/2001 [40:49<25:03,  1.27s/it]"
     ]
    },
    {
     "name": "stdout",
     "output_type": "stream",
     "text": [
      "BG Converged\n"
     ]
    },
    {
     "name": "stderr",
     "output_type": "stream",
     "text": [
      "\r",
      " 41%|████      | 814/2001 [40:50<25:13,  1.27s/it]"
     ]
    },
    {
     "name": "stdout",
     "output_type": "stream",
     "text": [
      "BG Converged\n"
     ]
    },
    {
     "name": "stderr",
     "output_type": "stream",
     "text": [
      "\r",
      " 41%|████      | 815/2001 [40:52<25:24,  1.29s/it]"
     ]
    },
    {
     "name": "stdout",
     "output_type": "stream",
     "text": [
      "BG Converged\n"
     ]
    },
    {
     "name": "stderr",
     "output_type": "stream",
     "text": [
      "\r",
      " 41%|████      | 816/2001 [40:53<25:00,  1.27s/it]"
     ]
    },
    {
     "name": "stdout",
     "output_type": "stream",
     "text": [
      "BG Converged\n"
     ]
    },
    {
     "name": "stderr",
     "output_type": "stream",
     "text": [
      "\r",
      " 41%|████      | 817/2001 [40:54<25:26,  1.29s/it]"
     ]
    },
    {
     "name": "stdout",
     "output_type": "stream",
     "text": [
      "BG Converged\n"
     ]
    },
    {
     "name": "stderr",
     "output_type": "stream",
     "text": [
      "\r",
      " 41%|████      | 818/2001 [40:55<25:47,  1.31s/it]"
     ]
    },
    {
     "name": "stdout",
     "output_type": "stream",
     "text": [
      "BG Converged\n"
     ]
    },
    {
     "name": "stderr",
     "output_type": "stream",
     "text": [
      "\r",
      " 41%|████      | 819/2001 [40:57<25:29,  1.29s/it]"
     ]
    },
    {
     "name": "stdout",
     "output_type": "stream",
     "text": [
      "BG Converged\n"
     ]
    },
    {
     "name": "stderr",
     "output_type": "stream",
     "text": [
      "\r",
      " 41%|████      | 820/2001 [40:58<25:36,  1.30s/it]"
     ]
    },
    {
     "name": "stdout",
     "output_type": "stream",
     "text": [
      "BG Converged\n"
     ]
    },
    {
     "name": "stderr",
     "output_type": "stream",
     "text": [
      "\r",
      " 41%|████      | 821/2001 [40:59<25:17,  1.29s/it]"
     ]
    },
    {
     "name": "stdout",
     "output_type": "stream",
     "text": [
      "BG Converged\n"
     ]
    },
    {
     "name": "stderr",
     "output_type": "stream",
     "text": [
      "\r",
      " 41%|████      | 822/2001 [41:01<25:40,  1.31s/it]"
     ]
    },
    {
     "name": "stdout",
     "output_type": "stream",
     "text": [
      "BG Converged\n"
     ]
    },
    {
     "name": "stderr",
     "output_type": "stream",
     "text": [
      " 45%|████▌     | 904/2001 [42:47<23:34,  1.29s/it]"
     ]
    },
    {
     "name": "stdout",
     "output_type": "stream",
     "text": [
      "BG Converged\n"
     ]
    },
    {
     "name": "stderr",
     "output_type": "stream",
     "text": [
      "\r",
      " 45%|████▌     | 905/2001 [42:49<23:43,  1.30s/it]"
     ]
    },
    {
     "name": "stdout",
     "output_type": "stream",
     "text": [
      "BG Converged\n"
     ]
    },
    {
     "name": "stderr",
     "output_type": "stream",
     "text": [
      "\r",
      " 45%|████▌     | 906/2001 [42:50<23:16,  1.28s/it]"
     ]
    },
    {
     "name": "stdout",
     "output_type": "stream",
     "text": [
      "BG Converged\n"
     ]
    },
    {
     "name": "stderr",
     "output_type": "stream",
     "text": [
      "\r",
      " 45%|████▌     | 907/2001 [42:51<23:28,  1.29s/it]"
     ]
    },
    {
     "name": "stdout",
     "output_type": "stream",
     "text": [
      "BG Converged\n"
     ]
    },
    {
     "name": "stderr",
     "output_type": "stream",
     "text": [
      "\r",
      " 45%|████▌     | 908/2001 [42:52<23:39,  1.30s/it]"
     ]
    },
    {
     "name": "stdout",
     "output_type": "stream",
     "text": [
      "BG Converged\n"
     ]
    },
    {
     "name": "stderr",
     "output_type": "stream",
     "text": [
      "\r",
      " 45%|████▌     | 909/2001 [42:54<23:29,  1.29s/it]"
     ]
    },
    {
     "name": "stdout",
     "output_type": "stream",
     "text": [
      "BG Converged\n"
     ]
    },
    {
     "name": "stderr",
     "output_type": "stream",
     "text": [
      "\r",
      " 45%|████▌     | 910/2001 [42:55<23:52,  1.31s/it]"
     ]
    },
    {
     "name": "stdout",
     "output_type": "stream",
     "text": [
      "BG Converged\n"
     ]
    },
    {
     "name": "stderr",
     "output_type": "stream",
     "text": [
      "\r",
      " 46%|████▌     | 911/2001 [42:56<23:36,  1.30s/it]"
     ]
    },
    {
     "name": "stdout",
     "output_type": "stream",
     "text": [
      "BG Converged\n"
     ]
    },
    {
     "name": "stderr",
     "output_type": "stream",
     "text": [
      "\r",
      " 46%|████▌     | 912/2001 [42:58<23:47,  1.31s/it]"
     ]
    },
    {
     "name": "stdout",
     "output_type": "stream",
     "text": [
      "BG Converged\n"
     ]
    },
    {
     "name": "stderr",
     "output_type": "stream",
     "text": [
      "\r",
      " 46%|████▌     | 913/2001 [42:59<23:21,  1.29s/it]"
     ]
    },
    {
     "name": "stdout",
     "output_type": "stream",
     "text": [
      "BG Converged\n"
     ]
    },
    {
     "name": "stderr",
     "output_type": "stream",
     "text": [
      "\r",
      " 46%|████▌     | 914/2001 [43:00<23:33,  1.30s/it]"
     ]
    },
    {
     "name": "stdout",
     "output_type": "stream",
     "text": [
      "BG Converged\n"
     ]
    },
    {
     "name": "stderr",
     "output_type": "stream",
     "text": [
      "\r",
      " 46%|████▌     | 915/2001 [43:02<23:48,  1.32s/it]"
     ]
    },
    {
     "name": "stdout",
     "output_type": "stream",
     "text": [
      "BG Converged\n"
     ]
    },
    {
     "name": "stderr",
     "output_type": "stream",
     "text": [
      "\r",
      " 46%|████▌     | 916/2001 [43:03<23:22,  1.29s/it]"
     ]
    },
    {
     "name": "stdout",
     "output_type": "stream",
     "text": [
      "BG Converged\n"
     ]
    },
    {
     "name": "stderr",
     "output_type": "stream",
     "text": [
      "\r",
      " 46%|████▌     | 917/2001 [43:04<23:23,  1.29s/it]"
     ]
    },
    {
     "name": "stdout",
     "output_type": "stream",
     "text": [
      "BG Converged\n"
     ]
    },
    {
     "name": "stderr",
     "output_type": "stream",
     "text": [
      "\r",
      " 46%|████▌     | 918/2001 [43:05<23:26,  1.30s/it]"
     ]
    },
    {
     "name": "stdout",
     "output_type": "stream",
     "text": [
      "BG Converged\n"
     ]
    },
    {
     "name": "stderr",
     "output_type": "stream",
     "text": [
      "\r",
      " 46%|████▌     | 919/2001 [43:07<22:57,  1.27s/it]"
     ]
    },
    {
     "name": "stdout",
     "output_type": "stream",
     "text": [
      "BG Converged\n"
     ]
    },
    {
     "name": "stderr",
     "output_type": "stream",
     "text": [
      "\r",
      " 46%|████▌     | 920/2001 [43:08<23:10,  1.29s/it]"
     ]
    },
    {
     "name": "stdout",
     "output_type": "stream",
     "text": [
      "BG Converged\n"
     ]
    },
    {
     "name": "stderr",
     "output_type": "stream",
     "text": [
      "\r",
      " 46%|████▌     | 921/2001 [43:09<22:49,  1.27s/it]"
     ]
    },
    {
     "name": "stdout",
     "output_type": "stream",
     "text": [
      "BG Converged\n"
     ]
    },
    {
     "name": "stderr",
     "output_type": "stream",
     "text": [
      "\r",
      " 46%|████▌     | 922/2001 [43:10<23:03,  1.28s/it]"
     ]
    },
    {
     "name": "stdout",
     "output_type": "stream",
     "text": [
      "BG Converged\n"
     ]
    },
    {
     "name": "stderr",
     "output_type": "stream",
     "text": [
      "\r",
      " 46%|████▌     | 923/2001 [43:12<22:45,  1.27s/it]"
     ]
    },
    {
     "name": "stdout",
     "output_type": "stream",
     "text": [
      "BG Converged\n"
     ]
    },
    {
     "name": "stderr",
     "output_type": "stream",
     "text": [
      "\r",
      " 46%|████▌     | 924/2001 [43:13<22:58,  1.28s/it]"
     ]
    },
    {
     "name": "stdout",
     "output_type": "stream",
     "text": [
      "BG Converged\n"
     ]
    },
    {
     "name": "stderr",
     "output_type": "stream",
     "text": [
      "\r",
      " 46%|████▌     | 925/2001 [43:14<23:11,  1.29s/it]"
     ]
    },
    {
     "name": "stdout",
     "output_type": "stream",
     "text": [
      "BG Converged\n"
     ]
    },
    {
     "name": "stderr",
     "output_type": "stream",
     "text": [
      "\r",
      " 46%|████▋     | 926/2001 [43:16<22:45,  1.27s/it]"
     ]
    },
    {
     "name": "stdout",
     "output_type": "stream",
     "text": [
      "BG Converged\n"
     ]
    },
    {
     "name": "stderr",
     "output_type": "stream",
     "text": [
      "\r",
      " 46%|████▋     | 927/2001 [43:17<22:53,  1.28s/it]"
     ]
    },
    {
     "name": "stdout",
     "output_type": "stream",
     "text": [
      "BG Converged\n"
     ]
    },
    {
     "name": "stderr",
     "output_type": "stream",
     "text": [
      "\r",
      " 46%|████▋     | 928/2001 [43:18<23:04,  1.29s/it]"
     ]
    },
    {
     "name": "stdout",
     "output_type": "stream",
     "text": [
      "BG Converged\n"
     ]
    },
    {
     "name": "stderr",
     "output_type": "stream",
     "text": [
      "\r",
      " 46%|████▋     | 929/2001 [43:19<22:40,  1.27s/it]"
     ]
    },
    {
     "name": "stdout",
     "output_type": "stream",
     "text": [
      "BG Converged\n"
     ]
    },
    {
     "name": "stderr",
     "output_type": "stream",
     "text": [
      "\r",
      " 46%|████▋     | 930/2001 [43:21<22:50,  1.28s/it]"
     ]
    },
    {
     "name": "stdout",
     "output_type": "stream",
     "text": [
      "BG Converged\n"
     ]
    },
    {
     "name": "stderr",
     "output_type": "stream",
     "text": [
      "\r",
      " 47%|████▋     | 931/2001 [43:22<22:30,  1.26s/it]"
     ]
    },
    {
     "name": "stdout",
     "output_type": "stream",
     "text": [
      "BG Converged\n"
     ]
    },
    {
     "name": "stderr",
     "output_type": "stream",
     "text": [
      "\r",
      " 47%|████▋     | 932/2001 [43:23<22:43,  1.28s/it]"
     ]
    },
    {
     "name": "stdout",
     "output_type": "stream",
     "text": [
      "BG Converged\n"
     ]
    },
    {
     "name": "stderr",
     "output_type": "stream",
     "text": [
      "\r",
      " 47%|████▋     | 933/2001 [43:24<22:30,  1.26s/it]"
     ]
    },
    {
     "name": "stdout",
     "output_type": "stream",
     "text": [
      "BG Converged\n"
     ]
    },
    {
     "name": "stderr",
     "output_type": "stream",
     "text": [
      "\r",
      " 47%|████▋     | 934/2001 [43:26<22:50,  1.28s/it]"
     ]
    },
    {
     "name": "stdout",
     "output_type": "stream",
     "text": [
      "BG Converged\n"
     ]
    },
    {
     "name": "stderr",
     "output_type": "stream",
     "text": [
      "\r",
      " 47%|████▋     | 935/2001 [43:27<23:00,  1.29s/it]"
     ]
    },
    {
     "name": "stdout",
     "output_type": "stream",
     "text": [
      "BG Converged\n"
     ]
    },
    {
     "name": "stderr",
     "output_type": "stream",
     "text": [
      "\r",
      " 47%|████▋     | 936/2001 [43:28<22:34,  1.27s/it]"
     ]
    },
    {
     "name": "stdout",
     "output_type": "stream",
     "text": [
      "BG Converged\n"
     ]
    },
    {
     "name": "stderr",
     "output_type": "stream",
     "text": [
      "\r",
      " 47%|████▋     | 937/2001 [43:30<22:51,  1.29s/it]"
     ]
    },
    {
     "name": "stdout",
     "output_type": "stream",
     "text": [
      "BG Converged\n"
     ]
    },
    {
     "name": "stderr",
     "output_type": "stream",
     "text": [
      "\r",
      " 47%|████▋     | 938/2001 [43:31<23:14,  1.31s/it]"
     ]
    },
    {
     "name": "stdout",
     "output_type": "stream",
     "text": [
      "BG Converged\n"
     ]
    },
    {
     "name": "stderr",
     "output_type": "stream",
     "text": [
      "\r",
      " 47%|████▋     | 939/2001 [43:32<22:46,  1.29s/it]"
     ]
    },
    {
     "name": "stdout",
     "output_type": "stream",
     "text": [
      "BG Converged\n"
     ]
    },
    {
     "name": "stderr",
     "output_type": "stream",
     "text": [
      "\r",
      " 47%|████▋     | 940/2001 [43:34<22:53,  1.29s/it]"
     ]
    },
    {
     "name": "stdout",
     "output_type": "stream",
     "text": [
      "BG Converged\n"
     ]
    },
    {
     "name": "stderr",
     "output_type": "stream",
     "text": [
      "\r",
      " 47%|████▋     | 941/2001 [43:35<22:33,  1.28s/it]"
     ]
    },
    {
     "name": "stdout",
     "output_type": "stream",
     "text": [
      "BG Converged\n"
     ]
    },
    {
     "name": "stderr",
     "output_type": "stream",
     "text": [
      "\r",
      " 47%|████▋     | 942/2001 [43:36<22:37,  1.28s/it]"
     ]
    },
    {
     "name": "stdout",
     "output_type": "stream",
     "text": [
      "BG Converged\n"
     ]
    },
    {
     "name": "stderr",
     "output_type": "stream",
     "text": [
      "\r",
      " 47%|████▋     | 943/2001 [43:37<22:18,  1.27s/it]"
     ]
    },
    {
     "name": "stdout",
     "output_type": "stream",
     "text": [
      "BG Converged\n"
     ]
    },
    {
     "name": "stderr",
     "output_type": "stream",
     "text": [
      "\r",
      " 47%|████▋     | 944/2001 [43:39<22:32,  1.28s/it]"
     ]
    },
    {
     "name": "stdout",
     "output_type": "stream",
     "text": [
      "BG Converged\n"
     ]
    },
    {
     "name": "stderr",
     "output_type": "stream",
     "text": [
      "\r",
      " 47%|████▋     | 945/2001 [43:40<22:41,  1.29s/it]"
     ]
    },
    {
     "name": "stdout",
     "output_type": "stream",
     "text": [
      "BG Converged\n"
     ]
    },
    {
     "name": "stderr",
     "output_type": "stream",
     "text": [
      "\r",
      " 47%|████▋     | 946/2001 [43:41<22:15,  1.27s/it]"
     ]
    },
    {
     "name": "stdout",
     "output_type": "stream",
     "text": [
      "BG Converged\n"
     ]
    },
    {
     "name": "stderr",
     "output_type": "stream",
     "text": [
      "\r",
      " 47%|████▋     | 947/2001 [43:42<22:23,  1.27s/it]"
     ]
    },
    {
     "name": "stdout",
     "output_type": "stream",
     "text": [
      "BG Converged\n"
     ]
    },
    {
     "name": "stderr",
     "output_type": "stream",
     "text": [
      "\r",
      " 47%|████▋     | 948/2001 [43:44<22:32,  1.28s/it]"
     ]
    },
    {
     "name": "stdout",
     "output_type": "stream",
     "text": [
      "BG Converged\n"
     ]
    },
    {
     "name": "stderr",
     "output_type": "stream",
     "text": [
      "\r",
      " 47%|████▋     | 949/2001 [43:45<22:12,  1.27s/it]"
     ]
    },
    {
     "name": "stdout",
     "output_type": "stream",
     "text": [
      "BG Converged\n"
     ]
    },
    {
     "name": "stderr",
     "output_type": "stream",
     "text": [
      "\r",
      " 47%|████▋     | 950/2001 [43:46<22:27,  1.28s/it]"
     ]
    },
    {
     "name": "stdout",
     "output_type": "stream",
     "text": [
      "BG Converged\n"
     ]
    },
    {
     "name": "stderr",
     "output_type": "stream",
     "text": [
      "\r",
      " 48%|████▊     | 951/2001 [43:48<22:07,  1.26s/it]"
     ]
    },
    {
     "name": "stdout",
     "output_type": "stream",
     "text": [
      "BG Converged\n"
     ]
    },
    {
     "name": "stderr",
     "output_type": "stream",
     "text": [
      "\r",
      " 48%|████▊     | 952/2001 [43:49<22:21,  1.28s/it]"
     ]
    },
    {
     "name": "stdout",
     "output_type": "stream",
     "text": [
      "BG Converged\n"
     ]
    },
    {
     "name": "stderr",
     "output_type": "stream",
     "text": [
      "\r",
      " 48%|████▊     | 953/2001 [43:50<22:02,  1.26s/it]"
     ]
    },
    {
     "name": "stdout",
     "output_type": "stream",
     "text": [
      "BG Converged\n"
     ]
    },
    {
     "name": "stderr",
     "output_type": "stream",
     "text": [
      "\r",
      " 48%|████▊     | 954/2001 [43:51<22:13,  1.27s/it]"
     ]
    },
    {
     "name": "stdout",
     "output_type": "stream",
     "text": [
      "BG Converged\n"
     ]
    },
    {
     "name": "stderr",
     "output_type": "stream",
     "text": [
      "\r",
      " 48%|████▊     | 955/2001 [43:53<22:20,  1.28s/it]"
     ]
    },
    {
     "name": "stdout",
     "output_type": "stream",
     "text": [
      "BG Converged\n"
     ]
    },
    {
     "name": "stderr",
     "output_type": "stream",
     "text": [
      "\r",
      " 48%|████▊     | 956/2001 [43:54<22:15,  1.28s/it]"
     ]
    },
    {
     "name": "stdout",
     "output_type": "stream",
     "text": [
      "BG Converged\n"
     ]
    },
    {
     "name": "stderr",
     "output_type": "stream",
     "text": [
      "\r",
      " 48%|████▊     | 957/2001 [43:55<22:39,  1.30s/it]"
     ]
    },
    {
     "name": "stdout",
     "output_type": "stream",
     "text": [
      "BG Converged\n"
     ]
    },
    {
     "name": "stderr",
     "output_type": "stream",
     "text": [
      "\r",
      " 48%|████▊     | 958/2001 [43:57<22:59,  1.32s/it]"
     ]
    },
    {
     "name": "stdout",
     "output_type": "stream",
     "text": [
      "BG Converged\n"
     ]
    },
    {
     "name": "stderr",
     "output_type": "stream",
     "text": [
      "\r",
      " 48%|████▊     | 959/2001 [43:58<22:44,  1.31s/it]"
     ]
    },
    {
     "name": "stdout",
     "output_type": "stream",
     "text": [
      "BG Converged\n"
     ]
    },
    {
     "name": "stderr",
     "output_type": "stream",
     "text": [
      "\r",
      " 48%|████▊     | 960/2001 [43:59<22:46,  1.31s/it]"
     ]
    },
    {
     "name": "stdout",
     "output_type": "stream",
     "text": [
      "BG Converged\n"
     ]
    },
    {
     "name": "stderr",
     "output_type": "stream",
     "text": [
      "\r",
      " 48%|████▊     | 961/2001 [44:00<22:24,  1.29s/it]"
     ]
    },
    {
     "name": "stdout",
     "output_type": "stream",
     "text": [
      "BG Converged\n"
     ]
    },
    {
     "name": "stderr",
     "output_type": "stream",
     "text": [
      "\r",
      " 48%|████▊     | 962/2001 [44:02<22:47,  1.32s/it]"
     ]
    },
    {
     "name": "stdout",
     "output_type": "stream",
     "text": [
      "BG Converged\n"
     ]
    },
    {
     "name": "stderr",
     "output_type": "stream",
     "text": [
      "\r",
      " 48%|████▊     | 963/2001 [44:03<22:21,  1.29s/it]"
     ]
    },
    {
     "name": "stdout",
     "output_type": "stream",
     "text": [
      "BG Converged\n"
     ]
    },
    {
     "name": "stderr",
     "output_type": "stream",
     "text": [
      "\r",
      " 48%|████▊     | 964/2001 [44:04<22:26,  1.30s/it]"
     ]
    },
    {
     "name": "stdout",
     "output_type": "stream",
     "text": [
      "BG Converged\n"
     ]
    },
    {
     "name": "stderr",
     "output_type": "stream",
     "text": [
      "\r",
      " 48%|████▊     | 965/2001 [44:06<22:34,  1.31s/it]"
     ]
    },
    {
     "name": "stdout",
     "output_type": "stream",
     "text": [
      "BG Converged\n"
     ]
    },
    {
     "name": "stderr",
     "output_type": "stream",
     "text": [
      "\r",
      " 48%|████▊     | 966/2001 [44:07<22:13,  1.29s/it]"
     ]
    },
    {
     "name": "stdout",
     "output_type": "stream",
     "text": [
      "BG Converged\n"
     ]
    },
    {
     "name": "stderr",
     "output_type": "stream",
     "text": [
      "\r",
      " 48%|████▊     | 967/2001 [44:08<22:25,  1.30s/it]"
     ]
    },
    {
     "name": "stdout",
     "output_type": "stream",
     "text": [
      "BG Converged\n"
     ]
    },
    {
     "name": "stderr",
     "output_type": "stream",
     "text": [
      "\r",
      " 48%|████▊     | 968/2001 [44:10<22:31,  1.31s/it]"
     ]
    },
    {
     "name": "stdout",
     "output_type": "stream",
     "text": [
      "BG Converged\n"
     ]
    },
    {
     "name": "stderr",
     "output_type": "stream",
     "text": [
      "\r",
      " 48%|████▊     | 969/2001 [44:11<22:07,  1.29s/it]"
     ]
    },
    {
     "name": "stdout",
     "output_type": "stream",
     "text": [
      "BG Converged\n"
     ]
    },
    {
     "name": "stderr",
     "output_type": "stream",
     "text": [
      "\r",
      " 48%|████▊     | 970/2001 [44:12<22:20,  1.30s/it]"
     ]
    },
    {
     "name": "stdout",
     "output_type": "stream",
     "text": [
      "BG Converged\n"
     ]
    },
    {
     "name": "stderr",
     "output_type": "stream",
     "text": [
      "\r",
      " 49%|████▊     | 971/2001 [44:13<22:00,  1.28s/it]"
     ]
    },
    {
     "name": "stdout",
     "output_type": "stream",
     "text": [
      "BG Converged\n"
     ]
    },
    {
     "name": "stderr",
     "output_type": "stream",
     "text": [
      "\r",
      " 49%|████▊     | 972/2001 [44:15<22:19,  1.30s/it]"
     ]
    },
    {
     "name": "stdout",
     "output_type": "stream",
     "text": [
      "BG Converged\n"
     ]
    },
    {
     "name": "stderr",
     "output_type": "stream",
     "text": [
      "\r",
      " 49%|████▊     | 973/2001 [44:16<22:02,  1.29s/it]"
     ]
    },
    {
     "name": "stdout",
     "output_type": "stream",
     "text": [
      "BG Converged\n"
     ]
    },
    {
     "name": "stderr",
     "output_type": "stream",
     "text": [
      "\r",
      " 49%|████▊     | 974/2001 [44:17<22:16,  1.30s/it]"
     ]
    },
    {
     "name": "stdout",
     "output_type": "stream",
     "text": [
      "BG Converged\n"
     ]
    },
    {
     "name": "stderr",
     "output_type": "stream",
     "text": [
      "\r",
      " 49%|████▊     | 975/2001 [44:19<22:25,  1.31s/it]"
     ]
    },
    {
     "name": "stdout",
     "output_type": "stream",
     "text": [
      "BG Converged\n",
      "FG Converged\n"
     ]
    },
    {
     "name": "stderr",
     "output_type": "stream",
     "text": [
      "\r",
      " 49%|████▉     | 976/2001 [44:20<22:01,  1.29s/it]"
     ]
    },
    {
     "name": "stdout",
     "output_type": "stream",
     "text": [
      "BG Converged\n",
      "FG Converged\n"
     ]
    },
    {
     "name": "stderr",
     "output_type": "stream",
     "text": [
      "\r",
      " 49%|████▉     | 977/2001 [44:21<22:09,  1.30s/it]"
     ]
    },
    {
     "name": "stdout",
     "output_type": "stream",
     "text": [
      "BG Converged\n",
      "FG Converged\n"
     ]
    },
    {
     "name": "stderr",
     "output_type": "stream",
     "text": [
      "\r",
      " 49%|████▉     | 978/2001 [44:23<22:16,  1.31s/it]"
     ]
    },
    {
     "name": "stdout",
     "output_type": "stream",
     "text": [
      "BG Converged\n",
      "FG Converged\n"
     ]
    },
    {
     "name": "stderr",
     "output_type": "stream",
     "text": [
      "\r",
      " 49%|████▉     | 979/2001 [44:24<22:00,  1.29s/it]"
     ]
    },
    {
     "name": "stdout",
     "output_type": "stream",
     "text": [
      "BG Converged\n",
      "FG Converged\n"
     ]
    },
    {
     "name": "stderr",
     "output_type": "stream",
     "text": [
      "\r",
      " 49%|████▉     | 980/2001 [44:25<22:08,  1.30s/it]"
     ]
    },
    {
     "name": "stdout",
     "output_type": "stream",
     "text": [
      "BG Converged\n",
      "FG Converged\n"
     ]
    },
    {
     "name": "stderr",
     "output_type": "stream",
     "text": [
      "\r",
      " 49%|████▉     | 981/2001 [44:26<22:02,  1.30s/it]"
     ]
    },
    {
     "name": "stdout",
     "output_type": "stream",
     "text": [
      "BG Converged\n",
      "FG Converged\n"
     ]
    },
    {
     "name": "stderr",
     "output_type": "stream",
     "text": [
      "\r",
      " 49%|████▉     | 982/2001 [44:28<22:17,  1.31s/it]"
     ]
    },
    {
     "name": "stdout",
     "output_type": "stream",
     "text": [
      "BG Converged\n",
      "FG Converged\n"
     ]
    },
    {
     "name": "stderr",
     "output_type": "stream",
     "text": [
      "\r",
      " 49%|████▉     | 983/2001 [44:29<21:58,  1.30s/it]"
     ]
    },
    {
     "name": "stdout",
     "output_type": "stream",
     "text": [
      "BG Converged\n",
      "FG Converged\n"
     ]
    },
    {
     "name": "stderr",
     "output_type": "stream",
     "text": [
      "\r",
      " 49%|████▉     | 984/2001 [44:30<22:07,  1.31s/it]"
     ]
    },
    {
     "name": "stdout",
     "output_type": "stream",
     "text": [
      "BG Converged\n",
      "FG Converged\n"
     ]
    },
    {
     "name": "stderr",
     "output_type": "stream",
     "text": [
      "\r",
      " 49%|████▉     | 985/2001 [44:32<22:29,  1.33s/it]"
     ]
    },
    {
     "name": "stdout",
     "output_type": "stream",
     "text": [
      "BG Converged\n",
      "FG Converged\n"
     ]
    },
    {
     "name": "stderr",
     "output_type": "stream",
     "text": [
      "\r",
      " 49%|████▉     | 986/2001 [44:33<22:03,  1.30s/it]"
     ]
    },
    {
     "name": "stdout",
     "output_type": "stream",
     "text": [
      "BG Converged\n",
      "FG Converged\n"
     ]
    },
    {
     "name": "stderr",
     "output_type": "stream",
     "text": [
      "\r",
      " 49%|████▉     | 987/2001 [44:34<22:04,  1.31s/it]"
     ]
    },
    {
     "name": "stdout",
     "output_type": "stream",
     "text": [
      "BG Converged\n",
      "FG Converged\n"
     ]
    },
    {
     "name": "stderr",
     "output_type": "stream",
     "text": [
      "\r",
      " 49%|████▉     | 988/2001 [44:36<22:04,  1.31s/it]"
     ]
    },
    {
     "name": "stdout",
     "output_type": "stream",
     "text": [
      "BG Converged\n",
      "FG Converged\n"
     ]
    },
    {
     "name": "stderr",
     "output_type": "stream",
     "text": [
      "\r",
      " 49%|████▉     | 989/2001 [44:37<21:41,  1.29s/it]"
     ]
    },
    {
     "name": "stdout",
     "output_type": "stream",
     "text": [
      "BG Converged\n",
      "FG Converged\n"
     ]
    },
    {
     "name": "stderr",
     "output_type": "stream",
     "text": [
      "\r",
      " 49%|████▉     | 990/2001 [44:38<21:53,  1.30s/it]"
     ]
    },
    {
     "name": "stdout",
     "output_type": "stream",
     "text": [
      "BG Converged\n",
      "FG Converged\n"
     ]
    },
    {
     "name": "stderr",
     "output_type": "stream",
     "text": [
      "\r",
      " 50%|████▉     | 991/2001 [44:39<21:29,  1.28s/it]"
     ]
    },
    {
     "name": "stdout",
     "output_type": "stream",
     "text": [
      "BG Converged\n",
      "FG Converged\n"
     ]
    },
    {
     "name": "stderr",
     "output_type": "stream",
     "text": [
      "\r",
      " 50%|████▉     | 992/2001 [44:41<21:37,  1.29s/it]"
     ]
    },
    {
     "name": "stdout",
     "output_type": "stream",
     "text": [
      "BG Converged\n",
      "FG Converged\n"
     ]
    },
    {
     "name": "stderr",
     "output_type": "stream",
     "text": [
      "\r",
      " 50%|████▉     | 993/2001 [44:42<21:19,  1.27s/it]"
     ]
    },
    {
     "name": "stdout",
     "output_type": "stream",
     "text": [
      "BG Converged\n",
      "FG Converged\n"
     ]
    },
    {
     "name": "stderr",
     "output_type": "stream",
     "text": [
      "\r",
      " 50%|████▉     | 994/2001 [44:43<21:33,  1.28s/it]"
     ]
    },
    {
     "name": "stdout",
     "output_type": "stream",
     "text": [
      "BG Converged\n",
      "FG Converged\n"
     ]
    },
    {
     "name": "stderr",
     "output_type": "stream",
     "text": [
      "\r",
      " 50%|████▉     | 995/2001 [44:45<21:41,  1.29s/it]"
     ]
    },
    {
     "name": "stdout",
     "output_type": "stream",
     "text": [
      "BG Converged\n",
      "FG Converged\n"
     ]
    },
    {
     "name": "stderr",
     "output_type": "stream",
     "text": [
      "\r",
      " 50%|████▉     | 996/2001 [44:46<21:18,  1.27s/it]"
     ]
    },
    {
     "name": "stdout",
     "output_type": "stream",
     "text": [
      "BG Converged\n",
      "FG Converged\n"
     ]
    },
    {
     "name": "stderr",
     "output_type": "stream",
     "text": [
      "\r",
      " 50%|████▉     | 997/2001 [44:47<21:23,  1.28s/it]"
     ]
    },
    {
     "name": "stdout",
     "output_type": "stream",
     "text": [
      "BG Converged\n",
      "FG Converged\n"
     ]
    },
    {
     "name": "stderr",
     "output_type": "stream",
     "text": [
      "\r",
      " 50%|████▉     | 998/2001 [44:48<21:26,  1.28s/it]"
     ]
    },
    {
     "name": "stdout",
     "output_type": "stream",
     "text": [
      "BG Converged\n",
      "FG Converged\n"
     ]
    },
    {
     "name": "stderr",
     "output_type": "stream",
     "text": [
      "\r",
      " 50%|████▉     | 999/2001 [44:50<21:03,  1.26s/it]"
     ]
    },
    {
     "name": "stdout",
     "output_type": "stream",
     "text": [
      "BG Converged\n",
      "FG Converged\n"
     ]
    },
    {
     "name": "stderr",
     "output_type": "stream",
     "text": [
      "\r",
      " 50%|████▉     | 1000/2001 [44:51<21:14,  1.27s/it]"
     ]
    },
    {
     "name": "stdout",
     "output_type": "stream",
     "text": [
      "BG Converged\n",
      "FG Converged\n"
     ]
    },
    {
     "name": "stderr",
     "output_type": "stream",
     "text": [
      "\r",
      " 50%|█████     | 1001/2001 [44:52<20:57,  1.26s/it]"
     ]
    },
    {
     "name": "stdout",
     "output_type": "stream",
     "text": [
      "BG Converged\n",
      "FG Converged\n"
     ]
    },
    {
     "name": "stderr",
     "output_type": "stream",
     "text": [
      "\r",
      " 50%|█████     | 1002/2001 [44:53<21:14,  1.28s/it]"
     ]
    },
    {
     "name": "stdout",
     "output_type": "stream",
     "text": [
      "BG Converged\n",
      "FG Converged\n"
     ]
    },
    {
     "name": "stderr",
     "output_type": "stream",
     "text": [
      "\r",
      " 50%|█████     | 1003/2001 [44:55<20:57,  1.26s/it]"
     ]
    },
    {
     "name": "stdout",
     "output_type": "stream",
     "text": [
      "BG Converged\n",
      "FG Converged\n"
     ]
    },
    {
     "name": "stderr",
     "output_type": "stream",
     "text": [
      "\r",
      " 50%|█████     | 1004/2001 [44:56<21:13,  1.28s/it]"
     ]
    },
    {
     "name": "stdout",
     "output_type": "stream",
     "text": [
      "BG Converged\n",
      "FG Converged\n"
     ]
    },
    {
     "name": "stderr",
     "output_type": "stream",
     "text": [
      "\r",
      " 50%|█████     | 1005/2001 [44:57<21:26,  1.29s/it]"
     ]
    },
    {
     "name": "stdout",
     "output_type": "stream",
     "text": [
      "BG Converged\n",
      "FG Converged\n"
     ]
    },
    {
     "name": "stderr",
     "output_type": "stream",
     "text": [
      "\r",
      " 50%|█████     | 1006/2001 [44:59<21:10,  1.28s/it]"
     ]
    },
    {
     "name": "stdout",
     "output_type": "stream",
     "text": [
      "BG Converged\n",
      "FG Converged\n"
     ]
    },
    {
     "name": "stderr",
     "output_type": "stream",
     "text": [
      "\r",
      " 50%|█████     | 1007/2001 [45:00<21:20,  1.29s/it]"
     ]
    },
    {
     "name": "stdout",
     "output_type": "stream",
     "text": [
      "BG Converged\n",
      "FG Converged\n"
     ]
    },
    {
     "name": "stderr",
     "output_type": "stream",
     "text": [
      "\r",
      " 50%|█████     | 1008/2001 [45:01<21:40,  1.31s/it]"
     ]
    },
    {
     "name": "stdout",
     "output_type": "stream",
     "text": [
      "BG Converged\n",
      "FG Converged\n"
     ]
    },
    {
     "name": "stderr",
     "output_type": "stream",
     "text": [
      "\r",
      " 50%|█████     | 1009/2001 [45:03<21:18,  1.29s/it]"
     ]
    },
    {
     "name": "stdout",
     "output_type": "stream",
     "text": [
      "BG Converged\n",
      "FG Converged\n"
     ]
    },
    {
     "name": "stderr",
     "output_type": "stream",
     "text": [
      "\r",
      " 50%|█████     | 1010/2001 [45:04<21:27,  1.30s/it]"
     ]
    },
    {
     "name": "stdout",
     "output_type": "stream",
     "text": [
      "BG Converged\n",
      "FG Converged\n"
     ]
    },
    {
     "name": "stderr",
     "output_type": "stream",
     "text": [
      "\r",
      " 51%|█████     | 1011/2001 [45:05<21:08,  1.28s/it]"
     ]
    },
    {
     "name": "stdout",
     "output_type": "stream",
     "text": [
      "BG Converged\n",
      "FG Converged\n"
     ]
    },
    {
     "name": "stderr",
     "output_type": "stream",
     "text": [
      "\r",
      " 51%|█████     | 1012/2001 [45:06<21:16,  1.29s/it]"
     ]
    },
    {
     "name": "stdout",
     "output_type": "stream",
     "text": [
      "BG Converged\n",
      "FG Converged\n"
     ]
    },
    {
     "name": "stderr",
     "output_type": "stream",
     "text": [
      "\r",
      " 51%|█████     | 1013/2001 [45:08<21:01,  1.28s/it]"
     ]
    },
    {
     "name": "stdout",
     "output_type": "stream",
     "text": [
      "BG Converged\n",
      "FG Converged\n"
     ]
    },
    {
     "name": "stderr",
     "output_type": "stream",
     "text": [
      "\r",
      " 51%|█████     | 1014/2001 [45:09<21:13,  1.29s/it]"
     ]
    },
    {
     "name": "stdout",
     "output_type": "stream",
     "text": [
      "BG Converged\n",
      "FG Converged\n"
     ]
    },
    {
     "name": "stderr",
     "output_type": "stream",
     "text": [
      "\r",
      " 51%|█████     | 1015/2001 [45:10<21:19,  1.30s/it]"
     ]
    },
    {
     "name": "stdout",
     "output_type": "stream",
     "text": [
      "BG Converged\n",
      "FG Converged\n"
     ]
    },
    {
     "name": "stderr",
     "output_type": "stream",
     "text": [
      "\r",
      " 51%|█████     | 1016/2001 [45:11<20:59,  1.28s/it]"
     ]
    },
    {
     "name": "stdout",
     "output_type": "stream",
     "text": [
      "BG Converged\n",
      "FG Converged\n"
     ]
    },
    {
     "name": "stderr",
     "output_type": "stream",
     "text": [
      "\r",
      " 51%|█████     | 1017/2001 [45:13<21:09,  1.29s/it]"
     ]
    },
    {
     "name": "stdout",
     "output_type": "stream",
     "text": [
      "BG Converged\n",
      "FG Converged\n"
     ]
    },
    {
     "name": "stderr",
     "output_type": "stream",
     "text": [
      "\r",
      " 51%|█████     | 1018/2001 [45:14<21:11,  1.29s/it]"
     ]
    },
    {
     "name": "stdout",
     "output_type": "stream",
     "text": [
      "BG Converged\n",
      "FG Converged\n"
     ]
    },
    {
     "name": "stderr",
     "output_type": "stream",
     "text": [
      "\r",
      " 51%|█████     | 1019/2001 [45:15<20:47,  1.27s/it]"
     ]
    },
    {
     "name": "stdout",
     "output_type": "stream",
     "text": [
      "BG Converged\n",
      "FG Converged\n"
     ]
    },
    {
     "name": "stderr",
     "output_type": "stream",
     "text": [
      "\r",
      " 51%|█████     | 1020/2001 [45:17<20:58,  1.28s/it]"
     ]
    },
    {
     "name": "stdout",
     "output_type": "stream",
     "text": [
      "BG Converged\n",
      "FG Converged\n"
     ]
    },
    {
     "name": "stderr",
     "output_type": "stream",
     "text": [
      "\r",
      " 51%|█████     | 1021/2001 [45:18<20:41,  1.27s/it]"
     ]
    },
    {
     "name": "stdout",
     "output_type": "stream",
     "text": [
      "BG Converged\n",
      "FG Converged\n"
     ]
    },
    {
     "name": "stderr",
     "output_type": "stream",
     "text": [
      "\r",
      " 51%|█████     | 1022/2001 [45:19<20:45,  1.27s/it]"
     ]
    },
    {
     "name": "stdout",
     "output_type": "stream",
     "text": [
      "BG Converged\n",
      "FG Converged\n"
     ]
    },
    {
     "name": "stderr",
     "output_type": "stream",
     "text": [
      "\r",
      " 51%|█████     | 1023/2001 [45:20<20:26,  1.25s/it]"
     ]
    },
    {
     "name": "stdout",
     "output_type": "stream",
     "text": [
      "BG Converged\n",
      "FG Converged\n"
     ]
    },
    {
     "name": "stderr",
     "output_type": "stream",
     "text": [
      "\r",
      " 51%|█████     | 1023/2001 [45:22<43:22,  2.66s/it]"
     ]
    },
    {
     "name": "stdout",
     "output_type": "stream",
     "text": [
      "BG Converged\n",
      "FG Converged\n"
     ]
    },
    {
     "name": "stderr",
     "output_type": "stream",
     "text": [
      "\n"
     ]
    },
    {
     "data": {
      "text/plain": [
       "[<matplotlib.lines.Line2D at 0x2b7413bdfcc0>]"
      ]
     },
     "execution_count": 11,
     "metadata": {},
     "output_type": "execute_result"
    },
    {
     "data": {
      "image/png": "[encoded data removed]",
      "text/plain": [
       "<Figure size 432x288 with 1 Axes>"
      ]
     },
     "metadata": {
      "needs_background": "light"
     },
     "output_type": "display_data"
    }
   ],
   "source": [
    "# Setup agent\n",
    "nfq_net = ContrastiveNFQNetwork(state_dim=63, is_contrastive=True)\n",
    "optimizer = optim.SGD(itertools.chain(nfq_net.layers_shared.parameters(), nfq_net.layers_last_shared.parameters()), lr=5e-4)\n",
    "\n",
    "nfq_agent = NFQAgent(nfq_net, optimizer)\n",
    "previous_loss = None\n",
    "delta = 5e-5\n",
    "count_fg = 0\n",
    "count_bg = 0\n",
    "bg_converged = False\n",
    "fg_converged = False\n",
    "\n",
    "losses = []\n",
    "epoch = 2000\n",
    "for k, epoch in enumerate(tqdm.tqdm(range(epoch + 1))):\n",
    "\n",
    "    state_action_b, target_q_values, groups = nfq_agent.generate_pattern_set(all_rollouts)\n",
    "\n",
    "    loss = nfq_agent.train((state_action_b, target_q_values, groups))\n",
    "    \n",
    "    if previous_loss is not None:\n",
    "        if abs(previous_loss - loss) < delta:\n",
    "            if not nfq_net.freeze_shared:\n",
    "                bg_converged = True\n",
    "            else:\n",
    "                fg_converged = True\n",
    "    previous_loss = loss\n",
    "    losses.append(loss)\n",
    "    \n",
    "    if is_contrastive:\n",
    "        if nfq_net.freeze_shared:\n",
    "            for param in nfq_net.layers_fg.parameters():\n",
    "                assert param.requires_grad == True\n",
    "            for param in nfq_net.layers_last_fg.parameters():\n",
    "                assert param.requires_grad == True\n",
    "            for param in nfq_net.layers_shared.parameters():\n",
    "                assert param.requires_grad == False\n",
    "            for param in nfq_net.layers_last_shared.parameters():\n",
    "                assert param.requires_grad == False\n",
    "        else:\n",
    "\n",
    "            for param in nfq_net.layers_fg.parameters():\n",
    "                assert param.requires_grad == False\n",
    "            for param in nfq_net.layers_last_fg.parameters():\n",
    "                assert param.requires_grad == False\n",
    "            for param in nfq_net.layers_shared.parameters():\n",
    "                assert param.requires_grad == True\n",
    "            for param in nfq_net.layers_last_shared.parameters():\n",
    "                assert param.requires_grad == True\n",
    "    \n",
    "    if bg_converged:\n",
    "        count_bg += 1\n",
    "        print(\"BG Converged\")\n",
    "    if bg_converged and count_bg == 30:\n",
    "        nfq_net.freeze_shared = True\n",
    "        if verbose:\n",
    "            print(\"FREEZING SHARED\")\n",
    "        if is_contrastive:\n",
    "            for param in nfq_net.layers_shared.parameters():\n",
    "                param.requires_grad = False\n",
    "            for param in nfq_net.layers_last_shared.parameters():\n",
    "                param.requires_grad = False\n",
    "            for param in nfq_net.layers_fg.parameters():\n",
    "                param.requires_grad = True\n",
    "            for param in nfq_net.layers_last_fg.parameters():\n",
    "                param.requires_grad = True\n",
    "\n",
    "            optimizer = optim.SGD(itertools.chain(nfq_net.layers_fg.parameters(), nfq_net.layers_last_fg.parameters()), lr=5e-4)\n",
    "            nfq_agent._optimizer = optimizer\n",
    "\n",
    "    if fg_converged:\n",
    "        if verbose:\n",
    "            print(\"FG Converged\")\n",
    "        count_fg += 1\n",
    "    \n",
    "    if count_fg == 50:\n",
    "        break\n",
    "\n",
    "    \n",
    "    \n",
    "plt.plot(losses)    \n",
    "    \n",
    "    \n",
    "\n"
   ]
  },
  {
   "cell_type": "markdown",
   "metadata": {},
   "source": [
    "# Evaluation\n",
    "* The optimal levels for K are between 3.5 and 4.5"
   ]
  },
  {
   "cell_type": "code",
   "execution_count": null,
   "metadata": {},
   "outputs": [],
   "source": [
    "def state_invtransformer(tstates, transformer='transformer.pkl'):\n",
    "    \n",
    "    scaler = pickle.load(open(transformer, 'rb'))\n",
    "    states = scaler.inverse_transform(tstates)\n",
    "    \n",
    "    return states"
   ]
  },
  {
   "cell_type": "code",
   "execution_count": null,
   "metadata": {},
   "outputs": [],
   "source": [
    "state_feats = ['anchor_age', 'patientweight', 'los', 'gender',\n",
    "       'cad', 'afib', 'chf', 'ckd', 'renal', 'paralysis', 'parathyroid',\n",
    "       'rhabdo', 'sarcoid', 'sepsis', 'expired', 'urine', 'bpdia', 'bpsys',\n",
    "       'hr', 'rr', 'spo2', 'temp', 'alt', 'aniongap', 'bun', 'cpk', 'ca',\n",
    "       'chloride', 'creatinine', 'glucose', 'hgb', 'k', 'ldh', 'mg', 'na', 'p',\n",
    "       'wbc', 'betablockers', 'ca-iv', 'ca-noniv', 'cablockers', 'dextrose',\n",
    "       'fluids', 'insulin', 'k-iv', 'hours-k-iv', 'k-noniv', 'hours-k-noniv',\n",
    "       'loopdiuretics', 'mg-iv', 'hours-mg-iv', 'mg-noniv', 'hours-mg-noniv',\n",
    "       'p-iv', 'hours-p-iv', 'p-noniv', 'hours-p-noniv', 'pnutrition',\n",
    "       'ponutrition', 'tpnutrition', 'vasopressors', 'adm-dialysis',\n",
    "       'adm-rbc']"
   ]
  },
  {
   "cell_type": "raw",
   "metadata": {},
   "source": [
    "rollout = generate_rollout(20054471, female_test_tuples, group=1)\n",
    "states = [r[0] for r in rollout]\n",
    "k_measurement_ind = state_feats.index('k')\n",
    "transformed_states = state_invtransformer(states)\n",
    "k_levels = [s[k_measurement_ind] for s in transformed_states]\n",
    "x = [i*6 for i in range(len(k_levels))]\n",
    "sns.lineplot(x, k_levels, label=\"K Measured\")\n",
    "plt.legend()\n",
    "plt.xlabel(\"Hours after admission\")\n",
    "plt.ylabel(\"Potassium Levels (mmol/L)\")\n"
   ]
  },
  {
   "cell_type": "raw",
   "metadata": {},
   "source": [
    "def un_one_hot(actions):\n",
    "    numerical_actions = []\n",
    "    for a in actions:\n",
    "        if a == [0, 0]:\n",
    "            numerical_actions.append(0)\n",
    "        elif a == [0, 10]:\n",
    "            numerical_actions.append(1)\n",
    "        elif a == [10, 0]:\n",
    "            numerical_actions.append(2)\n",
    "    return numerical_actions"
   ]
  },
  {
   "cell_type": "raw",
   "metadata": {},
   "source": [
    "actions = [r[1] for r in rollout]\n",
    "doctors_actions = actions\n",
    "plt.ylabel(\"Level of repletion\")\n",
    "plt.xlabel(\"Hours after admission\")\n",
    "sns.scatterplot(x, un_one_hot(actions), label='K Repletion Actions')"
   ]
  },
  {
   "cell_type": "raw",
   "metadata": {},
   "source": [
    "actions = np.asarray([[0, 0], [0, 10], [10, 0]])\n",
    "optimal_actions = []\n",
    "for s in states:\n",
    "    a = nfq_agent.get_best_action(s, actions, group=1)\n",
    "    optimal_actions.append(list(a))\n",
    "policy_actions = optimal_actions\n",
    "plt.ylabel(\"Level of repletion\")\n",
    "plt.xlabel(\"Hours after admission\")\n",
    "sns.scatterplot(x, un_one_hot(optimal_actions), label='K Repletion Actions')"
   ]
  },
  {
   "cell_type": "code",
   "execution_count": null,
   "metadata": {},
   "outputs": [],
   "source": [
    "def forward(obs, action, is_contrastive, group, nfq_agent):\n",
    "    if is_contrastive:\n",
    "        if group == 0:\n",
    "            x = nfq_agent._nfq_net.layers_shared(torch.cat([torch.FloatTensor(obs), torch.FloatTensor(a)], dim=0))\n",
    "            reward = nfq_agent._nfq_net.layers_last_shared(x)\n",
    "        else:\n",
    "            x_shared = nfq_agent._nfq_net.layers_shared(torch.cat([torch.FloatTensor(obs), torch.FloatTensor(a)], dim=0))\n",
    "            x_fg = nfq_agent._nfq_net.layers_fg(torch.cat([torch.FloatTensor(obs), torch.FloatTensor(a)], dim=0))\n",
    "            x_shared = nfq_agent._nfq_net.layers_last_shared(x_shared)\n",
    "            x_fg = nfq_agent._nfq_net.layers_last_fg(x_fg)\n",
    "            reward = x_shared + x_fg\n",
    "    else:\n",
    "        reward = nfq_agent._nfq_net(\n",
    "            torch.cat([torch.FloatTensor(obs), torch.FloatTensor(a)], dim=0), group * torch.ones(1))\n",
    "    \n",
    "    return reward"
   ]
  },
  {
   "cell_type": "code",
   "execution_count": null,
   "metadata": {},
   "outputs": [],
   "source": [
    "# Evaluate the difference in rewards at each time step\n",
    "def evaluate(doctors_actions, policy_actions, states, group, nfq_agent):\n",
    "    doctor_reward = 0\n",
    "    policy_reward = 0\n",
    "    for (doctors_action, policy_action, state) in zip(doctors_actions, policy_actions, states):\n",
    "        reward_doctor = forward(state, doctors_action, True, group, nfq_agent).detach().cpu().numpy()[0]\n",
    "        reward_policy = forward(state, policy_action, True, group, nfq_agent).detach().cpu().numpy()[0]\n",
    "        doctor_reward += reward_doctor\n",
    "        policy_reward += reward_policy\n",
    "    \n",
    "    return policy_reward, doctor_reward - policy_reward\n",
    "\n",
    "#evaluate(doctors_actions, policy_actions, states, 1, nfq_agent)"
   ]
  },
  {
   "cell_type": "code",
   "execution_count": null,
   "metadata": {},
   "outputs": [],
   "source": [
    "all_d_actions = []\n",
    "all_p_actions = []\n",
    "network_output = []"
   ]
  },
  {
   "cell_type": "code",
   "execution_count": null,
   "metadata": {},
   "outputs": [],
   "source": [
    "reward_deltas = []\n",
    "for vn in renal_test_tuples['vnum']:\n",
    "    rollout = generate_rollout(vn, renal_test_tuples, group=1)\n",
    "    states = [r[0] for r in rollout]\n",
    "    doctors_actions = [r[1] for r in rollout]\n",
    "    all_d_actions.extend(doctors_actions)\n",
    "    actions = np.asarray([[0, 0], [0, 10], [10, 0]])\n",
    "    policy_actions = []\n",
    "    for s in states:\n",
    "        a = nfq_agent.get_best_action(s, actions, group=1)\n",
    "        policy_actions.append(list(a))\n",
    "    \n",
    "    all_p_actions.extend(policy_actions)\n",
    "    \n",
    "    output, delta = evaluate(doctors_actions, policy_actions, states, 1, nfq_agent)\n",
    "    reward_deltas.append(delta)\n",
    "    network_output.append(output)\n",
    "sns.distplot(reward_deltas)\n",
    "plt.title(\"Difference in Foreground Group\")"
   ]
  },
  {
   "cell_type": "code",
   "execution_count": null,
   "metadata": {},
   "outputs": [],
   "source": [
    "sns.distplot(network_output)"
   ]
  },
  {
   "cell_type": "code",
   "execution_count": null,
   "metadata": {},
   "outputs": [],
   "source": [
    "for vn in renal_train_tuples['vnum']:\n",
    "    rollout = generate_rollout(vn, renal_train_tuples, group=1)\n",
    "    states = [r[0] for r in rollout]\n",
    "    doctors_actions = [r[1] for r in rollout]\n",
    "    all_d_actions.extend(doctors_actions)\n",
    "    actions = np.asarray([[0, 0], [0, 10], [10, 0]])\n",
    "    policy_actions = []\n",
    "    for s in states:\n",
    "        a = nfq_agent.get_best_action(s, actions, group=1)\n",
    "        policy_actions.append(list(a))\n",
    "    \n",
    "    output, delta = evaluate(doctors_actions, policy_actions, states, 1, nfq_agent)\n",
    "    print(\"Network output: \", output)\n",
    "    print(\"Reward delta; \", delta)\n",
    "\n",
    "    "
   ]
  },
  {
   "cell_type": "raw",
   "metadata": {},
   "source": [
    "network_output = []\n",
    "reward_deltas = []\n",
    "for vn in male_test_tuples['vnum']:\n",
    "    rollout = generate_rollout(vn, male_test_tuples, group=0)\n",
    "    states = [r[0] for r in rollout]\n",
    "    doctors_actions = [r[1] for r in rollout]\n",
    "    all_d_actions.extend(doctors_actions)\n",
    "    actions = np.asarray([[0, 0], [0, 10], [10, 0]])\n",
    "    policy_actions = []\n",
    "    for s in states:\n",
    "        a = nfq_agent.get_best_action(s, actions, group=0)\n",
    "        policy_actions.append(list(a))\n",
    "    all_p_actions.extend(policy_actions)\n",
    "    \n",
    "    output, delta = evaluate(doctors_actions, policy_actions, states, 0, nfq_agent)\n",
    "    network_output.append(output)\n",
    "    reward_deltas.append(delta)\n",
    "sns.distplot(reward_deltas)\n",
    "plt.title(\"Difference in Background Group\")"
   ]
  },
  {
   "cell_type": "raw",
   "metadata": {},
   "source": [
    "sns.distplot(network_output)"
   ]
  },
  {
   "cell_type": "markdown",
   "metadata": {},
   "source": [
    "## Actions"
   ]
  },
  {
   "cell_type": "raw",
   "metadata": {},
   "source": [
    "sns.distplot(un_one_hot(all_d_actions), label='Doctors Actions')\n",
    "sns.distplot(un_one_hot(all_p_actions), label='Optimal Policy Actions')\n",
    "plt.legend()\n",
    "plt.xlabel(\"Action\")"
   ]
  },
  {
   "cell_type": "raw",
   "metadata": {},
   "source": [
    "all_doctors_train_actions = []\n",
    "for vn in male_train_tuples['vnum']:\n",
    "    rollout = generate_rollout(vn, male_train_tuples, group=0)\n",
    "    states = [r[0] for r in rollout]\n",
    "    doctors_actions = [r[1] for r in rollout]\n",
    "    all_doctors_train_actions.extend(doctors_actions)\n",
    "for vn in female_train_tuples['vnum']:\n",
    "    rollout = generate_rollout(vn, female_train_tuples, group=1)\n",
    "    states = [r[0] for r in rollout]\n",
    "    doctors_actions = [r[1] for r in rollout]\n",
    "    all_doctors_train_actions.extend(doctors_actions)\n",
    "sns.distplot(un_one_hot(all_doctors_train_actions), label='Doctors Actions')\n",
    "plt.legend()\n",
    "plt.xlabel(\"Action\")"
   ]
  },
  {
   "cell_type": "markdown",
   "metadata": {},
   "source": [
    "# Heatmap of Actions"
   ]
  },
  {
   "cell_type": "code",
   "execution_count": null,
   "metadata": {},
   "outputs": [],
   "source": [
    "def gather_repletion_levels(doctor=False, renal=False, num_samples=1000):\n",
    "    no_repletion = []\n",
    "    lo_repletion = []\n",
    "    hi_repletion = []\n",
    "    c_levels = []\n",
    "    if renal:\n",
    "        tuples = renal_test_tuples\n",
    "        group = 1\n",
    "    else:\n",
    "        tuples=regular_test_tuples\n",
    "        group = 0\n",
    "    for j, vn in enumerate(tqdm.tqdm(tuples['vnum'][:num_samples])):\n",
    "        rollout = generate_rollout(vn, tuples, group=group)\n",
    "        states = [r[0] for r in rollout]\n",
    "        k_measurement_ind = state_feats.index('k')\n",
    "        c_ind = state_feats.index('creatinine')\n",
    "        doctors_actions = [r[1] for r in rollout]\n",
    "        actions = np.asarray([[0, 0], [0, 10], [10, 0]])\n",
    "        for s in states:\n",
    "            transformed_state = state_invtransformer(s)\n",
    "            k = transformed_state[k_measurement_ind]\n",
    "            creatinine = transformed_state[c_ind]\n",
    "            c_levels.append(creatinine)\n",
    "            a = nfq_agent.get_best_action(s, actions, group=group)\n",
    "            a = list(a)\n",
    "            if a == [0, 0]:\n",
    "                no_repletion.append((creatinine, k))\n",
    "            elif a == [0, 10]:\n",
    "                lo_repletion.append((creatinine, k))\n",
    "            elif a == [10, 0]:\n",
    "                hi_repletion.append((creatinine, k))\n",
    "    c_levels = [i for i in range(0, 11)]\n",
    "    measurements = [i/10 for i in range(26, 75)]\n",
    "    viz = np.zeros((len(c_levels), len(measurements)))\n",
    "    counts = np.zeros((len(c_levels), len(measurements)))\n",
    "    for (c, measurement) in no_repletion:\n",
    "        measurement = round(measurement, 1)\n",
    "        c = round(c, 0)\n",
    "        c = c_levels.index(c)\n",
    "        new_meas = measurements.index(measurement)\n",
    "        viz[c, new_meas] += 0\n",
    "        counts[c, new_meas] += 1\n",
    "    for (c, measurement) in lo_repletion:\n",
    "        measurement = round(measurement, 1)\n",
    "        c = round(c, 0)\n",
    "        c = c_levels.index(c)\n",
    "        new_meas = measurements.index(measurement)\n",
    "        viz[c, new_meas] += 1\n",
    "        counts[c, new_meas] += 1\n",
    "    for (c, measurement) in hi_repletion:\n",
    "        measurement = round(measurement, 1)\n",
    "        c = round(c, 0)\n",
    "        c = c_levels.index(c)\n",
    "        new_meas = measurements.index(measurement)\n",
    "        viz[c, new_meas] += 2\n",
    "        counts[c, new_meas] += 1\n",
    "\n",
    "    viz = np.divide(viz, counts, out=np.full_like(viz, np.nan), where=counts!=0)\n",
    "    return viz, measurements, c_levels"
   ]
  },
  {
   "cell_type": "code",
   "execution_count": null,
   "metadata": {},
   "outputs": [],
   "source": [
    "viz, measurements, ages = gather_repletion_levels(renal=False)\n",
    "plt.figure(figsize=(14, 5))\n",
    "sns.heatmap(viz, xticklabels=measurements, yticklabels=ages)\n",
    "plt.ylabel(\"Creatinine\")\n",
    "plt.xlabel(\"Potassium Level in Blood (mmol/L)\")\n",
    "plt.title(\"Evaluating Regular Patients\")\n",
    "viz, measurements, ages = gather_repletion_levels(renal=True)\n",
    "plt.figure(figsize=(14, 5))\n",
    "sns.heatmap(viz, xticklabels=measurements, yticklabels=ages)\n",
    "plt.ylabel(\"Creatinine\")\n",
    "plt.xlabel(\"Potassium Level in Blood (mmol/L)\")\n",
    "plt.title(\"Evaluating Renal Patients\")"
   ]
  },
  {
   "cell_type": "markdown",
   "metadata": {},
   "source": [
    "# SHAP plots"
   ]
  },
  {
   "cell_type": "code",
   "execution_count": 12,
   "metadata": {},
   "outputs": [
    {
     "name": "stderr",
     "output_type": "stream",
     "text": [
      "`distplot` is a deprecated function and will be removed in a future version. Please adapt your code to use either `displot` (a figure-level function with similar flexibility) or `histplot` (an axes-level function for histograms).\n"
     ]
    },
    {
     "data": {
      "image/png": "[encoded data removed]",
      "text/plain": [
       "<Figure size 432x288 with 1 Axes>"
      ]
     },
     "metadata": {
      "needs_background": "light"
     },
     "output_type": "display_data"
    }
   ],
   "source": [
    "import shap\n",
    "state_action_b, target_q_values, groups = nfq_agent.generate_pattern_set(all_rollouts)\n",
    "X = (state_action_b, target_q_values)\n",
    "\n",
    "bg_rollouts = rollout_dataset(ds='test', env='bg', init_experience=init_experience)\n",
    "fg_rollouts = rollout_dataset(ds='test', env='fg', init_experience=init_experience)\n",
    "bg_rollouts.extend(fg_rollouts)\n",
    "all_rollouts = bg_rollouts.copy()\n",
    "all_rollouts = normalize_rollouts(all_rollouts)\n",
    "state_action_b, target_q_values, groups = nfq_agent.generate_pattern_set(all_rollouts)\n",
    "X_test = (state_action_b, target_q_values)"
   ]
  },
  {
   "cell_type": "code",
   "execution_count": 14,
   "metadata": {},
   "outputs": [
    {
     "data": {
      "text/plain": [
       "Text(0.5, 1.0, 'Shap Values: Foreground')"
      ]
     },
     "execution_count": 14,
     "metadata": {},
     "output_type": "execute_result"
    },
    {
     "data": {
      "image/png": "[encoded data removed]",
      "text/plain": [
       "<Figure size 576x468 with 1 Axes>"
      ]
     },
     "metadata": {},
     "output_type": "display_data"
    }
   ],
   "source": [
    "group_0 = []\n",
    "group_1 = []\n",
    "for x, g in zip(X_test[0], X_test[1]):\n",
    "    if g == 0:\n",
    "        group_0.append(x.cpu().detach().numpy())\n",
    "    else:\n",
    "        group_1.append(x.cpu().detach().numpy())\n",
    "group_0 = torch.Tensor(np.asarray(group_0))\n",
    "group_1 = torch.Tensor(np.asarray(group_1))\n",
    "e = shap.DeepExplainer(nfq_agent._nfq_net, X[0])\n",
    "shap_values = e.shap_values(group_1[:10])\n",
    "explanation = shap.Explanation(shap_values)\n",
    "shap.plots.bar(shap.Explanation(shap_values), show=False)\n",
    "plt.title(\"Shap Values: Foreground\")"
   ]
  },
  {
   "cell_type": "code",
   "execution_count": null,
   "metadata": {},
   "outputs": [],
   "source": []
  }
 ],
 "metadata": {
  "kernelspec": {
   "display_name": "research [~/.conda/envs/research/]",
   "language": "python",
   "name": "conda_research"
  },
  "language_info": {
   "codemirror_mode": {
    "name": "ipython",
    "version": 3
   },
   "file_extension": ".py",
   "mimetype": "text/x-python",
   "name": "python",
   "nbconvert_exporter": "python",
   "pygments_lexer": "ipython3",
   "version": "3.6.12"
  }
 },
 "nbformat": 4,
 "nbformat_minor": 4
}
