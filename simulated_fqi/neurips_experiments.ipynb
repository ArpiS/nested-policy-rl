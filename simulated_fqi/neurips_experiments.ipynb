{
 "cells": [
  {
   "cell_type": "code",
   "execution_count": 1,
   "metadata": {},
   "outputs": [],
   "source": [
    "import json\n",
    "import sys\n",
    "from train_cnfqi import run\n",
    "import seaborn as sns\n",
    "import tqdm\n",
    "import matplotlib.pyplot as plt \n",
    "import numpy as np"
   ]
  },
  {
   "cell_type": "markdown",
   "metadata": {},
   "source": [
    "# Interpretability"
   ]
  },
  {
   "cell_type": "code",
   "execution_count": 2,
   "metadata": {},
   "outputs": [
    {
     "name": "stderr",
     "output_type": "stream",
     "text": [
      "\u001b[33mWARN: Box bound precision lowered by casting to float32\u001b[0m\n"
     ]
    },
    {
     "name": "stdout",
     "output_type": "stream",
     "text": [
      "Fg trained after 611 epochs\n",
      "BG stayed up for steps:  [1000, 1000]\n",
      "FG stayed up for steps:  [173, 45]\n"
     ]
    }
   ],
   "source": [
    "import shap\n",
    "printed_bg, printed_fg, performance, nfq_agent, X, X_test = run(verbose=False, is_contrastive=True, evaluations=2, force_left=5)"
   ]
  },
  {
   "cell_type": "code",
   "execution_count": null,
   "metadata": {},
   "outputs": [],
   "source": [
    "# explain how the input to the first layer of the model explains the outcome\n",
    "e = shap.DeepExplainer(nfq_agent._nfq_net, X)\n",
    "shap_values = e.shap_values(X_test)"
   ]
  },
  {
   "cell_type": "markdown",
   "metadata": {},
   "source": [
    "# Force left=0"
   ]
  },
  {
   "cell_type": "code",
   "execution_count": null,
   "metadata": {},
   "outputs": [],
   "source": [
    "import json\n",
    "from train_cnfqi import run\n",
    "num_iter=15\n",
    "results = {'fqi': {}, 'cfqi': {}}\n",
    "for i in range(num_iter):\n",
    "    print(str(i))\n",
    "    printed_bg, printed_fg, performance, nfq_agent = run(verbose=False, is_contrastive=True, evaluations=2, force_left=0)\n",
    "    results['cfqi'][i] = performance\n",
    "    printed_bg, printed_fg, performance, nfq_agent = run(verbose=False, is_contrastive=False, evaluations=2, force_left=0)\n",
    "    results['fqi'][i] = performance\n",
    "    \n",
    "#     with open('force_left=0.json', 'w') as f:\n",
    "#         json.dump(results, f)  "
   ]
  },
  {
   "cell_type": "code",
   "execution_count": null,
   "metadata": {},
   "outputs": [],
   "source": [
    "fqi_results = []\n",
    "cfqi_results = []\n",
    "for alg in ['cfqi', 'fqi']:\n",
    "    for key in results[alg]:\n",
    "        if alg == 'fqi':\n",
    "            fqi_results.extend(results[alg][key])\n",
    "        else:\n",
    "            cfqi_results.extend(results[alg][key])"
   ]
  },
  {
   "cell_type": "code",
   "execution_count": null,
   "metadata": {},
   "outputs": [],
   "source": [
    "sns.distplot(fqi_results, label='FQI')\n",
    "sns.distplot(cfqi_results, label='CFQI')\n",
    "plt.legend()\n",
    "plt.xlabel(\"Steps survived\")\n",
    "plt.title(\"Force left = 0\")"
   ]
  },
  {
   "cell_type": "markdown",
   "metadata": {},
   "source": [
    "# Force Left vs Performance"
   ]
  },
  {
   "cell_type": "code",
   "execution_count": null,
   "metadata": {},
   "outputs": [],
   "source": []
  },
  {
   "cell_type": "code",
   "execution_count": null,
   "metadata": {},
   "outputs": [],
   "source": []
  },
  {
   "cell_type": "code",
   "execution_count": null,
   "metadata": {},
   "outputs": [],
   "source": [
    "import json\n",
    "from train_cnfqi import run\n",
    "import numpy as np\n",
    "import scipy.stats\n",
    "import seaborn as sns\n",
    "import matplotlib.pyplot as plt\n",
    "\n",
    "num_iter=10000\n",
    "results = {}\n",
    "for i in range(11):\n",
    "    results[i] = {}\n",
    "    results[i]['cfqi'] = {}\n",
    "    results[i]['fqi'] = {}\n",
    "\n",
    "for i in range(num_iter):\n",
    "    for f in range(11):\n",
    "        printed_bg, printed_fg, performance, nfq_agent = run(verbose=False, is_contrastive=True, evaluations=2, force_left=f)\n",
    "        results[f]['cfqi'][i] = performance\n",
    "        printed_bg, printed_fg, performance, nfq_agent = run(verbose=False, is_contrastive=False, evaluations=2, force_left=f)\n",
    "        results[f]['fqi'][i] = performance\n",
    "    \n",
    "    with open('force_left_v_performance.json', 'w') as f:\n",
    "        json.dump(results, f)  \n",
    "\n",
    "\n",
    "\n",
    "def mean_confidence_interval(data, confidence=0.95):\n",
    "    a = 1.0 * np.array(data)\n",
    "    n = len(a)\n",
    "    m, se = np.mean(a), scipy.stats.sem(a)\n",
    "    h = se * scipy.stats.t.ppf((1 + confidence) / 2., n-1)\n",
    "    return m, h\n",
    "\n",
    "c_success = []\n",
    "f_success = []\n",
    "c_errs = []\n",
    "f_errs = []\n",
    "for i in range(11):\n",
    "    cfqi_perf = []\n",
    "    fqi_perf = []\n",
    "    for key in results[i]['fqi']:\n",
    "        fqi_perf.extend(results[i]['fqi'][key])\n",
    "    for key in results[i]['cfqi']:\n",
    "        cfqi_perf.extend(results[i]['cfqi'][key])\n",
    "    \n",
    "    c_success.append(np.mean(cfqi_perf))\n",
    "    f_success.append(np.mean(fqi_perf))\n",
    "    m, h = mean_confidence_interval(cfqi_perf)\n",
    "    c_errs.append(h)\n",
    "    m, h = mean_confidence_interval(fqi_perf)\n",
    "    f_errs.append(h) \n",
    "    \n",
    "x = [k for k in range(11)]\n",
    "sns.scatterplot(x, c_success, label='CFQI')\n",
    "plt.errorbar(x, c_success ,yerr=c_errs, linestyle=\"None\")\n",
    "sns.scatterplot(x, f_success, label='FQI')\n",
    "plt.errorbar(x, f_success ,yerr=f_errs, linestyle=\"None\")\n",
    "plt.title(\"Performance of CFQI and FQI when force on cart is modified\")\n",
    "plt.xlabel(\"Force Left\")\n",
    "plt.ylabel(\"Steps Survived\")\n",
    "plt.show()"
   ]
  },
  {
   "cell_type": "code",
   "execution_count": null,
   "metadata": {},
   "outputs": [],
   "source": []
  }
 ],
 "metadata": {
  "kernelspec": {
   "display_name": "research [~/.conda/envs/research/]",
   "language": "python",
   "name": "conda_research"
  },
  "language_info": {
   "codemirror_mode": {
    "name": "ipython",
    "version": 3
   },
   "file_extension": ".py",
   "mimetype": "text/x-python",
   "name": "python",
   "nbconvert_exporter": "python",
   "pygments_lexer": "ipython3",
   "version": "3.6.12"
  }
 },
 "nbformat": 4,
 "nbformat_minor": 4
}
