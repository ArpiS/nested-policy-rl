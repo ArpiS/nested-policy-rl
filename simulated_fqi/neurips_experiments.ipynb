{
 "cells": [
  {
   "cell_type": "code",
   "execution_count": 1,
   "metadata": {},
   "outputs": [],
   "source": [
    "import json\n",
    "import sys\n",
    "from train_cnfqi import run\n",
    "import seaborn as sns\n",
    "import tqdm\n",
    "import matplotlib.pyplot as plt \n",
    "import numpy as np"
   ]
  },
  {
   "cell_type": "markdown",
   "metadata": {},
   "source": [
    "# Interpretability"
   ]
  },
  {
   "cell_type": "code",
   "execution_count": 2,
   "metadata": {},
   "outputs": [
    {
     "name": "stderr",
     "output_type": "stream",
     "text": [
      "\u001b[33mWARN: Box bound precision lowered by casting to float32\u001b[0m\n"
     ]
    },
    {
     "name": "stdout",
     "output_type": "stream",
     "text": [
      "Fg trained after 115 epochs\n",
      "BG stayed up for steps:  [1000, 1000]\n",
      "FG stayed up for steps:  [1000, 1000]\n"
     ]
    }
   ],
   "source": [
    "import shap\n",
    "printed_bg, printed_fg, performance, nfq_agent, X, X_test = run(verbose=False, is_contrastive=True, evaluations=2, force_left=5)"
   ]
  },
  {
   "cell_type": "code",
   "execution_count": 3,
   "metadata": {},
   "outputs": [],
   "source": [
    "# X = [x.detach() for x in X]\n",
    "# X_test# nfq_agent._nfq_net(*X)\n",
    "# with torch.no_grad():\n",
    "#     model_output_values = self.model(*X)\n",
    "# # rank and determine the model outputs that we will explain\n",
    "# if output_rank_order == \"max\":\n",
    "#     _, model_output_ranks = torch.sort(model_output_values, descending=True)\n",
    "# elif output_rank_order == \"min\":\n",
    "#     _, model_output_ranks = torch.sort(model_output_values, descending=False)\n",
    "# elif output_rank_order == \"max_abs\":\n",
    "#     _, model_output_ranks = torch.sort(torch.abs(model_output_values), descending=True)\n",
    "# else:\n",
    "#     assert False, \"output_rank_order must be max, min, or max_abs!\"\n",
    "# model_output_ranks = model_output_ranks[:, :ranked_outputs]\n",
    "# else:\n",
    "#     model_output_ranks = (torch.ones((X[0].shape[0], self.num_outputs)).int() *\n",
    "#                           torch.arange(0, self.num_outputs).int())"
   ]
  },
  {
   "cell_type": "code",
   "execution_count": 4,
   "metadata": {},
   "outputs": [],
   "source": [
    "# explain how the input to the first layer of the model explains the outcome\n",
    "e = shap.DeepExplainer(nfq_agent._nfq_net, X)\n"
   ]
  },
  {
   "cell_type": "code",
   "execution_count": 5,
   "metadata": {},
   "outputs": [
    {
     "data": {
      "text/plain": [
       "torch.Size([14598, 5])"
      ]
     },
     "execution_count": 5,
     "metadata": {},
     "output_type": "execute_result"
    }
   ],
   "source": [
    "X_test.shape"
   ]
  },
  {
   "cell_type": "code",
   "execution_count": 6,
   "metadata": {},
   "outputs": [
    {
     "name": "stderr",
     "output_type": "stream",
     "text": [
      "Using a non-full backward hook when the forward contains multiple autograd Nodes is deprecated and will be removed in future versions. This hook will be missing some grad_input. Please use register_full_backward_hook to get the documented behavior.\n"
     ]
    }
   ],
   "source": [
    "shap_values = e.shap_values(X_test[:10])"
   ]
  },
  {
   "cell_type": "code",
   "execution_count": 14,
   "metadata": {},
   "outputs": [
    {
     "data": {
      "image/png": "[encoded data removed]",
      "text/plain": [
       "<Figure size 576x288 with 1 Axes>"
      ]
     },
     "metadata": {},
     "output_type": "display_data"
    }
   ],
   "source": [
    "shap.plots.bar(shap.Explanation(shap_values))"
   ]
  },
  {
   "cell_type": "code",
   "execution_count": 18,
   "metadata": {},
   "outputs": [
    {
     "data": {
      "text/plain": [
       ".values =\n",
       "array([[ 0.00711776, -0.0074509 , -0.03861272, -0.31878406, -0.00658817],\n",
       "       [ 0.00607562, -0.01098143, -0.04276424, -0.31890395, -0.0056547 ],\n",
       "       [ 0.00526058, -0.01434605, -0.04593401, -0.31610611, -0.00484796],\n",
       "       [ 0.00457561, -0.01776705, -0.04861195, -0.3117134 , -0.00410915],\n",
       "       [ 0.0039011 , -0.01908401, -0.04749681, -0.31961522,  0.00395162],\n",
       "       [ 0.00406784, -0.01603358, -0.04607432, -0.32217973,  0.00610105],\n",
       "       [ 0.00460472, -0.01455895, -0.04733366, -0.30774727, -0.0063759 ],\n",
       "       [ 0.0037603 , -0.01751149, -0.04960269, -0.30741349, -0.00542925],\n",
       "       [ 0.00306903, -0.02059549, -0.05147882, -0.30468315, -0.0045963 ],\n",
       "       [ 0.0024838 , -0.02164053, -0.05040332, -0.31340197,  0.00437318]])"
      ]
     },
     "execution_count": 18,
     "metadata": {},
     "output_type": "execute_result"
    }
   ],
   "source": [
    "shap.Explanation(shap_values)"
   ]
  },
  {
   "cell_type": "code",
   "execution_count": 9,
   "metadata": {},
   "outputs": [
    {
     "ename": "AssertionError",
     "evalue": "You must pass an Explanation object, Cohorts object, or dictionary to bar plot!",
     "output_type": "error",
     "traceback": [
      "\u001b[0;31m---------------------------------------------------------------------------\u001b[0m",
      "\u001b[0;31mAssertionError\u001b[0m                            Traceback (most recent call last)",
      "\u001b[0;32m<ipython-input-9-226c8b35369d>\u001b[0m in \u001b[0;36m<module>\u001b[0;34m\u001b[0m\n\u001b[0;32m----> 1\u001b[0;31m \u001b[0mshap\u001b[0m\u001b[0;34m.\u001b[0m\u001b[0mplots\u001b[0m\u001b[0;34m.\u001b[0m\u001b[0mbar\u001b[0m\u001b[0;34m(\u001b[0m\u001b[0mshap_values\u001b[0m\u001b[0;34m)\u001b[0m\u001b[0;34m\u001b[0m\u001b[0;34m\u001b[0m\u001b[0m\n\u001b[0m",
      "\u001b[0;32m~/opt/anaconda3/lib/python3.8/site-packages/shap/plots/_bar.py\u001b[0m in \u001b[0;36mbar\u001b[0;34m(shap_values, max_display, order, clustering, clustering_cutoff, merge_cohorts, show_data, show)\u001b[0m\n\u001b[1;32m     49\u001b[0m         \u001b[0mcohorts\u001b[0m \u001b[0;34m=\u001b[0m \u001b[0mshap_values\u001b[0m\u001b[0;34m.\u001b[0m\u001b[0mcohorts\u001b[0m\u001b[0;34m\u001b[0m\u001b[0;34m\u001b[0m\u001b[0m\n\u001b[1;32m     50\u001b[0m     \u001b[0;32melse\u001b[0m\u001b[0;34m:\u001b[0m\u001b[0;34m\u001b[0m\u001b[0;34m\u001b[0m\u001b[0m\n\u001b[0;32m---> 51\u001b[0;31m         \u001b[0;32massert\u001b[0m \u001b[0misinstance\u001b[0m\u001b[0;34m(\u001b[0m\u001b[0mshap_values\u001b[0m\u001b[0;34m,\u001b[0m \u001b[0mdict\u001b[0m\u001b[0;34m)\u001b[0m\u001b[0;34m,\u001b[0m \u001b[0;34m\"You must pass an Explanation object, Cohorts object, or dictionary to bar plot!\"\u001b[0m\u001b[0;34m\u001b[0m\u001b[0;34m\u001b[0m\u001b[0m\n\u001b[0m\u001b[1;32m     52\u001b[0m \u001b[0;34m\u001b[0m\u001b[0m\n\u001b[1;32m     53\u001b[0m     \u001b[0;31m# unpack our list of Explanation objects we need to plot\u001b[0m\u001b[0;34m\u001b[0m\u001b[0;34m\u001b[0m\u001b[0;34m\u001b[0m\u001b[0m\n",
      "\u001b[0;31mAssertionError\u001b[0m: You must pass an Explanation object, Cohorts object, or dictionary to bar plot!"
     ]
    }
   ],
   "source": [
    "shap.Expashap.plots.bar(shap_values)"
   ]
  },
  {
   "cell_type": "markdown",
   "metadata": {},
   "source": [
    "shap_values = e.shap_values(X_test)# Force left=0"
   ]
  },
  {
   "cell_type": "code",
   "execution_count": null,
   "metadata": {},
   "outputs": [],
   "source": [
    "import json\n",
    "from train_cnfqi import run\n",
    "num_iter=15\n",
    "results = {'fqi': {}, 'cfqi': {}}\n",
    "for i in range(num_iter):\n",
    "    print(str(i))\n",
    "    printed_bg, printed_fg, performance, nfq_agent = run(verbose=False, is_contrastive=True, evaluations=2, force_left=0)\n",
    "    results['cfqi'][i] = performance\n",
    "    printed_bg, printed_fg, performance, nfq_agent = run(verbose=False, is_contrastive=False, evaluations=2, force_left=0)\n",
    "    results['fqi'][i] = performance\n",
    "    \n",
    "#     with open('force_left=0.json', 'w') as f:\n",
    "#         json.dump(results, f)  "
   ]
  },
  {
   "cell_type": "code",
   "execution_count": null,
   "metadata": {},
   "outputs": [],
   "source": [
    "fqi_results = []\n",
    "cfqi_results = []\n",
    "for alg in ['cfqi', 'fqi']:\n",
    "    for key in results[alg]:\n",
    "        if alg == 'fqi':\n",
    "            fqi_results.extend(results[alg][key])\n",
    "        else:\n",
    "            cfqi_results.extend(results[alg][key])"
   ]
  },
  {
   "cell_type": "code",
   "execution_count": null,
   "metadata": {},
   "outputs": [],
   "source": [
    "sns.distplot(fqi_results, label='FQI')\n",
    "sns.distplot(cfqi_results, label='CFQI')\n",
    "plt.legend()\n",
    "plt.xlabel(\"Steps survived\")\n",
    "plt.title(\"Force left = 0\")"
   ]
  },
  {
   "cell_type": "markdown",
   "metadata": {},
   "source": [
    "# Force Left vs Performance"
   ]
  },
  {
   "cell_type": "code",
   "execution_count": null,
   "metadata": {},
   "outputs": [],
   "source": []
  },
  {
   "cell_type": "code",
   "execution_count": null,
   "metadata": {},
   "outputs": [],
   "source": []
  },
  {
   "cell_type": "code",
   "execution_count": null,
   "metadata": {},
   "outputs": [],
   "source": [
    "import json\n",
    "from train_cnfqi import run\n",
    "import numpy as np\n",
    "import scipy.stats\n",
    "import seaborn as sns\n",
    "import matplotlib.pyplot as plt\n",
    "\n",
    "num_iter=10000\n",
    "results = {}\n",
    "for i in range(11):\n",
    "    results[i] = {}\n",
    "    results[i]['cfqi'] = {}\n",
    "    results[i]['fqi'] = {}\n",
    "\n",
    "for i in range(num_iter):\n",
    "    for f in range(11):\n",
    "        printed_bg, printed_fg, performance, nfq_agent = run(verbose=False, is_contrastive=True, evaluations=2, force_left=f)\n",
    "        results[f]['cfqi'][i] = performance\n",
    "        printed_bg, printed_fg, performance, nfq_agent = run(verbose=False, is_contrastive=False, evaluations=2, force_left=f)\n",
    "        results[f]['fqi'][i] = performance\n",
    "    \n",
    "    with open('force_left_v_performance.json', 'w') as f:\n",
    "        json.dump(results, f)  \n",
    "\n",
    "\n",
    "\n",
    "def mean_confidence_interval(data, confidence=0.95):\n",
    "    a = 1.0 * np.array(data)\n",
    "    n = len(a)\n",
    "    m, se = np.mean(a), scipy.stats.sem(a)\n",
    "    h = se * scipy.stats.t.ppf((1 + confidence) / 2., n-1)\n",
    "    return m, h\n",
    "\n",
    "c_success = []\n",
    "f_success = []\n",
    "c_errs = []\n",
    "f_errs = []\n",
    "for i in range(11):\n",
    "    cfqi_perf = []\n",
    "    fqi_perf = []\n",
    "    for key in results[i]['fqi']:\n",
    "        fqi_perf.extend(results[i]['fqi'][key])\n",
    "    for key in results[i]['cfqi']:\n",
    "        cfqi_perf.extend(results[i]['cfqi'][key])\n",
    "    \n",
    "    c_success.append(np.mean(cfqi_perf))\n",
    "    f_success.append(np.mean(fqi_perf))\n",
    "    m, h = mean_confidence_interval(cfqi_perf)\n",
    "    c_errs.append(h)\n",
    "    m, h = mean_confidence_interval(fqi_perf)\n",
    "    f_errs.append(h) \n",
    "    \n",
    "x = [k for k in range(11)]\n",
    "sns.scatterplot(x, c_success, label='CFQI')\n",
    "plt.errorbar(x, c_success ,yerr=c_errs, linestyle=\"None\")\n",
    "sns.scatterplot(x, f_success, label='FQI')\n",
    "plt.errorbar(x, f_success ,yerr=f_errs, linestyle=\"None\")\n",
    "plt.title(\"Performance of CFQI and FQI when force on cart is modified\")\n",
    "plt.xlabel(\"Force Left\")\n",
    "plt.ylabel(\"Steps Survived\")\n",
    "plt.show()"
   ]
  },
  {
   "cell_type": "code",
   "execution_count": null,
   "metadata": {},
   "outputs": [],
   "source": []
  }
 ],
 "metadata": {
  "kernelspec": {
   "display_name": "Python 3",
   "language": "python",
   "name": "python3"
  },
  "language_info": {
   "codemirror_mode": {
    "name": "ipython",
    "version": 3
   },
   "file_extension": ".py",
   "mimetype": "text/x-python",
   "name": "python",
   "nbconvert_exporter": "python",
   "pygments_lexer": "ipython3",
   "version": "3.8.5"
  }
 },
 "nbformat": 4,
 "nbformat_minor": 4
}
