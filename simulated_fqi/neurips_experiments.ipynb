{
 "cells": [
  {
   "cell_type": "code",
   "execution_count": 1,
   "metadata": {},
   "outputs": [],
   "source": [
    "import json\n",
    "import sys\n",
    "from train_cnfqi import run\n",
    "import seaborn as sns\n",
    "import tqdm\n",
    "import matplotlib.pyplot as plt \n",
    "import numpy as np\n",
    "import torch"
   ]
  },
  {
   "cell_type": "markdown",
   "metadata": {},
   "source": [
    "# Interpretability"
   ]
  },
  {
   "cell_type": "code",
   "execution_count": null,
   "metadata": {},
   "outputs": [],
   "source": [
    "import shap\n",
    "printed_bg, printed_fg, performance, nfq_agent, X, X_test = run(verbose=False, is_contrastive=True, evaluations=2, force_left=5)"
   ]
  },
  {
   "cell_type": "code",
   "execution_count": null,
   "metadata": {},
   "outputs": [],
   "source": [
    "group_0 = []\n",
    "group_1 = []\n",
    "for x, g in zip(X_test[0], X_test[1]):\n",
    "    if g == 0:\n",
    "        group_0.append(x.cpu().detach().numpy())\n",
    "    else:\n",
    "        group_1.append(x.cpu().detach().numpy())"
   ]
  },
  {
   "cell_type": "code",
   "execution_count": null,
   "metadata": {},
   "outputs": [],
   "source": [
    "group_0 = torch.Tensor(np.asarray(group_0))\n",
    "group_1 = torch.Tensor(np.asarray(group_1))"
   ]
  },
  {
   "cell_type": "code",
   "execution_count": null,
   "metadata": {},
   "outputs": [],
   "source": [
    "e = shap.DeepExplainer(nfq_agent._nfq_net, X[0])\n",
    "shap_values = e.shap_values(group_0[:10])\n",
    "shap_values"
   ]
  },
  {
   "cell_type": "code",
   "execution_count": null,
   "metadata": {},
   "outputs": [],
   "source": [
    "explanation = shap.Explanation(shap_values)\n",
    "explanation.data = [\"Cart Position\", \"Cart Velocity\", \"Pole Angle\", \"Pole Velocity at Tip\", \"Action\"]"
   ]
  },
  {
   "cell_type": "code",
   "execution_count": null,
   "metadata": {},
   "outputs": [],
   "source": [
    "shap.plots.bar(shap.Explanation(shap_values), show=False)\n",
    "plt.title(\"Background SHAP Values\")\n",
    "#plt.yticks([\"Feature 0\", \"Feature 1\", \"Feature 2\", \"Feature 3\", \"Feature 4\"], [\"Cart Position\", \"Cart Velocity\", \"Pole Angle\", \"Pole Velocity at Tip\", \"Action\"])"
   ]
  },
  {
   "cell_type": "markdown",
   "metadata": {},
   "source": [
    "# Force left=0"
   ]
  },
  {
   "cell_type": "code",
   "execution_count": 2,
   "metadata": {},
   "outputs": [
    {
     "name": "stdout",
     "output_type": "stream",
     "text": [
      "0\n"
     ]
    },
    {
     "name": "stderr",
     "output_type": "stream",
     "text": [
      "/home/amandyam/.conda/envs/research/lib/python3.6/site-packages/gym/logger.py:30: UserWarning: \u001b[33mWARN: Box bound precision lowered by casting to float32\u001b[0m\n",
      "  warnings.warn(colorize('%s: %s'%('WARN', msg % args), 'yellow'))\n"
     ]
    },
    {
     "name": "stdout",
     "output_type": "stream",
     "text": [
      "Fg trained after 114 epochs\n",
      "BG stayed up for steps:  [1000, 1000]\n",
      "FG stayed up for steps:  [1000, 1000]\n",
      "Fg trained after 196 epochs\n",
      "BG stayed up for steps:  [1000, 1000]\n",
      "FG stayed up for steps:  [1000, 1000]\n",
      "1\n",
      "Fg trained after 119 epochs\n",
      "BG stayed up for steps:  [1000, 1000]\n",
      "FG stayed up for steps:  [1000, 1000]\n",
      "Fg trained after 0 epochs\n",
      "BG stayed up for steps:  [1000, 1000]\n",
      "FG stayed up for steps:  [1000, 1000]\n",
      "2\n",
      "Fg trained after 0 epochs\n",
      "BG stayed up for steps:  [141, 104]\n",
      "FG stayed up for steps:  [114, 115]\n",
      "Fg trained after 148 epochs\n",
      "BG stayed up for steps:  [1000, 1000]\n",
      "FG stayed up for steps:  [1000, 1000]\n",
      "3\n",
      "Fg trained after 100 epochs\n",
      "BG stayed up for steps:  [1000, 1000]\n",
      "FG stayed up for steps:  [1000, 1000]\n",
      "Fg trained after 0 epochs\n",
      "BG stayed up for steps:  [90, 77]\n",
      "FG stayed up for steps:  [90, 77]\n",
      "4\n",
      "Fg trained after 109 epochs\n",
      "BG stayed up for steps:  [1000, 1000]\n",
      "FG stayed up for steps:  [1000, 1000]\n",
      "Fg trained after 0 epochs\n",
      "BG stayed up for steps:  [90, 79]\n",
      "FG stayed up for steps:  [90, 79]\n",
      "5\n",
      "Fg trained after 122 epochs\n",
      "BG stayed up for steps:  [1000, 1000]\n",
      "FG stayed up for steps:  [1000, 748]\n",
      "Fg trained after 504 epochs\n",
      "BG stayed up for steps:  [1000, 1000]\n",
      "FG stayed up for steps:  [1000, 1000]\n",
      "6\n",
      "Fg trained after 92 epochs\n",
      "BG stayed up for steps:  [1000, 1000]\n",
      "FG stayed up for steps:  [1000, 1000]\n",
      "Fg trained after 689 epochs\n",
      "BG stayed up for steps:  [512, 713]\n",
      "FG stayed up for steps:  [512, 713]\n",
      "7\n",
      "Fg trained after 126 epochs\n",
      "BG stayed up for steps:  [1000, 1000]\n",
      "FG stayed up for steps:  [1000, 1000]\n",
      "Fg trained after 0 epochs\n",
      "BG stayed up for steps:  [73, 65]\n",
      "FG stayed up for steps:  [73, 65]\n",
      "8\n",
      "Fg trained after 159 epochs\n",
      "BG stayed up for steps:  [1000, 1000]\n",
      "FG stayed up for steps:  [1000, 1000]\n",
      "Fg trained after 169 epochs\n",
      "BG stayed up for steps:  [1000, 59]\n",
      "FG stayed up for steps:  [1000, 59]\n",
      "9\n",
      "Fg trained after 268 epochs\n",
      "BG stayed up for steps:  [1000, 1000]\n",
      "FG stayed up for steps:  [1000, 1000]\n",
      "Fg trained after 269 epochs\n",
      "BG stayed up for steps:  [1000, 1000]\n",
      "FG stayed up for steps:  [1000, 1000]\n",
      "10\n",
      "Fg trained after 200 epochs\n",
      "BG stayed up for steps:  [167, 617]\n",
      "FG stayed up for steps:  [62, 89]\n",
      "Fg trained after 193 epochs\n",
      "BG stayed up for steps:  [1000, 1000]\n",
      "FG stayed up for steps:  [1000, 1000]\n",
      "11\n",
      "Fg trained after 81 epochs\n",
      "BG stayed up for steps:  [97, 1000]\n",
      "FG stayed up for steps:  [1000, 1000]\n",
      "Fg trained after 381 epochs\n",
      "BG stayed up for steps:  [1000, 1000]\n",
      "FG stayed up for steps:  [1000, 1000]\n",
      "12\n",
      "Fg trained after 63 epochs\n",
      "BG stayed up for steps:  [1000, 1000]\n",
      "FG stayed up for steps:  [1000, 1000]\n",
      "Fg trained after 584 epochs\n",
      "BG stayed up for steps:  [1000, 1000]\n",
      "FG stayed up for steps:  [1000, 1000]\n",
      "13\n",
      "Fg trained after 169 epochs\n",
      "BG stayed up for steps:  [1000, 1000]\n",
      "FG stayed up for steps:  [1000, 1000]\n",
      "Fg trained after 992 epochs\n",
      "BG stayed up for steps:  [1000, 1000]\n",
      "FG stayed up for steps:  [1000, 1000]\n",
      "14\n",
      "Fg trained after 127 epochs\n",
      "BG stayed up for steps:  [1000, 1000]\n",
      "FG stayed up for steps:  [611, 1000]\n",
      "Fg trained after 0 epochs\n",
      "BG stayed up for steps:  [99, 84]\n",
      "FG stayed up for steps:  [99, 84]\n"
     ]
    }
   ],
   "source": [
    "import json\n",
    "from train_cnfqi import run, warm_start\n",
    "num_iter=15\n",
    "results = {'fqi': {}, 'cfqi': {}, 'warm_start': {}}\n",
    "for i in range(num_iter):\n",
    "    print(str(i))\n",
    "    performance = run(verbose=False, is_contrastive=True, evaluations=2, force_left=0)\n",
    "    results['cfqi'][i] = performance\n",
    "    performance = run(verbose=False, is_contrastive=False, evaluations=2, force_left=0)\n",
    "    results['fqi'][i] = performance\n",
    "    performance = warm_start(verbose=False, is_contrastive=False, evaluations=2, force_left=0)\n",
    "    results['warm_start'][i] = performance\n",
    "    \n",
    "    \n",
    "#     with open('force_left=0.json', 'w') as f:\n",
    "#         json.dump(results, f)  "
   ]
  },
  {
   "cell_type": "code",
   "execution_count": 3,
   "metadata": {},
   "outputs": [],
   "source": [
    "fqi_results = []\n",
    "cfqi_results = []\n",
    "ws_results = []\n",
    "for alg in ['cfqi', 'fqi', 'warm_start']:\n",
    "    for key in results[alg]:\n",
    "        if alg == 'fqi':\n",
    "            fqi_results.extend(results[alg][key])\n",
    "        elif alg == 'cfqi':\n",
    "            cfqi_results.extend(results[alg][key])\n",
    "        else:\n",
    "            ws_results.extend(results[alg][key ])"
   ]
  },
  {
   "cell_type": "code",
   "execution_count": 4,
   "metadata": {},
   "outputs": [
    {
     "name": "stderr",
     "output_type": "stream",
     "text": [
      "/home/amandyam/.conda/envs/research/lib/python3.6/site-packages/seaborn/distributions.py:2551: FutureWarning: `distplot` is a deprecated function and will be removed in a future version. Please adapt your code to use either `displot` (a figure-level function with similar flexibility) or `histplot` (an axes-level function for histograms).\n",
      "  warnings.warn(msg, FutureWarning)\n",
      "/home/amandyam/.conda/envs/research/lib/python3.6/site-packages/seaborn/distributions.py:2551: FutureWarning: `distplot` is a deprecated function and will be removed in a future version. Please adapt your code to use either `displot` (a figure-level function with similar flexibility) or `histplot` (an axes-level function for histograms).\n",
      "  warnings.warn(msg, FutureWarning)\n",
      "/home/amandyam/.conda/envs/research/lib/python3.6/site-packages/seaborn/distributions.py:2551: FutureWarning: `distplot` is a deprecated function and will be removed in a future version. Please adapt your code to use either `displot` (a figure-level function with similar flexibility) or `histplot` (an axes-level function for histograms).\n",
      "  warnings.warn(msg, FutureWarning)\n"
     ]
    },
    {
     "data": {
      "text/plain": [
       "Text(0.5, 1.0, 'Force left = 0')"
      ]
     },
     "execution_count": 4,
     "metadata": {},
     "output_type": "execute_result"
    },
    {
     "data": {
      "image/png": "[encoded data removed]",
      "text/plain": [
       "<Figure size 432x288 with 1 Axes>"
      ]
     },
     "metadata": {
      "needs_background": "light"
     },
     "output_type": "display_data"
    }
   ],
   "source": [
    "sns.distplot(fqi_results, label='FQI')\n",
    "sns.distplot(cfqi_results, label='CFQI')\n",
    "sns.distplot(ws_results, label='Warm Start')\n",
    "plt.legend()\n",
    "plt.xlabel(\"Steps survived\")\n",
    "plt.title(\"Force left = 0\")"
   ]
  },
  {
   "cell_type": "markdown",
   "metadata": {},
   "source": [
    "# Force Left vs Performance"
   ]
  },
  {
   "cell_type": "code",
   "execution_count": 8,
   "metadata": {},
   "outputs": [
    {
     "name": "stdout",
     "output_type": "stream",
     "text": [
      "00\n",
      "Fg trained after 274 epochs\n",
      "BG stayed up for steps:  [1000, 1000]\n",
      "FG stayed up for steps:  [1000, 1000]\n",
      "Fg trained after 119 epochs\n",
      "BG stayed up for steps:  [1000, 1000]\n",
      "FG stayed up for steps:  [1000, 1000]\n",
      "01\n",
      "Fg trained after 259 epochs\n",
      "BG stayed up for steps:  [1000, 88]\n",
      "FG stayed up for steps:  [1000, 1000]\n",
      "Fg trained after 0 epochs\n",
      "BG stayed up for steps:  [1000, 1000]\n",
      "FG stayed up for steps:  [1000, 1000]\n",
      "02\n",
      "Fg trained after 405 epochs\n",
      "BG stayed up for steps:  [1000, 1000]\n",
      "FG stayed up for steps:  [1000, 1000]\n",
      "03\n",
      "Fg trained after 180 epochs\n",
      "BG stayed up for steps:  [1000, 1000]\n",
      "FG stayed up for steps:  [1000, 1000]\n",
      "Fg trained after 0 epochs\n",
      "BG stayed up for steps:  [1000, 1000]\n",
      "FG stayed up for steps:  [1000, 1000]\n",
      "04\n",
      "Fg trained after 224 epochs\n",
      "BG stayed up for steps:  [1000, 1000]\n",
      "FG stayed up for steps:  [1000, 1000]\n",
      "Fg trained after 0 epochs\n",
      "BG stayed up for steps:  [1000, 1000]\n",
      "FG stayed up for steps:  [114, 1000]\n",
      "05\n",
      "Fg trained after 102 epochs\n",
      "BG stayed up for steps:  [1000, 1000]\n",
      "FG stayed up for steps:  [1000, 1000]\n",
      "Fg trained after 0 epochs\n",
      "BG stayed up for steps:  [68, 83]\n",
      "FG stayed up for steps:  [71, 92]\n",
      "06\n",
      "Fg trained after 0 epochs\n",
      "BG stayed up for steps:  [152, 123]\n",
      "FG stayed up for steps:  [84, 106]\n",
      "Fg trained after 0 epochs\n",
      "BG stayed up for steps:  [47, 44]\n",
      "FG stayed up for steps:  [36, 32]\n",
      "07\n",
      "Fg trained after 451 epochs\n",
      "BG stayed up for steps:  [1000, 1000]\n",
      "FG stayed up for steps:  [1000, 1000]\n",
      "Fg trained after 0 epochs\n",
      "BG stayed up for steps:  [59, 66]\n",
      "FG stayed up for steps:  [67, 79]\n",
      "08\n",
      "Fg trained after 266 epochs\n",
      "BG stayed up for steps:  [1000, 1000]\n",
      "FG stayed up for steps:  [82, 43]\n",
      "Fg trained after 0 epochs\n",
      "BG stayed up for steps:  [110, 85]\n",
      "FG stayed up for steps:  [61, 47]\n",
      "09\n",
      "Fg trained after 103 epochs\n",
      "BG stayed up for steps:  [1000, 1000]\n",
      "FG stayed up for steps:  [43, 82]\n",
      "Fg trained after 0 epochs\n",
      "BG stayed up for steps:  [53, 46]\n",
      "FG stayed up for steps:  [30, 28]\n",
      "010\n",
      "Fg trained after 402 epochs\n",
      "BG stayed up for steps:  [453, 118]\n",
      "FG stayed up for steps:  [59, 45]\n",
      "10\n",
      "Fg trained after 74 epochs\n",
      "BG stayed up for steps:  [1000, 83]\n",
      "FG stayed up for steps:  [80, 1000]\n",
      "Fg trained after 460 epochs\n",
      "BG stayed up for steps:  [1000, 1000]\n",
      "FG stayed up for steps:  [1000, 1000]\n",
      "11\n",
      "Fg trained after 130 epochs\n",
      "BG stayed up for steps:  [1000, 1000]\n",
      "FG stayed up for steps:  [1000, 1000]\n",
      "Fg trained after 187 epochs\n",
      "BG stayed up for steps:  [1000, 1000]\n",
      "FG stayed up for steps:  [1000, 1000]\n",
      "12\n",
      "Fg trained after 47 epochs\n",
      "BG stayed up for steps:  [1000, 1000]\n",
      "FG stayed up for steps:  [1000, 1000]\n",
      "Fg trained after 0 epochs\n",
      "BG stayed up for steps:  [1000, 1000]\n",
      "FG stayed up for steps:  [1000, 1000]\n",
      "13\n",
      "Fg trained after 199 epochs\n",
      "BG stayed up for steps:  [371, 409]\n",
      "FG stayed up for steps:  [254, 323]\n",
      "Fg trained after 0 epochs\n",
      "BG stayed up for steps:  [62, 62]\n",
      "FG stayed up for steps:  [136, 62]\n",
      "14\n",
      "Fg trained after 148 epochs\n",
      "BG stayed up for steps:  [1000, 1000]\n",
      "FG stayed up for steps:  [1000, 1000]\n",
      "Fg trained after 0 epochs\n",
      "BG stayed up for steps:  [61, 77]\n",
      "FG stayed up for steps:  [66, 87]\n",
      "15\n",
      "Fg trained after 255 epochs\n",
      "BG stayed up for steps:  [1000, 1000]\n",
      "FG stayed up for steps:  [1000, 1000]\n",
      "Fg trained after 0 epochs\n",
      "BG stayed up for steps:  [71, 83]\n",
      "FG stayed up for steps:  [75, 93]\n",
      "16\n",
      "Fg trained after 0 epochs\n",
      "BG stayed up for steps:  [84, 74]\n",
      "FG stayed up for steps:  [70, 62]\n",
      "Fg trained after 0 epochs\n",
      "BG stayed up for steps:  [87, 110]\n",
      "FG stayed up for steps:  [109, 194]\n",
      "17\n",
      "Fg trained after 0 epochs\n",
      "BG stayed up for steps:  [86, 73]\n",
      "FG stayed up for steps:  [43, 41]\n",
      "Fg trained after 0 epochs\n",
      "BG stayed up for steps:  [60, 73]\n",
      "FG stayed up for steps:  [69, 88]\n",
      "18\n",
      "Fg trained after 119 epochs\n",
      "BG stayed up for steps:  [1000, 1000]\n",
      "FG stayed up for steps:  [1000, 33]\n",
      "Fg trained after 0 epochs\n",
      "BG stayed up for steps:  [95, 110]\n",
      "FG stayed up for steps:  [160, 191]\n",
      "19\n",
      "Fg trained after 120 epochs\n",
      "BG stayed up for steps:  [1000, 1000]\n",
      "FG stayed up for steps:  [80, 36]\n",
      "Fg trained after 0 epochs\n",
      "BG stayed up for steps:  [49, 45]\n",
      "FG stayed up for steps:  [36, 32]\n",
      "110\n",
      "Fg trained after 105 epochs\n",
      "BG stayed up for steps:  [1000, 1000]\n",
      "FG stayed up for steps:  [70, 129]\n",
      "Fg trained after 356 epochs\n",
      "BG stayed up for steps:  [170, 80]\n",
      "FG stayed up for steps:  [54, 39]\n"
     ]
    }
   ],
   "source": [
    "import json\n",
    "from train_cnfqi import run\n",
    "import numpy as np\n",
    "import scipy.stats\n",
    "import seaborn as sns\n",
    "import matplotlib.pyplot as plt\n",
    "\n",
    "num_iter=2\n",
    "results = {}\n",
    "for i in range(11):\n",
    "    results[i] = {}\n",
    "    results[i]['cfqi'] = {}\n",
    "    results[i]['fqi'] = {}\n",
    "    results[i]['warm_start'] = {}\n",
    "\n",
    "for i in range(num_iter):\n",
    "    for f in range(11):\n",
    "        print(str(i) + str(f))\n",
    "        performance = run(verbose=False, is_contrastive=True, evaluations=2, force_left=f)\n",
    "        results[f]['cfqi'][i] = performance\n",
    "        performance = run(verbose=False, is_contrastive=False, evaluations=2, force_left=f)\n",
    "        results[f]['fqi'][i] = performance\n",
    "        performance = warm_start(verbose=False, is_contrastive=False, evaluations=2, force_left=0)\n",
    "        results[f]['warm_start'][i] = performance\n",
    "        \n",
    "    \n",
    "    with open('force_left_v_performance.json', 'w') as f:\n",
    "        json.dump(results, f)  "
   ]
  },
  {
   "cell_type": "code",
   "execution_count": 10,
   "metadata": {
    "scrolled": true
   },
   "outputs": [
    {
     "name": "stderr",
     "output_type": "stream",
     "text": [
      "/home/amandyam/.conda/envs/research/lib/python3.6/site-packages/seaborn/_decorators.py:43: FutureWarning: Pass the following variables as keyword args: x, y. From version 0.12, the only valid positional argument will be `data`, and passing other arguments without an explicit keyword will result in an error or misinterpretation.\n",
      "  FutureWarning\n",
      "/home/amandyam/.conda/envs/research/lib/python3.6/site-packages/seaborn/_decorators.py:43: FutureWarning: Pass the following variables as keyword args: x, y. From version 0.12, the only valid positional argument will be `data`, and passing other arguments without an explicit keyword will result in an error or misinterpretation.\n",
      "  FutureWarning\n",
      "/home/amandyam/.conda/envs/research/lib/python3.6/site-packages/seaborn/_decorators.py:43: FutureWarning: Pass the following variables as keyword args: x, y. From version 0.12, the only valid positional argument will be `data`, and passing other arguments without an explicit keyword will result in an error or misinterpretation.\n",
      "  FutureWarning\n"
     ]
    },
    {
     "data": {
      "image/png": "[encoded data removed]",
      "text/plain": [
       "<Figure size 432x288 with 1 Axes>"
      ]
     },
     "metadata": {
      "needs_background": "light"
     },
     "output_type": "display_data"
    }
   ],
   "source": [
    "def mean_confidence_interval(data, confidence=0.95):\n",
    "    a = 1.0 * np.array(data)\n",
    "    n = len(a)\n",
    "    m, se = np.mean(a), scipy.stats.sem(a)\n",
    "    h = se * scipy.stats.t.ppf((1 + confidence) / 2., n-1)\n",
    "    return m, h\n",
    "\n",
    "c_success = []\n",
    "f_success = []\n",
    "w_success = []\n",
    "c_errs = []\n",
    "f_errs = []\n",
    "w_errs = []\n",
    "for i in range(11):\n",
    "    cfqi_perf = []\n",
    "    fqi_perf = []\n",
    "    ws_perf = []\n",
    "    for key in results[i]['fqi']:\n",
    "        fqi_perf.extend(results[i]['fqi'][key])\n",
    "    for key in results[i]['cfqi']:\n",
    "        cfqi_perf.extend(results[i]['cfqi'][key])\n",
    "    for key in results[i]['warm_start']:\n",
    "        ws_perf.extend(results[i]['warm_start'][key])\n",
    "    \n",
    "    c_success.append(np.mean(cfqi_perf))\n",
    "    f_success.append(np.mean(fqi_perf))\n",
    "    w_success.append(np.mean(ws_perf))\n",
    "    m, h = mean_confidence_interval(cfqi_perf)\n",
    "    c_errs.append(h)\n",
    "    m, h = mean_confidence_interval(fqi_perf)\n",
    "    f_errs.append(h)\n",
    "    m, h = mean_confidence_interval(ws_perf)\n",
    "    w_errs.append(h) \n",
    "    \n",
    "x = [k for k in range(11)]\n",
    "sns.scatterplot(x, c_success, label='CFQI')\n",
    "plt.errorbar(x, c_success ,yerr=c_errs, linestyle=\"None\")\n",
    "sns.scatterplot(x, f_success, label='FQI')\n",
    "plt.errorbar(x, f_success ,yerr=f_errs, linestyle=\"None\")\n",
    "sns.scatterplot(x, w_success, label='Warm Start')\n",
    "plt.errorbar(x, w_success ,yerr=w_errs, linestyle=\"None\")\n",
    "plt.title(\"Performance of CFQI, FQI, Warm Start when force on cart is modified\")\n",
    "plt.xlabel(\"Force Left\")\n",
    "plt.ylabel(\"Steps Survived\")\n",
    "plt.show()"
   ]
  },
  {
   "cell_type": "code",
   "execution_count": null,
   "metadata": {},
   "outputs": [],
   "source": []
  }
 ],
 "metadata": {
  "kernelspec": {
   "display_name": "research [~/.conda/envs/research/]",
   "language": "python",
   "name": "conda_research"
  },
  "language_info": {
   "codemirror_mode": {
    "name": "ipython",
    "version": 3
   },
   "file_extension": ".py",
   "mimetype": "text/x-python",
   "name": "python",
   "nbconvert_exporter": "python",
   "pygments_lexer": "ipython3",
   "version": "3.6.12"
  }
 },
 "nbformat": 4,
 "nbformat_minor": 4
}