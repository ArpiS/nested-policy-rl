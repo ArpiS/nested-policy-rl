{
 "cells": [
  {
   "cell_type": "code",
   "execution_count": 1,
   "metadata": {},
   "outputs": [],
   "source": [
    "import json\n",
    "import sys\n",
    "from train_cnfqi import run\n",
    "import seaborn as sns\n",
    "import tqdm\n",
    "import matplotlib.pyplot as plt \n",
    "import numpy as np"
   ]
  },
  {
   "cell_type": "markdown",
   "metadata": {},
   "source": [
    "# Interpretability"
   ]
  },
  {
   "cell_type": "code",
   "execution_count": null,
   "metadata": {},
   "outputs": [],
   "source": [
    "import shap\n",
    "printed_bg, printed_fg, performance, nfq_agent, X, X_test = run(verbose=False, is_contrastive=True, evaluations=2, force_left=5)\n",
    "model = nfq_agent._nfq_net"
   ]
  },
  {
   "cell_type": "code",
   "execution_count": null,
   "metadata": {},
   "outputs": [],
   "source": [
    "# explain how the input to the first layer of the model explains the outcome\n",
    "e = shap.DeepExplainer(model, X)\n",
    "shap_values = e.shap_values(X_test)"
   ]
  },
  {
   "cell_type": "markdown",
   "metadata": {},
   "source": [
    "# Force left=0"
   ]
  },
  {
   "cell_type": "code",
   "execution_count": 4,
   "metadata": {},
   "outputs": [
    {
     "name": "stdout",
     "output_type": "stream",
     "text": [
      "0\n",
      "Fg trained after 141 epochs\n",
      "BG stayed up for steps:  [1000, 1000]\n",
      "FG stayed up for steps:  [1000, 1000]\n",
      "Fg trained after 406 epochs\n",
      "BG stayed up for steps:  [1000, 1000]\n",
      "FG stayed up for steps:  [1000, 1000]\n",
      "1\n",
      "Fg trained after 94 epochs\n",
      "BG stayed up for steps:  [1000, 1000]\n",
      "FG stayed up for steps:  [1000, 1000]\n",
      "Fg trained after 486 epochs\n",
      "BG stayed up for steps:  [98, 1000]\n",
      "FG stayed up for steps:  [98, 1000]\n",
      "2\n",
      "Fg trained after 0 epochs\n",
      "BG stayed up for steps:  [95, 121]\n",
      "FG stayed up for steps:  [73, 105]\n",
      "Fg trained after 0 epochs\n",
      "BG stayed up for steps:  [79, 98]\n",
      "FG stayed up for steps:  [79, 98]\n",
      "3\n",
      "Fg trained after 46 epochs\n",
      "BG stayed up for steps:  [1000, 155]\n",
      "FG stayed up for steps:  [1000, 1000]\n",
      "Fg trained after 177 epochs\n",
      "BG stayed up for steps:  [1000, 161]\n",
      "FG stayed up for steps:  [1000, 161]\n",
      "4\n",
      "Fg trained after 709 epochs\n",
      "BG stayed up for steps:  [1000, 1000]\n",
      "FG stayed up for steps:  [1000, 1000]\n",
      "Fg trained after 170 epochs\n",
      "BG stayed up for steps:  [1000, 1000]\n",
      "FG stayed up for steps:  [1000, 1000]\n",
      "5\n",
      "Fg trained after 274 epochs\n",
      "BG stayed up for steps:  [1000, 1000]\n",
      "FG stayed up for steps:  [1000, 1000]\n",
      "Fg trained after 177 epochs\n",
      "BG stayed up for steps:  [1000, 410]\n",
      "FG stayed up for steps:  [1000, 410]\n",
      "6\n",
      "Fg trained after 417 epochs\n",
      "BG stayed up for steps:  [1000, 1000]\n",
      "FG stayed up for steps:  [1000, 1000]\n",
      "Fg trained after 0 epochs\n",
      "BG stayed up for steps:  [84, 104]\n",
      "FG stayed up for steps:  [84, 104]\n",
      "7\n",
      "Fg trained after 122 epochs\n",
      "BG stayed up for steps:  [1000, 1000]\n",
      "FG stayed up for steps:  [1000, 1000]\n",
      "Fg trained after 180 epochs\n",
      "BG stayed up for steps:  [1000, 1000]\n",
      "FG stayed up for steps:  [1000, 1000]\n",
      "8\n",
      "Fg trained after 217 epochs\n",
      "BG stayed up for steps:  [1000, 1000]\n",
      "FG stayed up for steps:  [1000, 1000]\n",
      "Fg trained after 354 epochs\n",
      "BG stayed up for steps:  [1000, 1000]\n",
      "FG stayed up for steps:  [1000, 1000]\n",
      "9\n",
      "Fg trained after 174 epochs\n",
      "BG stayed up for steps:  [1000, 288]\n",
      "FG stayed up for steps:  [1000, 1000]\n",
      "Fg trained after 262 epochs\n",
      "BG stayed up for steps:  [1000, 1000]\n",
      "FG stayed up for steps:  [1000, 1000]\n",
      "10\n",
      "Fg trained after 193 epochs\n",
      "BG stayed up for steps:  [1000, 153]\n",
      "FG stayed up for steps:  [85, 69]\n",
      "Fg trained after 335 epochs\n",
      "BG stayed up for steps:  [1000, 1000]\n",
      "FG stayed up for steps:  [1000, 1000]\n",
      "11\n",
      "Fg trained after 245 epochs\n",
      "BG stayed up for steps:  [1000, 1000]\n",
      "FG stayed up for steps:  [1000, 1000]\n",
      "Fg trained after 613 epochs\n",
      "BG stayed up for steps:  [1000, 1000]\n",
      "FG stayed up for steps:  [1000, 1000]\n",
      "12\n",
      "Fg trained after 148 epochs\n",
      "BG stayed up for steps:  [1000, 1000]\n",
      "FG stayed up for steps:  [1000, 1000]\n",
      "Fg trained after 197 epochs\n",
      "BG stayed up for steps:  [1000, 1000]\n",
      "FG stayed up for steps:  [1000, 1000]\n",
      "13\n",
      "Fg trained after 0 epochs\n",
      "BG stayed up for steps:  [119, 162]\n",
      "FG stayed up for steps:  [89, 141]\n",
      "Fg trained after 440 epochs\n",
      "BG stayed up for steps:  [1000, 1000]\n",
      "FG stayed up for steps:  [1000, 1000]\n",
      "14\n",
      "Fg trained after 188 epochs\n",
      "BG stayed up for steps:  [326, 1000]\n",
      "FG stayed up for steps:  [1000, 230]\n",
      "Fg trained after 0 epochs\n",
      "BG stayed up for steps:  [64, 70]\n",
      "FG stayed up for steps:  [64, 70]\n"
     ]
    }
   ],
   "source": [
    "import json\n",
    "from train_cnfqi import run\n",
    "num_iter=15\n",
    "results = {'fqi': {}, 'cfqi': {}}\n",
    "for i in range(num_iter):\n",
    "    print(str(i))\n",
    "    printed_bg, printed_fg, performance, nfq_agent = run(verbose=False, is_contrastive=True, evaluations=2, force_left=0)\n",
    "    results['cfqi'][i] = performance\n",
    "    printed_bg, printed_fg, performance, nfq_agent = run(verbose=False, is_contrastive=False, evaluations=2, force_left=0)\n",
    "    results['fqi'][i] = performance\n",
    "    \n",
    "#     with open('force_left=0.json', 'w') as f:\n",
    "#         json.dump(results, f)  "
   ]
  },
  {
   "cell_type": "code",
   "execution_count": 7,
   "metadata": {},
   "outputs": [],
   "source": [
    "fqi_results = []\n",
    "cfqi_results = []\n",
    "for alg in ['cfqi', 'fqi']:\n",
    "    for key in results[alg]:\n",
    "        if alg == 'fqi':\n",
    "            fqi_results.extend(results[alg][key])\n",
    "        else:\n",
    "            cfqi_results.extend(results[alg][key])"
   ]
  },
  {
   "cell_type": "code",
   "execution_count": 11,
   "metadata": {},
   "outputs": [
    {
     "name": "stderr",
     "output_type": "stream",
     "text": [
      "/home/amandyam/.conda/envs/research/lib/python3.6/site-packages/seaborn/distributions.py:2551: FutureWarning: `distplot` is a deprecated function and will be removed in a future version. Please adapt your code to use either `displot` (a figure-level function with similar flexibility) or `histplot` (an axes-level function for histograms).\n",
      "  warnings.warn(msg, FutureWarning)\n",
      "/home/amandyam/.conda/envs/research/lib/python3.6/site-packages/seaborn/distributions.py:2551: FutureWarning: `distplot` is a deprecated function and will be removed in a future version. Please adapt your code to use either `displot` (a figure-level function with similar flexibility) or `histplot` (an axes-level function for histograms).\n",
      "  warnings.warn(msg, FutureWarning)\n"
     ]
    },
    {
     "data": {
      "text/plain": [
       "Text(0.5, 1.0, 'Force left = 0')"
      ]
     },
     "execution_count": 11,
     "metadata": {},
     "output_type": "execute_result"
    },
    {
     "data": {
      "image/png": "[encoded data removed]",
      "text/plain": [
       "<Figure size 432x288 with 1 Axes>"
      ]
     },
     "metadata": {
      "needs_background": "light"
     },
     "output_type": "display_data"
    }
   ],
   "source": [
    "sns.distplot(fqi_results, label='FQI')\n",
    "sns.distplot(cfqi_results, label='CFQI')\n",
    "plt.legend()\n",
    "plt.xlabel(\"Steps survived\")\n",
    "plt.title(\"Force left = 0\")"
   ]
  },
  {
   "cell_type": "code",
   "execution_count": null,
   "metadata": {},
   "outputs": [],
   "source": []
  }
 ],
 "metadata": {
  "kernelspec": {
   "display_name": "research [~/.conda/envs/research/]",
   "language": "python",
   "name": "conda_research"
  },
  "language_info": {
   "codemirror_mode": {
    "name": "ipython",
    "version": 3
   },
   "file_extension": ".py",
   "mimetype": "text/x-python",
   "name": "python",
   "nbconvert_exporter": "python",
   "pygments_lexer": "ipython3",
   "version": "3.6.12"
  }
 },
 "nbformat": 4,
 "nbformat_minor": 4
}
