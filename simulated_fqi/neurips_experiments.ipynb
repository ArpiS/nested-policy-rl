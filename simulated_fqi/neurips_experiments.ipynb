{
 "cells": [
  {
   "cell_type": "code",
   "execution_count": 1,
   "metadata": {},
   "outputs": [],
   "source": [
    "import json\n",
    "import sys\n",
    "from train_cnfqi import run\n",
    "import seaborn as sns\n",
    "import tqdm\n",
    "import matplotlib.pyplot as plt \n",
    "import numpy as np\n",
    "import torch\n",
    "import random\n",
    "import shap"
   ]
  },
  {
   "cell_type": "markdown",
   "metadata": {},
   "source": [
    "# Interpretability"
   ]
  },
  {
   "cell_type": "code",
   "execution_count": null,
   "metadata": {},
   "outputs": [],
   "source": [
    "performance_fg, performance_bg, nfq_agent, X, X_test = run(verbose=False, is_contrastive=True, evaluations=2, force_left=6)"
   ]
  },
  {
   "cell_type": "code",
   "execution_count": null,
   "metadata": {},
   "outputs": [],
   "source": [
    "group_0 = []\n",
    "group_1 = []\n",
    "for x, g in zip(X_test[0], X_test[1]):\n",
    "    if g == 0:\n",
    "        group_0.append(x.cpu().detach().numpy())\n",
    "    else:\n",
    "        group_1.append(x.cpu().detach().numpy())\n",
    "group_0 = torch.Tensor(np.asarray(group_0))\n",
    "group_1 = torch.Tensor(np.asarray(group_1))\n",
    "e = shap.DeepExplainer(nfq_agent._nfq_net, X[0])\n",
    "shap_values = e.shap_values(group_0[:300])\n",
    "explanation = shap.Explanation(shap_values)\n",
    "shap_values"
   ]
  },
  {
   "cell_type": "code",
   "execution_count": null,
   "metadata": {},
   "outputs": [],
   "source": [
    "shap.plots.beeswarm(explanation, show=False)\n",
    "plt.title(\"Shared SHAP Values\")\n",
    "np.save('cfqi_shared_shap', shap_values)"
   ]
  },
  {
   "cell_type": "code",
   "execution_count": null,
   "metadata": {},
   "outputs": [],
   "source": [
    "#\"Cart Position\", \"Cart Velocity\", \"Pole Angle\", \"Pole Velocity at Tip\", \"Action\""
   ]
  },
  {
   "cell_type": "code",
   "execution_count": null,
   "metadata": {},
   "outputs": [],
   "source": [
    "shap_shared = np.load('cfqi_shared_shap.npy')\n",
    "shap_fg = np.load('cfqi_fg_shap.npy')\n",
    "explanation = shap.Explanation(shap_shared)\n",
    "shap.plots.beeswarm(explanation, show=False, color='b')\n",
    "explanation = shap.Explanation(shap_fg)\n",
    "shap.plots.beeswarm(explanation, show=False, color='r')\n",
    "plt.title(\"CFQI Shap Values\")\n",
    "plt.savefig('CFQI_Sim_SHAP.pdf', transparent=True)"
   ]
  },
  {
   "cell_type": "markdown",
   "metadata": {},
   "source": [
    "# Force left=0"
   ]
  },
  {
   "cell_type": "code",
   "execution_count": null,
   "metadata": {},
   "outputs": [],
   "source": [
    "import json\n",
    "from train_cnfqi import run, warm_start, transfer_learning\n",
    "num_iter=10\n",
    "results = {'fqi': {}, 'cfqi': {}, 'warm_start': {}, 'tl': {}}\n",
    "for i in range(num_iter):\n",
    "    print(str(i))\n",
    "    performance = run(verbose=False, is_contrastive=True, evaluations=2, force_left=0)\n",
    "    results['cfqi'][i] = performance\n",
    "    performance = run(verbose=False, is_contrastive=False, evaluations=2, force_left=0)\n",
    "    results['fqi'][i] = performance\n",
    "    performance = warm_start(verbose=False, is_contrastive=False, evaluations=2, force_left=0)\n",
    "    results['warm_start'][i] = performance\n",
    "    performance = transfer_learning(verbose=False, is_contrastive=False, evaluations=2, force_left=0)\n",
    "    results['tl'][i] = performance\n",
    "    \n",
    "    \n",
    "    with open('force_left=0.json', 'w') as f:\n",
    "        json.dump(results, f)  "
   ]
  },
  {
   "cell_type": "code",
   "execution_count": null,
   "metadata": {},
   "outputs": [],
   "source": [
    "fqi_results = []\n",
    "cfqi_results = []\n",
    "ws_results = []\n",
    "tl_results = []\n",
    "for alg in ['cfqi', 'fqi', 'warm_start', 'tl']:\n",
    "    for key in results[alg]:\n",
    "        if alg == 'fqi':\n",
    "            fqi_results.extend(results[alg][key])\n",
    "        elif alg == 'cfqi':\n",
    "            cfqi_results.extend(results[alg][key])\n",
    "        elif alg == 'warm_start':\n",
    "            ws_results.extend(results[alg][key])\n",
    "        else:\n",
    "            tl_results.extend(results[alg][key])"
   ]
  },
  {
   "cell_type": "code",
   "execution_count": null,
   "metadata": {},
   "outputs": [],
   "source": [
    "sns.distplot(fqi_results, label='FQI')\n",
    "sns.distplot(cfqi_results, label='CFQI')\n",
    "sns.distplot(ws_results, label='Warm Start')\n",
    "sns.distplot(tl_results, label='Transfer Learning')\n",
    "plt.legend()\n",
    "plt.xlabel(\"Steps survived\")\n",
    "plt.title(\"Force left = 0\")"
   ]
  },
  {
   "cell_type": "markdown",
   "metadata": {},
   "source": [
    "# Force Left vs Performance"
   ]
  },
  {
   "cell_type": "code",
   "execution_count": null,
   "metadata": {},
   "outputs": [],
   "source": [
    "import json\n",
    "from train_cnfqi import run, warm_start, transfer_learning\n",
    "import numpy as np\n",
    "import scipy.stats\n",
    "import seaborn as sns\n",
    "import matplotlib.pyplot as plt\n",
    "\n",
    "num_iter=2\n",
    "results = {}\n",
    "for i in range(0, 11):\n",
    "    results[i] = {}\n",
    "    results[i]['cfqi'] = {}\n",
    "    results[i]['fqi'] = {}\n",
    "    results[i]['warm_start'] = {}\n",
    "    results[i]['tl'] = {}\n",
    "\n",
    "for i in range(num_iter):\n",
    "    for f in range(0, 11):\n",
    "        print(str(i) + str(f))\n",
    "        performance_fg, performance_bg = run(verbose=False, is_contrastive=True, evaluations=2, force_left=f)\n",
    "        results[f]['cfqi'][i] = (performance_fg, performance_bg)\n",
    "        performance_fg, performance_bg = run(verbose=False, is_contrastive=False, evaluations=2, force_left=f)\n",
    "        results[f]['fqi'][i] = (performance_fg, performance_bg)\n",
    "        performance_fg, performance_bg = warm_start(verbose=False, is_contrastive=False, evaluations=2, force_left=f)\n",
    "        results[f]['warm_start'][i] = (performance_fg, performance_bg)\n",
    "        performance_fg, performance_bg = transfer_learning(verbose=False, is_contrastive=False, evaluations=2, force_left=f)\n",
    "        results[f]['tl'][i] = (performance_fg, performance_bg)\n",
    "        \n",
    "    \n",
    "    with open('force_left_v_performance.json', 'w') as f:\n",
    "        json.dump(results, f)  "
   ]
  },
  {
   "cell_type": "code",
   "execution_count": null,
   "metadata": {},
   "outputs": [],
   "source": [
    "results[0]['cfqi'][0]"
   ]
  },
  {
   "cell_type": "code",
   "execution_count": null,
   "metadata": {
    "scrolled": true
   },
   "outputs": [],
   "source": [
    "def mean_confidence_interval(data, confidence=0.95):\n",
    "    a = 1.0 * np.array(data)\n",
    "    n = len(a)\n",
    "    m, se = np.mean(a), scipy.stats.sem(a)\n",
    "    h = se * scipy.stats.t.ppf((1 + confidence) / 2., n-1)\n",
    "    return m, h\n",
    "\n",
    "def plot_performance(results, ds='bg'):\n",
    "    c_success = []\n",
    "    f_success = []\n",
    "    w_success = []\n",
    "    t_success = []\n",
    "    c_errs = []\n",
    "    f_errs = []\n",
    "    w_errs = []\n",
    "    t_errs = []\n",
    "    if ds == 'bg':\n",
    "        ind = 1\n",
    "    else:\n",
    "        ind = 0\n",
    "    for i in range(0, 11):\n",
    "        cfqi_perf = []\n",
    "        fqi_perf = []\n",
    "        ws_perf = []\n",
    "        tl_perf = []\n",
    "        for key in results[i]['fqi']:\n",
    "            fqi_perf.extend(results[i]['fqi'][key][ind])\n",
    "        for key in results[i]['cfqi']:\n",
    "            cfqi_perf.extend(results[i]['cfqi'][key][ind])\n",
    "        for key in results[i]['warm_start']:\n",
    "            ws_perf.extend(results[i]['warm_start'][key][ind])\n",
    "        for key in results[i]['tl']:\n",
    "            tl_perf.extend(results[i]['tl'][key][ind])\n",
    "\n",
    "        c_success.append(np.mean(cfqi_perf))\n",
    "        f_success.append(np.mean(fqi_perf))\n",
    "        w_success.append(np.mean(ws_perf))\n",
    "        t_success.append(np.mean(tl_perf))\n",
    "        m, h = mean_confidence_interval(cfqi_perf)\n",
    "        c_errs.append(h)\n",
    "        m, h = mean_confidence_interval(fqi_perf)\n",
    "        f_errs.append(h)\n",
    "        m, h = mean_confidence_interval(ws_perf)\n",
    "        w_errs.append(h)\n",
    "        m, h = mean_confidence_interval(tl_perf)\n",
    "        t_errs.append(h) \n",
    "\n",
    "    x = [k for k in range(0, 11)]\n",
    "    plt.figure(figsize=(10, 4))\n",
    "    sns.scatterplot(x, c_success, label='CFQI')\n",
    "    plt.errorbar(x, c_success ,yerr=c_errs, linestyle=\"None\")\n",
    "    sns.scatterplot(x, f_success, label='FQI')\n",
    "    plt.errorbar(x, f_success ,yerr=f_errs, linestyle=\"None\")\n",
    "    sns.scatterplot(x, w_success, label='Warm Start')\n",
    "    plt.errorbar(x, w_success ,yerr=w_errs, linestyle=\"None\")\n",
    "    sns.scatterplot(x, t_success, label='Transfer Learning')\n",
    "    plt.errorbar(x, t_success ,yerr=t_errs, linestyle=\"None\")\n",
    "    if ds == 'bg':\n",
    "        plt.title(\"Background Dataset: Performance of CFQI, FQI, Warm Start, Transfer Learning when force on cart is modified\")\n",
    "    else:\n",
    "        plt.title(\"Foreground Dataset: Performance of CFQI, FQI, Warm Start, Transfer Learning when force on cart is modified\")\n",
    "    plt.xlabel(\"Force Left\")\n",
    "    plt.ylabel(\"Steps Survived\")\n",
    "    plt.show()"
   ]
  },
  {
   "cell_type": "code",
   "execution_count": null,
   "metadata": {},
   "outputs": [],
   "source": [
    "plot_performance(results, ds='bg')\n",
    "plot_performance(results, ds='fg')"
   ]
  },
  {
   "cell_type": "markdown",
   "metadata": {},
   "source": [
    "# Shuffle test"
   ]
  },
  {
   "cell_type": "code",
   "execution_count": 2,
   "metadata": {},
   "outputs": [],
   "source": [
    "import configargparse\n",
    "import torch\n",
    "import torch.optim as optim\n",
    "\n",
    "from environments import CartPoleRegulatorEnv\n",
    "from environments import CartEnv\n",
    "from environments import AcrobotEnv\n",
    "from models.agents import NFQAgent\n",
    "from models.networks import NFQNetwork, ContrastiveNFQNetwork\n",
    "# from simulated_fqi import NFQAgent\n",
    "# from simulated_fqi import NFQNetwork, ContrastiveNFQNetwork\n",
    "from util import get_logger, close_logger, load_models, make_reproducible, save_models\n",
    "import matplotlib.pyplot as plt\n",
    "import numpy as np\n",
    "import itertools\n",
    "import random"
   ]
  },
  {
   "cell_type": "code",
   "execution_count": null,
   "metadata": {},
   "outputs": [],
   "source": [
    "def shuffle_test(verbose=False, epoch=1000, train_env_max_steps=100, eval_env_max_steps=3000, discount=0.95, \n",
    "                 init_experience=200, increment_experience=0, hint_to_goal=0, evaluations=5, force_left=0, random_seed=1234):\n",
    "    # Setup environment\n",
    "    bg_cart_mass = 1.0\n",
    "    fg_cart_mass = 1.0\n",
    "    is_contrastive = True\n",
    "    train_env_bg = CartPoleRegulatorEnv(group=0, masscart=bg_cart_mass, mode=\"train\", force_left=force_left, is_contrastive=is_contrastive)\n",
    "    train_env_fg = CartPoleRegulatorEnv(group=1, masscart=fg_cart_mass, mode=\"train\", force_left=force_left, is_contrastive=is_contrastive)\n",
    "    eval_env_bg = CartPoleRegulatorEnv(group=0, masscart=bg_cart_mass, mode=\"eval\", force_left=force_left, is_contrastive=is_contrastive)\n",
    "    eval_env_fg = CartPoleRegulatorEnv(group=1, masscart=fg_cart_mass, mode=\"eval\", force_left=force_left, is_contrastive=is_contrastive)\n",
    "\n",
    "    # Log to File, Console, TensorBoard, W&B\n",
    "    logger = get_logger()\n",
    "\n",
    "    # Setup agent\n",
    "    nfq_net = ContrastiveNFQNetwork(state_dim=train_env_bg.state_dim, is_contrastive=is_contrastive)\n",
    "    # optimizer = optim.Rprop(nfq_net.parameters())\n",
    "\n",
    "    if is_contrastive:\n",
    "        optimizer = optim.Adam(itertools.chain(nfq_net.layers_shared.parameters(), nfq_net.layers_last_shared.parameters()), lr=1e-1)\n",
    "    else:\n",
    "        optimizer = optim.Adam(nfq_net.parameters(), lr=1e-1)\n",
    "\n",
    "    nfq_agent = NFQAgent(nfq_net, optimizer)\n",
    "\n",
    "    # NFQ Main loop\n",
    "    # A set of transition samples denoted as D\n",
    "    bg_rollouts = []\n",
    "    fg_rollouts = []\n",
    "    if init_experience > 0:\n",
    "        for _ in range(init_experience):\n",
    "            bg_group = random.choice([0, 1])\n",
    "            fg_group = random.choice([0, 1])\n",
    "            rollout_bg, episode_cost = train_env_bg.generate_rollout(\n",
    "                None, render=False, group=bg_group\n",
    "            )\n",
    "            rollout_fg, episode_cost = train_env_fg.generate_rollout(\n",
    "                None, render=False, group=fg_group\n",
    "            )\n",
    "            bg_rollouts.extend(rollout_bg)\n",
    "            fg_rollouts.extend(rollout_fg)\n",
    "    bg_rollouts.extend(fg_rollouts)\n",
    "    all_rollouts = bg_rollouts.copy()\n",
    "\n",
    "    bg_rollouts_test = []\n",
    "    fg_rollouts_test = []\n",
    "    if init_experience > 0:\n",
    "        for _ in range(init_experience):\n",
    "            bg_group = random.choice([0, 1])\n",
    "            fg_group = random.choice([0, 1])\n",
    "            rollout_bg, episode_cost = eval_env_bg.generate_rollout(\n",
    "                None, render=False, group=bg_group\n",
    "            )\n",
    "            rollout_fg, episode_cost = eval_env_fg.generate_rollout(\n",
    "                None, render=False, group=fg_group\n",
    "            )\n",
    "            bg_rollouts_test.extend(rollout_bg)\n",
    "            fg_rollouts_test.extend(rollout_fg)\n",
    "    bg_rollouts_test.extend(fg_rollouts)\n",
    "    all_rollouts_test = bg_rollouts_test.copy()\n",
    "\n",
    "    state_action_b, target_q_values, groups = nfq_agent.generate_pattern_set(all_rollouts_test)\n",
    "    X_test = state_action_b\n",
    "    test_groups = groups\n",
    "\n",
    "    bg_success_queue = [0] * 3\n",
    "    fg_success_queue = [0] * 3\n",
    "    epochs_fg = 0\n",
    "    eval_fg = 0\n",
    "    for epoch in range(epoch + 1):\n",
    "\n",
    "        state_action_b, target_q_values, groups = nfq_agent.generate_pattern_set(all_rollouts)\n",
    "        X = state_action_b\n",
    "        train_groups = groups\n",
    "\n",
    "        if not nfq_net.freeze_shared:\n",
    "            loss = nfq_agent.train((state_action_b, target_q_values, groups))\n",
    "\n",
    "        eval_episode_length_fg, eval_success_fg, eval_episode_cost_fg = 0, 0, 0\n",
    "        if nfq_net.freeze_shared:\n",
    "            eval_fg += 1\n",
    "\n",
    "            if eval_fg > 50:\n",
    "                loss = nfq_agent.train((state_action_b, target_q_values, groups))\n",
    "\n",
    "        if is_contrastive:\n",
    "            # import ipdb; ipdb.set_trace()\n",
    "            if nfq_net.freeze_shared:\n",
    "                eval_episode_length_fg, eval_success_fg, eval_episode_cost_fg = nfq_agent.evaluate(\n",
    "                    eval_env_fg, render=False\n",
    "                )\n",
    "                for param in nfq_net.layers_fg.parameters():\n",
    "                    assert param.requires_grad == True\n",
    "                for param in nfq_net.layers_last_fg.parameters():\n",
    "                    assert param.requires_grad == True\n",
    "                for param in nfq_net.layers_shared.parameters():\n",
    "                    assert param.requires_grad == False\n",
    "                for param in nfq_net.layers_last_shared.parameters():\n",
    "                    assert param.requires_grad == False\n",
    "            else:\n",
    "\n",
    "                for param in nfq_net.layers_fg.parameters():\n",
    "                    assert param.requires_grad == False\n",
    "                for param in nfq_net.layers_last_fg.parameters():\n",
    "                    assert param.requires_grad == False\n",
    "                for param in nfq_net.layers_shared.parameters():\n",
    "                    assert param.requires_grad == True\n",
    "                for param in nfq_net.layers_last_shared.parameters():\n",
    "                    assert param.requires_grad == True\n",
    "                eval_episode_length_bg, eval_success_bg, eval_episode_cost_bg = nfq_agent.evaluate(\n",
    "                    eval_env_bg, render=False\n",
    "                )\n",
    "\n",
    "\n",
    "        else:\n",
    "            eval_episode_length_bg, eval_success_bg, eval_episode_cost_bg = nfq_agent.evaluate(\n",
    "                eval_env_bg, render=False\n",
    "            )\n",
    "            eval_episode_length_fg, eval_success_fg, eval_episode_cost_fg = nfq_agent.evaluate(\n",
    "                eval_env_fg, render=False\n",
    "            )\n",
    "\n",
    "        bg_success_queue = bg_success_queue[1:]\n",
    "        bg_success_queue.append(1 if eval_success_bg else 0)\n",
    "\n",
    "        fg_success_queue = fg_success_queue[1:]\n",
    "        fg_success_queue.append(1 if eval_success_fg else 0)\n",
    "\n",
    "        printed_bg = False\n",
    "        printed_fg = False\n",
    "\n",
    "        if sum(bg_success_queue) == 3 and not nfq_net.freeze_shared == True:\n",
    "            if epochs_fg == 0:\n",
    "                epochs_fg = epoch\n",
    "            printed_bg = True\n",
    "            nfq_net.freeze_shared = True\n",
    "            if verbose:\n",
    "                print(\"FREEZING SHARED\")\n",
    "            if is_contrastive:\n",
    "                for param in nfq_net.layers_shared.parameters():\n",
    "                    param.requires_grad = False\n",
    "                for param in nfq_net.layers_last_shared.parameters():\n",
    "                    param.requires_grad = False\n",
    "                for param in nfq_net.layers_fg.parameters():\n",
    "                    param.requires_grad = True\n",
    "                for param in nfq_net.layers_last_fg.parameters():\n",
    "                    param.requires_grad = True\n",
    "            # else:\n",
    "            #     for param in nfq_net.layers_fg.parameters():\n",
    "            #         param.requires_grad = False\n",
    "            #     for param in nfq_net.layers_last_fg.parameters():\n",
    "            #         param.requires_grad = False\n",
    "\n",
    "                optimizer = optim.Adam(itertools.chain(nfq_net.layers_fg.parameters(), nfq_net.layers_last_fg.parameters()), lr=1e-1)\n",
    "                nfq_agent._optimizer = optimizer\n",
    "            # break\n",
    "\n",
    "        # Print current status\n",
    "        if verbose:\n",
    "            logger.info(\n",
    "                # \"Epoch {:4d} | Eval BG {:4d} / {:4f} | Eval FG {:4d} / {:4f} | Train Loss {:.4f}\".format(\n",
    "                #     epoch, eval_env_bg.success_step, eval_episode_cost_bg, eval_env_fg.success_step, eval_episode_cost_fg, loss\n",
    "                # )\n",
    "                \"Epoch {:4d} | Eval BG {:4d} / {:4f} | Eval FG {:4d} / {:4f} | Train Loss {:.4f}\".format(\n",
    "                    epoch, eval_episode_length_bg, eval_episode_cost_bg, eval_episode_length_fg, eval_episode_cost_fg, loss\n",
    "                )\n",
    "            )\n",
    "        if sum(fg_success_queue) == 3:\n",
    "            printed_fg = True\n",
    "            if verbose:\n",
    "                logger.info(\n",
    "                    \"Epoch {:4d} | Total Cycles {:6d} | Total Cost {:4.2f}\".format(\n",
    "                        epoch, len(all_rollouts), total_cost\n",
    "                    )\n",
    "                )\n",
    "            break\n",
    "\n",
    "    eval_env_bg.step_number = 0\n",
    "    eval_env_fg.step_number = 0\n",
    "\n",
    "    eval_env_bg.max_steps = 1000\n",
    "    eval_env_fg.max_steps = 1000\n",
    "\n",
    "    performance = []\n",
    "    num_steps_bg = []\n",
    "    num_steps_fg = []\n",
    "    total = 0\n",
    "    for it in range(evaluations):\n",
    "\n",
    "        # eval_env_bg.save_gif = True\n",
    "        eval_episode_length_bg, eval_success_bg, eval_episode_cost_bg = nfq_agent.evaluate(eval_env_bg, True)\n",
    "        # eval_env_bg.create_gif()\n",
    "        if verbose:\n",
    "            print(eval_episode_length_bg, eval_success_bg)\n",
    "        num_steps_bg.append(eval_episode_length_bg)\n",
    "        performance.append(eval_episode_length_bg)\n",
    "        total += 1\n",
    "        train_env_bg.close()\n",
    "        eval_env_bg.close()\n",
    "\n",
    "        # eval_env_fg.save_gif = True\n",
    "        eval_episode_length_fg, eval_success_fg, eval_episode_cost_fg = nfq_agent.evaluate(eval_env_fg, True)\n",
    "        # eval_env_fg.create_gif()\n",
    "        if verbose:\n",
    "            print(eval_episode_length_fg, eval_success_fg)\n",
    "        num_steps_fg.append(eval_episode_length_fg)\n",
    "        performance.append(eval_episode_length_fg)\n",
    "        total += 1\n",
    "        train_env_fg.close()\n",
    "        eval_env_fg.close()\n",
    "    \n",
    "    state_action_b, target_q_values, groups = nfq_agent.generate_pattern_set(all_rollouts)\n",
    "    X = (state_action_b, groups)\n",
    "\n",
    "\n",
    "    state_action_b, target_q_values, groups = nfq_agent.generate_pattern_set(all_rollouts_test)\n",
    "    X_test = (state_action_b, groups)\n",
    "    \n",
    "    print(\"Fg trained after \" + str(epochs_fg) + \" epochs\")\n",
    "    print(\"BG stayed up for steps: \", num_steps_bg)\n",
    "    print(\"FG stayed up for steps: \", num_steps_fg)\n",
    "    return nfq_agent, X, X_test"
   ]
  },
  {
   "cell_type": "code",
   "execution_count": null,
   "metadata": {},
   "outputs": [],
   "source": [
    "nfq_agent, X, X_test = shuffle_test()\n",
    "group_0 = []\n",
    "group_1 = []\n",
    "for x, g in zip(X_test[0], X_test[1]):\n",
    "    if g == 0:\n",
    "        group_0.append(x.cpu().detach().numpy())\n",
    "    else:\n",
    "        group_1.append(x.cpu().detach().numpy())\n",
    "group_0 = torch.Tensor(np.asarray(group_0))\n",
    "group_1 = torch.Tensor(np.asarray(group_1))\n",
    "e = shap.DeepExplainer(nfq_agent._nfq_net, X[0])\n",
    "shap_values = e.shap_values(group_1[:150])\n",
    "explanation = shap.Explanation(shap_values)\n",
    "shap_values"
   ]
  },
  {
   "cell_type": "code",
   "execution_count": null,
   "metadata": {},
   "outputs": [],
   "source": [
    "shap.plots.beeswarm(explanation, show=False)\n",
    "plt.title(\"Fg SHAP Values\")\n",
    "np.save('cfqi_shuffle_fg_shap', shap_values)"
   ]
  },
  {
   "cell_type": "code",
   "execution_count": 8,
   "metadata": {},
   "outputs": [
    {
     "data": {
      "image/png": "[encoded data removed]",
      "text/plain": [
       "<Figure size 576x288 with 1 Axes>"
      ]
     },
     "metadata": {},
     "output_type": "display_data"
    }
   ],
   "source": [
    "shap_shared = np.load('cfqi_shuffle_shared_shap.npy')\n",
    "shap_fg = np.load('cfqi_shuffle_fg_shap.npy')\n",
    "explanation = shap.Explanation(shap_shared)\n",
    "shap.plots.bar(explanation, show=False)\n",
    "plt.title(\"Group 0 SHAP values\")\n",
    "plt.savefig('CFQI_Shuffle_Group0.pdf', transparent=True)"
   ]
  },
  {
   "cell_type": "code",
   "execution_count": 9,
   "metadata": {},
   "outputs": [
    {
     "data": {
      "image/png": "[encoded data removed]",
      "text/plain": [
       "<Figure size 576x288 with 1 Axes>"
      ]
     },
     "metadata": {},
     "output_type": "display_data"
    }
   ],
   "source": [
    "explanation = shap.Explanation(shap_fg)\n",
    "shap.plots.bar(explanation, show=False)\n",
    "plt.title(\"Group 1 SHAP values\")\n",
    "plt.savefig('CFQI_Shuffle_Group1.pdf', transparent=True)"
   ]
  },
  {
   "cell_type": "code",
   "execution_count": 16,
   "metadata": {},
   "outputs": [
    {
     "data": {
      "text/plain": [
       "(300, 5)"
      ]
     },
     "execution_count": 16,
     "metadata": {},
     "output_type": "execute_result"
    }
   ],
   "source": [
    "new_shap_values = np.concatenate([shap_fg, shap_shared])\n",
    "new_shap_values.shape"
   ]
  },
  {
   "cell_type": "code",
   "execution_count": 23,
   "metadata": {},
   "outputs": [
    {
     "data": {
      "text/plain": [
       "300"
      ]
     },
     "execution_count": 23,
     "metadata": {},
     "output_type": "execute_result"
    }
   ],
   "source": [
    "cohort_g0 = [\"Background\"] * 150\n",
    "cohort_g1 = [\"Foreground\"] * 150\n",
    "cohort_g1.extend(cohort_g0)\n",
    "cohort = cohort_g1\n",
    "len(cohort)"
   ]
  },
  {
   "cell_type": "code",
   "execution_count": 24,
   "metadata": {},
   "outputs": [
    {
     "data": {
      "image/png": "[encoded data removed]",
      "text/plain": [
       "<Figure size 576x362.558 with 1 Axes>"
      ]
     },
     "metadata": {},
     "output_type": "display_data"
    }
   ],
   "source": [
    "new_explanation = shap.Explanation(new_shap_values)\n",
    "shap.plots.bar(new_explanation.cohorts(cohort), show=False)\n",
    "plt.title(\"SHAP Values for Shuffle Test\")\n",
    "plt.savefig('CFQI_Shuffle_SHAP.pdf', transparent=True)"
   ]
  },
  {
   "cell_type": "code",
   "execution_count": null,
   "metadata": {},
   "outputs": [],
   "source": [
    "performance = {'fg': [], 'bg': []}\n",
    "num_iter = 10\n",
    "for i in range(num_iter):\n",
    "    print(str(i))\n",
    "    bg_perf, fg_perf = shuffle_test()\n",
    "    performance['fg'].extend(fg_perf)\n",
    "    performance['bg'].extend(bg_perf)\n",
    "    with open('shuffle_test.json', 'w') as f:\n",
    "        json.dump(performance, f)"
   ]
  },
  {
   "cell_type": "code",
   "execution_count": null,
   "metadata": {},
   "outputs": [],
   "source": [
    "plt.title(\"Shuffle Test\")\n",
    "sns.distplot(performance['fg'], label='Foreground')\n",
    "sns.distplot(performance['bg'], label='Background')\n",
    "plt.legend()\n",
    "plt.xlabel(\"Steps Survived\")"
   ]
  },
  {
   "cell_type": "code",
   "execution_count": null,
   "metadata": {},
   "outputs": [],
   "source": []
  }
 ],
 "metadata": {
  "kernelspec": {
   "display_name": "research [~/.conda/envs/research/]",
   "language": "python",
   "name": "conda_research"
  },
  "language_info": {
   "codemirror_mode": {
    "name": "ipython",
    "version": 3
   },
   "file_extension": ".py",
   "mimetype": "text/x-python",
   "name": "python",
   "nbconvert_exporter": "python",
   "pygments_lexer": "ipython3",
   "version": "3.6.12"
  }
 },
 "nbformat": 4,
 "nbformat_minor": 4
}
