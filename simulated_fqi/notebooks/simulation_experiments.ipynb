{
 "cells": [
  {
   "cell_type": "code",
   "execution_count": 2,
   "metadata": {
    "scrolled": true
   },
   "outputs": [],
   "source": [
    "import numpy as np\n",
    "import pandas as pd\n",
    "import pickle, os, csv, math, time, joblib\n",
    "from joblib import Parallel, delayed\n",
    "import datetime as dt\n",
    "from datetime import date, datetime, timedelta\n",
    "from collections import Counter\n",
    "import copy as cp\n",
    "import tqdm\n",
    "from sklearn.ensemble import ExtraTreesRegressor, ExtraTreesClassifier\n",
    "from lightgbm import LGBMRegressor, LGBMClassifier\n",
    "from sklearn.metrics import mean_absolute_error, mean_squared_error\n",
    "from sklearn.metrics import log_loss, f1_score, precision_score, recall_score, accuracy_score\n",
    "#import matplotlib.pyplot as plt\n",
    "#import matplotlib.ticker as ticker\n",
    "import collections \n",
    "#import shap\n",
    "import seaborn as sns\n",
    "import random\n",
    "from sklearn.linear_model import LinearRegression\n",
    "np.seterr(all=\"ignore\")\n",
    "import matplotlib.pyplot as plt\n",
    "import tqdm\n",
    "import math\n",
    "import statsmodels.api as sm\n",
    "import pandas as pd\n",
    "import statsmodels.formula.api as smf\n",
    "import numpy as np\n",
    "import json\n",
    "import util as util_fqi\n",
    "import sys\n",
    "sys.path.append('models/')\n",
    "from lmmfqi import LMMFQIagent\n",
    "from fqi import FQIagent\n",
    "from cfqi import CFQIagent"
   ]
  },
  {
   "cell_type": "code",
   "execution_count": 3,
   "metadata": {},
   "outputs": [
    {
     "name": "stderr",
     "output_type": "stream",
     "text": [
      "100%|██████████| 100/100 [00:01<00:00, 66.87it/s]\n"
     ]
    }
   ],
   "source": [
    "train_tuples, test_tuples = util_fqi.generate_tuples()"
   ]
  },
  {
   "cell_type": "code",
   "execution_count": 6,
   "metadata": {},
   "outputs": [
    {
     "name": "stderr",
     "output_type": "stream",
     "text": [
      "/Users/aishwaryamandyam/anaconda3/envs/research/lib/python3.7/site-packages/seaborn/distributions.py:2557: FutureWarning: `distplot` is a deprecated function and will be removed in a future version. Please adapt your code to use either `displot` (a figure-level function with similar flexibility) or `histplot` (an axes-level function for histograms).\n",
      "  warnings.warn(msg, FutureWarning)\n"
     ]
    },
    {
     "data": {
      "text/plain": [
       "<AxesSubplot:ylabel='Density'>"
      ]
     },
     "execution_count": 6,
     "metadata": {},
     "output_type": "execute_result"
    },
    {
     "data": {
      "image/png": "[encoded data removed]",
      "text/plain": [
       "<Figure size 432x288 with 1 Axes>"
      ]
     },
     "metadata": {
      "needs_background": "light"
     },
     "output_type": "display_data"
    }
   ],
   "source": [
    "rewards = [x[3] for x in train_tuples]\n",
    "sns.distplot(rewards)"
   ]
  },
  {
   "cell_type": "code",
   "execution_count": null,
   "metadata": {},
   "outputs": [],
   "source": [
    "fqi_agent = FQIagent(train_tuples=train_tuples, test_tuples=test_tuples)\n",
    "Q_dist = fqi_agent.runFQI(repeats=1)\n",
    "plt.plot(Q_dist, label= \"FQI\")\n",
    "plt.xlabel(\"Iteration\")\n",
    "plt.ylabel(\"Q Estimate\")\n",
    "plt.legend()\n",
    "plt.show()"
   ]
  },
  {
   "cell_type": "code",
   "execution_count": null,
   "metadata": {},
   "outputs": [],
   "source": [
    "cfqi_agent = CFQIagent(train_tuples=train_tuples, test_tuples=test_tuples)\n",
    "Q_dist = cfqi_agent.runFQI(repeats=1)\n",
    "plt.plot(Q_dist, label= \"CFQI\")\n",
    "plt.xlabel(\"Iteration\")\n",
    "plt.ylabel(\"Q Estimate\")\n",
    "plt.legend()\n",
    "plt.show()"
   ]
  },
  {
   "cell_type": "code",
   "execution_count": null,
   "metadata": {},
   "outputs": [],
   "source": [
    "lmm_agent = LMMFQIagent(train_tuples=train_tuples, test_tuples=test_tuples)\n",
    "Q_dist = lmm_agent.runFQI(repeats=1)\n",
    "plt.plot(Q_dist, label= \"LMMFQI\")\n",
    "plt.xlabel(\"Iteration\")\n",
    "plt.ylabel(\"Q Estimate\")\n",
    "plt.legend()\n",
    "plt.show()"
   ]
  },
  {
   "cell_type": "code",
   "execution_count": null,
   "metadata": {},
   "outputs": [],
   "source": [
    "# Test out on each test tuple\n",
    "# FQI, CFQI, LMMFQI, Oracle, Random\n",
    "algos = ['fqi', 'cfqi', 'lmmfqi', 'oracle', 'random']\n",
    "overall_reward = {}\n",
    "mu, sigma = 0, 4\n",
    "for alg in algos:\n",
    "    overall_reward[alg] = []\n",
    "    \n",
    "raw_fqi = []\n",
    "raw_lmmfqi = []\n",
    "raw_cfqi = []\n",
    "    \n",
    "for k, pat in enumerate(tqdm.tqdm(range(util_fqi.num_patients))):\n",
    "    flip = np.random.choice(2)\n",
    "    if flip == 0:\n",
    "        ds = 'foreground'\n",
    "    else:\n",
    "        ds = 'background'\n",
    "    \n",
    "    # Generate a random initial state\n",
    "    s = np.random.normal(mu, sigma, (10, 1))\n",
    "    \n",
    "    val_rewards = {}\n",
    "    for alg in algos:\n",
    "        val_rewards[alg] = []\n",
    "    \n",
    "    \n",
    "    # Generate all of the tuples for this patient\n",
    "    for i in range(util_fqi.num_samples):\n",
    "        s = s.T\n",
    "        # FQI agent\n",
    "        fqi_action = fqi_agent.piE.predict(s)\n",
    "        raw_fqi.append(fqi_action)\n",
    "        #if fqi_action[0] > 3:\n",
    "        #    fqi_action[0] = 3\n",
    "        fqi_action = util_fqi.actions[round(fqi_action[0])]\n",
    "        fqi_action = np.reshape(fqi_action, (2, 1))\n",
    "        s_a = np.concatenate((s.T, fqi_action))\n",
    "        val_rewards['fqi'].append(np.dot(util_fqi.reward_function.T, s_a)[0])\n",
    "\n",
    "\n",
    "        # CFQI agent\n",
    "        cfqi_action = cfqi_agent.piE.predict(s)\n",
    "        raw_cfqi.append(cfqi_action)\n",
    "        #if cfqi_action[0] > 3:\n",
    "        #    cfqi_action[0] = 3\n",
    "        cfqi_action = util_fqi.actions[round(cfqi_action[0])]\n",
    "        cfqi_action = np.reshape(cfqi_action, (2, 1))\n",
    "        s_a = np.concatenate((s.T, cfqi_action))\n",
    "        val_rewards['cfqi'].append(np.dot(util_fqi.reward_function.T, s_a)[0])\n",
    "        \n",
    "        # LMMFQI agent\n",
    "        lmmfqi_action = lmm_agent.piE.predict(s)\n",
    "        raw_lmmfqi.append(lmmfqi_action)\n",
    "        #if lmmfqi_action[0] > 3:\n",
    "        #    lmmfqi_action[0] = 3\n",
    "        lmmfqi_action = util_fqi.actions[round(lmmfqi_action[0])]\n",
    "        lmmfqi_action = np.reshape(lmmfqi_action, (2, 1))\n",
    "        s_a = np.concatenate((s.T, lmmfqi_action))\n",
    "        val_rewards['lmmfqi'].append(np.dot(util_fqi.reward_function.T, s_a)[0])\n",
    "        \n",
    "\n",
    "\n",
    "        # Oracle\n",
    "        all_rewards = []\n",
    "        for j, a in enumerate(util_fqi.actions):\n",
    "            a = np.asarray(a)\n",
    "            a = np.reshape(a, (2, 1))\n",
    "            s_a = np.concatenate((s.T, a))\n",
    "            reward = np.dot(util_fqi.reward_function.T, s_a)\n",
    "            all_rewards.append(reward)\n",
    "\n",
    "        all_rewards = np.asarray(all_rewards)\n",
    "        oracle_action = util_fqi.actions[np.argmax(all_rewards)]\n",
    "        val_rewards['oracle'].append(np.max(all_rewards))\n",
    "\n",
    "\n",
    "        # Random action\n",
    "        random_action = np.asarray(util_fqi.actions[np.random.choice(3)])\n",
    "        random_action = np.reshape(random_action, (2, 1))\n",
    "        s_a = np.concatenate((s.T, random_action))\n",
    "        val_rewards['random'].append(np.dot(util_fqi.reward_function.T, s_a)[0])\n",
    "        \n",
    "        if ds == 'foreground':\n",
    "            t_m = util_fqi.transition_foreground\n",
    "        else:\n",
    "            t_m = util_fqi.transition_background\n",
    "        ns = np.matmul(s_a.T, t_m) / np.linalg.norm(np.matmul(s_a.T, t_m), ord=2)\n",
    "        ns = np.add(ns, np.random.normal(0, 0.5, (1, 10))) # Add noise\n",
    "        s = ns.T\n",
    "    \n",
    "    plt.title(\"Rewards for \" + ds + \" trajectory: \" + str(k))\n",
    "    plt.xlabel(\"Step\")\n",
    "    plt.ylabel(\"Cumulative Reward\")\n",
    "    x = [i for i in range(util_fqi.num_samples)]\n",
    "    rewards_fqi = util_fqi.cumulative_reward(val_rewards['fqi'])\n",
    "    overall_reward['fqi'].append(rewards_fqi[-1])\n",
    "    rewards_cfqi = util_fqi.cumulative_reward(val_rewards['cfqi'])\n",
    "    overall_reward['cfqi'].append(rewards_cfqi[-1])\n",
    "    rewards_lmmfqi = util_fqi.cumulative_reward(val_rewards['lmmfqi'])\n",
    "    overall_reward['lmmfqi'].append(rewards_lmmfqi[-1])\n",
    "    rewards_oracle = util_fqi.cumulative_reward(val_rewards['oracle'])\n",
    "    overall_reward['oracle'].append(rewards_oracle[-1])\n",
    "    rewards_random = util_fqi.cumulative_reward(val_rewards['random'])\n",
    "    overall_reward['random'].append(rewards_random[-1])\n",
    "\n",
    "    plt.plot(x, rewards_fqi, label=\"FQI\")\n",
    "    plt.plot(x, rewards_lmmfqi, label='CFQI')\n",
    "    plt.plot(x, rewards_cfqi, label='LMMFQI')\n",
    "    plt.plot(x, rewards_oracle, label='Oracle')\n",
    "    plt.plot(x, rewards_random, label='Random')\n",
    "    plt.legend()\n",
    "    plt.show()"
   ]
  },
  {
   "cell_type": "markdown",
   "metadata": {},
   "source": [
    "# Plots\n",
    "* It seems like LMMFQI, CFQI and FQI all predict actions between 1 and 1.5 pretty frequently. "
   ]
  },
  {
   "cell_type": "code",
   "execution_count": null,
   "metadata": {},
   "outputs": [],
   "source": [
    "sns.stripplot(raw_lmmfqi)"
   ]
  },
  {
   "cell_type": "code",
   "execution_count": null,
   "metadata": {},
   "outputs": [],
   "source": [
    "sns.stripplot(raw_cfqi)"
   ]
  },
  {
   "cell_type": "code",
   "execution_count": null,
   "metadata": {},
   "outputs": [],
   "source": [
    "sns.stripplot(raw_fqi)"
   ]
  },
  {
   "cell_type": "code",
   "execution_count": null,
   "metadata": {},
   "outputs": [],
   "source": [
    "def subtract(a, b):\n",
    "    return [b_i - a_i for a_i, b_i in zip(a, b)]"
   ]
  },
  {
   "cell_type": "code",
   "execution_count": null,
   "metadata": {},
   "outputs": [],
   "source": [
    "plt.title(\"Cumulative Reward across patients and algorithms\")\n",
    "sns.stripplot(subtract(overall_reward['oracle'], overall_reward['fqi']), color='r', label='Oracle - FQI')\n",
    "sns.stripplot(subtract(overall_reward['oracle'], overall_reward['cfqi']), color='g', label='Oracle - CFQI')\n",
    "sns.stripplot(subtract(overall_reward['oracle'], overall_reward['lmmfqi']), color='y', label='Oracle - LMMFQI')\n",
    "sns.stripplot(subtract(overall_reward['oracle'], overall_reward['random']), color='b', label='Oracle - Random')\n",
    "#sns.stripplot(overall_reward['oracle'], color='m', label=\"Oracle\")\n",
    "plt.legend()\n",
    "plt.xlabel(\"Cumulative Reward\")"
   ]
  },
  {
   "cell_type": "code",
   "execution_count": null,
   "metadata": {},
   "outputs": [],
   "source": []
  }
 ],
 "metadata": {
  "kernelspec": {
   "display_name": "research",
   "language": "python",
   "name": "research"
  },
  "language_info": {
   "codemirror_mode": {
    "name": "ipython",
    "version": 3
   },
   "file_extension": ".py",
   "mimetype": "text/x-python",
   "name": "python",
   "nbconvert_exporter": "python",
   "pygments_lexer": "ipython3",
   "version": "3.7.9"
  },
  "toc": {
   "base_numbering": 1,
   "nav_menu": {},
   "number_sections": true,
   "sideBar": true,
   "skip_h1_title": false,
   "title_cell": "Table of Contents",
   "title_sidebar": "Contents",
   "toc_cell": false,
   "toc_position": {},
   "toc_section_display": true,
   "toc_window_display": false
  }
 },
 "nbformat": 4,
 "nbformat_minor": 2
}
