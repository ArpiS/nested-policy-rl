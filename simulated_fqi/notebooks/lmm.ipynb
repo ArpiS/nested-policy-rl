{
 "cells": [
  {
   "cell_type": "code",
   "execution_count": 1,
   "id": "unique-leone",
   "metadata": {},
   "outputs": [],
   "source": [
    "import numpy as np\n",
    "import matplotlib.pyplot as plt\n",
    "from sklearn.linear_model import LinearRegression\n",
    "import pandas as pd\n",
    "import seaborn as sns\n",
    "from scipy import optimize\n",
    "from sklearn.metrics import mean_squared_error"
   ]
  },
  {
   "cell_type": "code",
   "execution_count": 25,
   "id": "chief-wells",
   "metadata": {},
   "outputs": [],
   "source": [
    "class LMM():\n",
    "\n",
    "    def __init__(self):\n",
    "        pass\n",
    "\n",
    "    def fit(self, X, y, groups, method=\"bfgs\"):\n",
    "        \n",
    "        \n",
    "        if method == \"bfgs\":\n",
    "\n",
    "            def f(x):\n",
    "                beta_shared, beta_fg = x\n",
    "                preds = np.squeeze(X) * beta_shared + np.matmul(groups, np.squeeze(X)) * beta_fg\n",
    "                # MSE\n",
    "                return np.mean((y - preds)**2)\n",
    "\n",
    "            # Initial value of x\n",
    "            x0 = np.random.normal(size=2)\n",
    "\n",
    "            # Try with BFGS\n",
    "            xopt = optimize.minimize(f,x0,method='bfgs',options={'disp':1})\n",
    "            \n",
    "            self.coefs_shared = xopt.x[0]\n",
    "            self.coefs_fg = xopt.x[1]\n",
    "\n",
    "        elif method == \"project\":\n",
    "\n",
    "            # Regression on all samples\n",
    "            reg = LinearRegression().fit(X, y)\n",
    "            coefs_shared = reg.coef_\n",
    "\n",
    "            # Get residuals for foreground group\n",
    "            X_fg = X[groups == 1]\n",
    "            y_fg = y[groups == 1]\n",
    "            X_fg_preds = reg.predict(X_fg)\n",
    "            X_residuals = y_fg - X_fg_preds\n",
    "\n",
    "            # Regress residuals on the foreground\n",
    "            reg = LinearRegression().fit(X_fg, X_residuals)\n",
    "            coefs_fg = reg.coef_\n",
    "\n",
    "            self.coefs_shared = coefs_shared\n",
    "            self.coefs_fg = coefs_fg\n",
    "\n",
    "        else:\n",
    "            raise Exception(\"Method must be one of [bfgs, project]\")\n",
    "\n",
    "\n",
    "    def predict(self, X, y, groups):\n",
    "        print(self.coefs_shared.shape)\n",
    "        print(\"FP: \", (np.squeeze(X) * self.coefs_shared).shape)\n",
    "        print(\"SP: \", np.matmul(groups, np.squeeze(X)).shape)\n",
    "        print(\"TP: \", self.coefs_fg.shape)\n",
    "        preds = np.squeeze(X) * self.coefs_shared + np.matmul(groups, np.squeeze(X)) * self.coefs_fg\n",
    "        return preds"
   ]
  },
  {
   "cell_type": "code",
   "execution_count": 26,
   "id": "subject-grade",
   "metadata": {},
   "outputs": [],
   "source": [
    "# simple example\n",
    "n = 200\n",
    "p = 12\n",
    "coefs_shared_true = np.repeat([1], p)\n",
    "coefs_shared_true = np.reshape(coefs_shared_true, (p, 1))\n",
    "coefs_fg_true = np.repeat([4], p)\n",
    "coefs_fg_true = np.reshape(coefs_fg_true, (p, 1))\n",
    "X = np.random.normal(0, 1, size=(n, p))\n",
    "\n",
    "groups = np.random.binomial(n=1, p=0.5, size=n)\n",
    "\n",
    "# Shared effect\n",
    "y = X @ coefs_shared_true \n",
    "y = y.reshape((1, n))\n",
    "y = y + np.random.normal(0, 1, n)\n",
    "\n",
    "# Foreground-specific effect\n",
    "y = y.reshape((n, 1))\n",
    "\n",
    "y[groups == 1] = y[groups == 1] + X[groups == 1, :] @ coefs_fg_true\n",
    "groups = np.reshape(groups, (1, n))"
   ]
  },
  {
   "cell_type": "code",
   "execution_count": 27,
   "id": "several-mattress",
   "metadata": {},
   "outputs": [
    {
     "name": "stdout",
     "output_type": "stream",
     "text": [
      "X shape:  (200, 12)\n",
      "y shape:  (200, 1)\n",
      "Optimization terminated successfully.\n",
      "         Current function value: 148.223615\n",
      "         Iterations: 8\n",
      "         Function evaluations: 27\n",
      "         Gradient evaluations: 9\n",
      "      fun: 148.22361452106261\n",
      " hess_inv: array([[ 0.50811353, -0.00334869],\n",
      "       [-0.00334869,  0.00319808]])\n",
      "      jac: array([0., 0.])\n",
      "  message: 'Optimization terminated successfully.'\n",
      "     nfev: 27\n",
      "      nit: 8\n",
      "     njev: 9\n",
      "   status: 0\n",
      "  success: True\n",
      "        x: array([ 2.97866127, -0.01484787])\n"
     ]
    }
   ],
   "source": [
    "# Fit LMM\n",
    "lmm = LMM()\n",
    "print(\"X shape: \", X.shape)\n",
    "print(\"y shape: \", y.shape)\n",
    "lmm.fit(X, y, groups=groups)"
   ]
  },
  {
   "cell_type": "code",
   "execution_count": 28,
   "id": "alike-candle",
   "metadata": {},
   "outputs": [
    {
     "name": "stdout",
     "output_type": "stream",
     "text": [
      "()\n",
      "FP:  (200, 12)\n",
      "SP:  (1, 12)\n",
      "TP:  ()\n"
     ]
    }
   ],
   "source": [
    "# Test on a random test set\n",
    "X_test = np.random.normal(0, 1, size=(n, p))\n",
    "y_test = X_test @ coefs_shared_true + np.random.normal(0, 1, n)\n",
    "groups_test = np.random.binomial(n=1, p=0.5, size=n)\n",
    "y_test[groups_test == 1] = y_test[groups_test == 1] + X_test[groups_test == 1, :] @ coefs_fg_true\n",
    "groups_test = np.reshape(groups_test, (1, n))\n",
    "\n",
    "preds = lmm.predict(X_test, y_test, groups_test)"
   ]
  },
  {
   "cell_type": "code",
   "execution_count": 24,
   "id": "acute-religion",
   "metadata": {},
   "outputs": [
    {
     "data": {
      "text/plain": [
       "(200, 12)"
      ]
     },
     "execution_count": 24,
     "metadata": {},
     "output_type": "execute_result"
    }
   ],
   "source": [
    "preds.shape"
   ]
  },
  {
   "cell_type": "code",
   "execution_count": null,
   "id": "interim-petite",
   "metadata": {},
   "outputs": [],
   "source": []
  }
 ],
 "metadata": {
  "kernelspec": {
   "display_name": "Python 3",
   "language": "python",
   "name": "python3"
  },
  "language_info": {
   "codemirror_mode": {
    "name": "ipython",
    "version": 3
   },
   "file_extension": ".py",
   "mimetype": "text/x-python",
   "name": "python",
   "nbconvert_exporter": "python",
   "pygments_lexer": "ipython3",
   "version": "3.7.9"
  },
  "toc": {
   "base_numbering": 1,
   "nav_menu": {},
   "number_sections": true,
   "sideBar": true,
   "skip_h1_title": false,
   "title_cell": "Table of Contents",
   "title_sidebar": "Contents",
   "toc_cell": false,
   "toc_position": {},
   "toc_section_display": true,
   "toc_window_display": false
  }
 },
 "nbformat": 4,
 "nbformat_minor": 5
}
