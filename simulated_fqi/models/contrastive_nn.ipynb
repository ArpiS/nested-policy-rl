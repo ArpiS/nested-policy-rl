{
 "cells": [
  {
   "cell_type": "code",
   "execution_count": 1,
   "metadata": {},
   "outputs": [
    {
     "name": "stderr",
     "output_type": "stream",
     "text": [
      "WARNING:root:Limited tf.compat.v2.summary API due to missing TensorBoard installation.\n",
      "WARNING:root:Limited tf.compat.v2.summary API due to missing TensorBoard installation.\n",
      "WARNING:root:Limited tf.compat.v2.summary API due to missing TensorBoard installation.\n",
      "WARNING:root:Limited tf.summary API due to missing TensorBoard installation.\n"
     ]
    }
   ],
   "source": [
    "import os, sys\n",
    "import numpy as np\n",
    "import json\n",
    "import random\n",
    "import torch\n",
    "from torch.utils.data import Dataset\n",
    "from torch.utils.data import DataLoader\n",
    "import torch.nn as nn\n",
    "import torch.nn.functional as F\n",
    "from torch.optim import SGD, Adam\n",
    "from torch.optim.lr_scheduler import StepLR, CosineAnnealingLR\n",
    "import tqdm\n",
    "import matplotlib.pyplot as plt\n",
    "import seaborn as sns\n",
    "import torchvision\n",
    "from torchvision import datasets, models, transforms\n",
    "from numpy import linalg as LA\n",
    "sys.path.append('../environments/')\n",
    "from sepsis_env import SepsisEnv"
   ]
  },
  {
   "cell_type": "code",
   "execution_count": 2,
   "metadata": {},
   "outputs": [],
   "source": [
    "env = SepsisEnv()\n",
    "fg_tuples = env.generate_tuples(group=\"foreground\", n_trajectories=10)\n",
    "bg_tuples = env.generate_tuples(group=\"background\", n_trajectories=10)\n",
    "all_tuples = bg_tuples + fg_tuples\n",
    "random.shuffle(all_tuples)\n",
    "split = 0.8\n",
    "train_tuples = all_tuples[:int(split*len(all_tuples))]\n",
    "test_tuples = all_tuples[int(split*len(all_tuples)):]"
   ]
  },
  {
   "cell_type": "raw",
   "metadata": {
    "code_folding": [
     0
    ]
   },
   "source": [
    "class ConvContrastiveNet(nn.Module):\n",
    "    def __init__(self):\n",
    "        super(ConvContrastiveNet, self).__init__()\n",
    "        self.name = \"ConvContrastiveNet\"\n",
    "        self.conv1 = self.cnn_apt_1 = nn.Conv1d(1, 10, 5) \n",
    "        self.fc1 = nn.Linear(90, 1)\n",
    "    \n",
    "    def forward(self, x):\n",
    "        x = self.conv1(x)\n",
    "        x = self.fc1(x)\n",
    "        x = torch.sigmoid(x)\n",
    "        return x "
   ]
  },
  {
   "cell_type": "code",
   "execution_count": 3,
   "metadata": {
    "code_folding": [
     0
    ]
   },
   "outputs": [],
   "source": [
    "class ContrastiveDataset(Dataset):\n",
    "    def __init__(self, batch, from_batch=False):\n",
    "        self.from_batch = from_batch\n",
    "        def construct_pairs_from_tuples(tuples):\n",
    "            X = []\n",
    "            y = []\n",
    "            for t in self.tuples:\n",
    "                if t[4] == 'background':\n",
    "                    s = t[0]\n",
    "                    a = t[1]\n",
    "                    r = t[3][0]\n",
    "                    if r == 0:\n",
    "                        r = 0.00000001\n",
    "                    \n",
    "                    blank_s = [0]*46\n",
    "                    blank_a = [0]\n",
    "                    s_a = np.hstack((s, a, blank_s, blank_a))\n",
    "                    X.append(s_a)\n",
    "                    y.append(r)\n",
    "                else:\n",
    "                    s = t[0]\n",
    "                    a = t[1]\n",
    "                    r = t[3][0]\n",
    "                    if r == 0:\n",
    "                        r = 0.00000001\n",
    "                    \n",
    "                    s_a = np.hstack((s, a, s, a))\n",
    "                    X.append(s_a)\n",
    "                    y.append(r)\n",
    "            return X, y\n",
    "        \n",
    "        def construct_pairs_from_batch(batch):\n",
    "            X = []\n",
    "            y = []\n",
    "            for i in range(len(batch['s'])):\n",
    "                if batch['ds'][i] == 'background':\n",
    "                    s = batch['s'][i]\n",
    "                    a = batch['a'][i]\n",
    "                    r = batch['r'][i]\n",
    "                    if r == 0:\n",
    "                        r = 0.0000001\n",
    "                    blank_s = [0]*46\n",
    "                    blank_a = [0]\n",
    "                    s_a = np.hstack((s, a, blank_s, blank_a))\n",
    "                    X.append(s_a)\n",
    "                    y.append(r)\n",
    "                else:\n",
    "                    s = batch['s'][i]\n",
    "                    a = batch['a'][i]\n",
    "                    r = batch['r'][i]\n",
    "                    if r == 0:\n",
    "                        r = 0.0000001\n",
    "                    s_a = np.hstack((s, a, s, a))\n",
    "                    X.append(s_a)\n",
    "                    y.append(r)\n",
    "            return X, y\n",
    "        \n",
    "        if from_batch:\n",
    "            self.tuples = batch\n",
    "            self.X, self.y = construct_pairs_from_batch(self.tuples)\n",
    "        else:\n",
    "            self.tuples = batch\n",
    "            self.X, self.y = construct_pairs_from_tuples(self.tuples)\n",
    "\n",
    "    def __len__(self):\n",
    "        if self.from_batch:\n",
    "            return len(self.tuples['s'])\n",
    "        else:\n",
    "            return len(self.tuples)\n",
    "\n",
    "    def __getitem__(self,idx):\n",
    "        return (self.X[idx], self.y[idx])"
   ]
  },
  {
   "cell_type": "code",
   "execution_count": 4,
   "metadata": {
    "code_folding": []
   },
   "outputs": [],
   "source": [
    "class LinearContrastiveNet(nn.Module):\n",
    "    def __init__(self):\n",
    "        super(LinearContrastiveNet, self).__init__()\n",
    "        self.name = \"LinearContrastiveNet\"\n",
    "        self.shared = nn.Linear(47, 10)\n",
    "        self.fg = nn.Linear(47, 10)\n",
    "        self.fc = nn.Linear(20, 1)\n",
    "    \n",
    "    def forward(self, x):\n",
    "        x_shared = self.shared(x[:47])\n",
    "        x_fg = self.fg(x[47:])\n",
    "        x = torch.cat((x_shared, x_fg), dim=0)\n",
    "        x = F.relu(self.fc(x))\n",
    "        x = torch.sigmoid(x)\n",
    "        return x"
   ]
  },
  {
   "cell_type": "code",
   "execution_count": 5,
   "metadata": {},
   "outputs": [],
   "source": [
    "def weights_init(m):\n",
    "    if isinstance(m, nn.Conv1d):\n",
    "        nn.init.xavier_uniform_(m.weight.data, gain=nn.init.calculate_gain('relu'))\n",
    "        nn.init.zeros_(m.bias.data)\n",
    "    if isinstance(m, nn.Linear):\n",
    "        nn.init.kaiming_normal_(m.weight.data, nonlinearity='sigmoid')\n",
    "        nn.init.zeros_(m.bias.data)"
   ]
  },
  {
   "cell_type": "code",
   "execution_count": 6,
   "metadata": {},
   "outputs": [
    {
     "name": "stderr",
     "output_type": "stream",
     "text": [
      "100%|██████████| 135/135 [00:00<00:00, 840.76it/s]\n",
      "100%|██████████| 135/135 [00:00<00:00, 2096.31it/s]\n",
      "100%|██████████| 135/135 [00:00<00:00, 2335.12it/s]\n",
      "100%|██████████| 135/135 [00:00<00:00, 2404.84it/s]\n",
      "100%|██████████| 135/135 [00:00<00:00, 2238.40it/s]\n",
      "100%|██████████| 135/135 [00:00<00:00, 1978.92it/s]\n",
      "100%|██████████| 135/135 [00:00<00:00, 2147.18it/s]\n",
      "100%|██████████| 135/135 [00:00<00:00, 2337.08it/s]\n",
      "100%|██████████| 135/135 [00:00<00:00, 2504.93it/s]\n",
      "100%|██████████| 135/135 [00:00<00:00, 2452.98it/s]\n",
      "/Users/aishwaryamandyam/anaconda3/envs/research/lib/python3.7/site-packages/seaborn/_decorators.py:43: FutureWarning: Pass the following variables as keyword args: x, y. From version 0.12, the only valid positional argument will be `data`, and passing other arguments without an explicit keyword will result in an error or misinterpretation.\n",
      "  FutureWarning\n"
     ]
    },
    {
     "data": {
      "text/plain": [
       "<AxesSubplot:>"
      ]
     },
     "execution_count": 6,
     "metadata": {},
     "output_type": "execute_result"
    },
    {
     "data": {
      "image/png": "[encoded data removed]",
      "text/plain": [
       "<Figure size 432x288 with 1 Axes>"
      ]
     },
     "metadata": {
      "needs_background": "light"
     },
     "output_type": "display_data"
    }
   ],
   "source": [
    "model = LinearContrastiveNet()\n",
    "train_ds=ContrastiveDataset(train_tuples)\n",
    "test_ds=ContrastiveDataset(test_tuples)\n",
    "model.apply(weights_init)\n",
    "optimizer = SGD(model.parameters(), lr=0.01)\n",
    "num_epochs = 10\n",
    "criterion = nn.MSELoss()    \n",
    "losses = []\n",
    "for epoch in range(num_epochs):\n",
    "    for i, (s_a, r) in enumerate(tqdm.tqdm(train_ds)):\n",
    "        if model.name == \"ConvContrastiveNet\":\n",
    "            s_a = np.reshape(s_a, (1, 1, 94))\n",
    "        s_a = torch.Tensor(s_a)\n",
    "        r = torch.Tensor([r])\n",
    "        model.train()\n",
    "        pred_r = model(s_a)\n",
    "        train_loss = criterion(pred_r, r)\n",
    "        losses.append(train_loss.detach().cpu().numpy().item())\n",
    "        train_loss.backward()\n",
    "        optimizer.step()\n",
    "iterations = [i for i in range(len(losses))]\n",
    "sns.lineplot(iterations, losses)"
   ]
  },
  {
   "cell_type": "code",
   "execution_count": 7,
   "metadata": {},
   "outputs": [],
   "source": [
    "model.eval()\n",
    "preds = []"
   ]
  },
  {
   "cell_type": "markdown",
   "metadata": {},
   "source": [
    "# Interpretability"
   ]
  },
  {
   "cell_type": "markdown",
   "metadata": {},
   "source": [
    "## Linear Model"
   ]
  },
  {
   "cell_type": "code",
   "execution_count": 14,
   "metadata": {},
   "outputs": [],
   "source": [
    "shared_weights = model.shared.weight\n",
    "fg_weights = model.fg.weight"
   ]
  },
  {
   "cell_type": "code",
   "execution_count": 16,
   "metadata": {},
   "outputs": [
    {
     "data": {
      "text/plain": [
       "<AxesSubplot:>"
      ]
     },
     "execution_count": 16,
     "metadata": {},
     "output_type": "execute_result"
    },
    {
     "data": {
      "image/png": "[encoded data removed]",
      "text/plain": [
       "<Figure size 432x288 with 2 Axes>"
      ]
     },
     "metadata": {
      "needs_background": "light"
     },
     "output_type": "display_data"
    }
   ],
   "source": [
    "sns.heatmap(fg_weights.detach().cpu().numpy())"
   ]
  },
  {
   "cell_type": "code",
   "execution_count": 17,
   "metadata": {},
   "outputs": [
    {
     "data": {
      "text/plain": [
       "<AxesSubplot:>"
      ]
     },
     "execution_count": 17,
     "metadata": {},
     "output_type": "execute_result"
    },
    {
     "data": {
      "image/png": "[encoded data removed]",
      "text/plain": [
       "<Figure size 432x288 with 2 Axes>"
      ]
     },
     "metadata": {
      "needs_background": "light"
     },
     "output_type": "display_data"
    }
   ],
   "source": [
    "sns.heatmap(shared_weights.detach().cpu().numpy())"
   ]
  },
  {
   "cell_type": "code",
   "execution_count": null,
   "metadata": {},
   "outputs": [],
   "source": []
  }
 ],
 "metadata": {
  "kernelspec": {
   "display_name": "research",
   "language": "python",
   "name": "research"
  },
  "language_info": {
   "codemirror_mode": {
    "name": "ipython",
    "version": 3
   },
   "file_extension": ".py",
   "mimetype": "text/x-python",
   "name": "python",
   "nbconvert_exporter": "python",
   "pygments_lexer": "ipython3",
   "version": "3.7.9"
  },
  "toc": {
   "base_numbering": 1,
   "nav_menu": {},
   "number_sections": true,
   "sideBar": true,
   "skip_h1_title": false,
   "title_cell": "Table of Contents",
   "title_sidebar": "Contents",
   "toc_cell": false,
   "toc_position": {},
   "toc_section_display": true,
   "toc_window_display": false
  }
 },
 "nbformat": 4,
 "nbformat_minor": 4
}
