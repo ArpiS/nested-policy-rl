{
 "cells": [
  {
   "cell_type": "code",
   "execution_count": 2,
   "metadata": {},
   "outputs": [
    {
     "name": "stderr",
     "output_type": "stream",
     "text": [
      "WARNING:root:Limited tf.compat.v2.summary API due to missing TensorBoard installation.\n",
      "WARNING:root:Limited tf.compat.v2.summary API due to missing TensorBoard installation.\n",
      "WARNING:root:Limited tf.compat.v2.summary API due to missing TensorBoard installation.\n",
      "WARNING:root:Limited tf.summary API due to missing TensorBoard installation.\n"
     ]
    }
   ],
   "source": [
    "import os, sys\n",
    "import numpy as np\n",
    "import json\n",
    "import random\n",
    "import torch\n",
    "from torch.utils.data import Dataset\n",
    "from torch.utils.data import DataLoader\n",
    "import torch.nn as nn\n",
    "import torch.nn.functional as F\n",
    "from torch.optim import SGD, Adam\n",
    "from torch.optim.lr_scheduler import StepLR, CosineAnnealingLR\n",
    "import tqdm\n",
    "import matplotlib.pyplot as plt\n",
    "import seaborn as sns\n",
    "import torchvision\n",
    "from torchvision import datasets, models, transforms\n",
    "from numpy import linalg as LA\n",
    "sys.path.append('../environments/')\n",
    "from sepsis_env import SepsisEnv"
   ]
  },
  {
   "cell_type": "code",
   "execution_count": 3,
   "metadata": {},
   "outputs": [],
   "source": [
    "env = SepsisEnv()\n",
    "fg_tuples = env.generate_tuples(group=\"foreground\", n_trajectories=2)\n",
    "bg_tuples = env.generate_tuples(group=\"background\", n_trajectories=2)"
   ]
  },
  {
   "cell_type": "code",
   "execution_count": 4,
   "metadata": {},
   "outputs": [],
   "source": [
    "all_tuples = bg_tuples + fg_tuples\n",
    "random.shuffle(all_tuples)\n",
    "split = 0.8\n",
    "train_tuples = all_tuples[:int(split*len(all_tuples))]\n",
    "test_tuples = all_tuples[int(split*len(all_tuples)):]"
   ]
  },
  {
   "cell_type": "code",
   "execution_count": 19,
   "metadata": {},
   "outputs": [
    {
     "data": {
      "text/plain": [
       "46"
      ]
     },
     "execution_count": 19,
     "metadata": {},
     "output_type": "execute_result"
    }
   ],
   "source": [
    "one_hot_a = [0]*25\n",
    "s = train_tuples[0][0]\n",
    "len(s)\n",
    "a = train_tuples[0][1]\n",
    "one_hot_a[a] = 1"
   ]
  },
  {
   "cell_type": "code",
   "execution_count": 21,
   "metadata": {
    "code_folding": [
     1
    ]
   },
   "outputs": [],
   "source": [
    "class ContrastiveDataset(Dataset):\n",
    "    def __init__(self, tuples):\n",
    "        self.tuples = tuples\n",
    "            \n",
    "        def construct_pairs(tuples):\n",
    "            X = []\n",
    "            y = []\n",
    "            for t in self.tuples:\n",
    "                if t[4] == 'background':\n",
    "                    one_hot_a = [0]*25\n",
    "                    s = t[0]\n",
    "                    a = t[1]\n",
    "                    one_hot_a[a] = 1\n",
    "                    r = t[3][0]\n",
    "                    \n",
    "                    blank_s = [0]*46\n",
    "                    blank_a = [0]\n",
    "                    s_a = np.hstack((s, a, blank_s, blank_a))\n",
    "                    X.append(s_a)\n",
    "                    y.append(r)\n",
    "                else:\n",
    "                    one_hot_a = [0]*25\n",
    "                    s = t[0]\n",
    "                    a = t[1]\n",
    "                    one_hot_a[a] = 1\n",
    "                    r = t[3][0]\n",
    "                    \n",
    "                    s_a = np.hstack((s, a, s, a))\n",
    "                    X.append(s, a)\n",
    "                    y.append(r)\n",
    "        return X, y\n",
    "    \n",
    "        self.X, self.y = self.construct_pairs(self.tuples)\n",
    "\n",
    "    def __len__(self):\n",
    "        return len(self.tuples)\n",
    "\n",
    "    def __getitem__(self,idx):\n",
    "        return (self.X[idx], self.y[idx])"
   ]
  },
  {
   "cell_type": "code",
   "execution_count": null,
   "metadata": {},
   "outputs": [],
   "source": []
  }
 ],
 "metadata": {
  "kernelspec": {
   "display_name": "research",
   "language": "python",
   "name": "research"
  },
  "language_info": {
   "codemirror_mode": {
    "name": "ipython",
    "version": 3
   },
   "file_extension": ".py",
   "mimetype": "text/x-python",
   "name": "python",
   "nbconvert_exporter": "python",
   "pygments_lexer": "ipython3",
   "version": "3.7.9"
  },
  "toc": {
   "base_numbering": 1,
   "nav_menu": {},
   "number_sections": true,
   "sideBar": true,
   "skip_h1_title": false,
   "title_cell": "Table of Contents",
   "title_sidebar": "Contents",
   "toc_cell": false,
   "toc_position": {},
   "toc_section_display": true,
   "toc_window_display": false
  }
 },
 "nbformat": 4,
 "nbformat_minor": 4
}
