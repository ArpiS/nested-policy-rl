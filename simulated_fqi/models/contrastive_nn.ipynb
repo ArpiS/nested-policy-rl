{
 "cells": [
  {
   "cell_type": "code",
   "execution_count": 1,
   "metadata": {},
   "outputs": [
    {
     "name": "stderr",
     "output_type": "stream",
     "text": [
      "WARNING:root:Limited tf.compat.v2.summary API due to missing TensorBoard installation.\n",
      "WARNING:root:Limited tf.compat.v2.summary API due to missing TensorBoard installation.\n",
      "WARNING:root:Limited tf.compat.v2.summary API due to missing TensorBoard installation.\n",
      "WARNING:root:Limited tf.summary API due to missing TensorBoard installation.\n"
     ]
    }
   ],
   "source": [
    "import os, sys\n",
    "import numpy as np\n",
    "import json\n",
    "import random\n",
    "import torch\n",
    "from torch.utils.data import Dataset\n",
    "from torch.utils.data import DataLoader\n",
    "import torch.nn as nn\n",
    "import torch.nn.functional as F\n",
    "from torch.optim import SGD, Adam\n",
    "from torch.optim.lr_scheduler import StepLR, CosineAnnealingLR\n",
    "import tqdm\n",
    "import matplotlib.pyplot as plt\n",
    "import seaborn as sns\n",
    "import torchvision\n",
    "from torchvision import datasets, models, transforms\n",
    "from numpy import linalg as LA\n",
    "sys.path.append('../environments/')\n",
    "from sepsis_env import SepsisEnv"
   ]
  },
  {
   "cell_type": "code",
   "execution_count": 2,
   "metadata": {},
   "outputs": [],
   "source": [
    "env = SepsisEnv()\n",
    "fg_tuples = env.generate_tuples(group=\"foreground\", n_trajectories=10)\n",
    "bg_tuples = env.generate_tuples(group=\"background\", n_trajectories=10)\n",
    "all_tuples = bg_tuples + fg_tuples\n",
    "random.shuffle(all_tuples)\n",
    "split = 0.8\n",
    "train_tuples = all_tuples[:int(split*len(all_tuples))]\n",
    "test_tuples = all_tuples[int(split*len(all_tuples)):]"
   ]
  },
  {
   "cell_type": "code",
   "execution_count": 3,
   "metadata": {
    "code_folding": [
     0
    ]
   },
   "outputs": [],
   "source": [
    "class ContrastiveDataset(Dataset):\n",
    "    def __init__(self, tuples):\n",
    "        self.tuples = tuples\n",
    "            \n",
    "        def construct_pairs(tuples):\n",
    "            X = []\n",
    "            y = []\n",
    "            for t in self.tuples:\n",
    "                if t[4] == 'background':\n",
    "                    one_hot_a = [0]*25\n",
    "                    s = t[0]\n",
    "                    a = t[1]\n",
    "                    one_hot_a[a] = 1\n",
    "                    r = t[3][0]\n",
    "                    if r == 0:\n",
    "                        r = 0.00000001\n",
    "                    \n",
    "                    blank_s = [0]*46\n",
    "                    blank_a = [0]\n",
    "                    s_a = np.hstack((s, a, blank_s, blank_a))\n",
    "                    X.append(s_a)\n",
    "                    y.append(r)\n",
    "                else:\n",
    "                    one_hot_a = [0]*25\n",
    "                    s = t[0]\n",
    "                    a = t[1]\n",
    "                    one_hot_a[a] = 1\n",
    "                    r = t[3][0]\n",
    "                    if r == 0:\n",
    "                        r = 0.00000001\n",
    "                    \n",
    "                    s_a = np.hstack((s, a, s, a))\n",
    "                    X.append(s_a)\n",
    "                    y.append(r)\n",
    "            return X, y\n",
    "    \n",
    "        self.X, self.y = construct_pairs(self.tuples)\n",
    "\n",
    "    def __len__(self):\n",
    "        return len(self.tuples)\n",
    "\n",
    "    def __getitem__(self,idx):\n",
    "        return (self.X[idx], self.y[idx])"
   ]
  },
  {
   "cell_type": "code",
   "execution_count": 23,
   "metadata": {
    "code_folding": []
   },
   "outputs": [],
   "source": [
    "class LinearContrastiveNet(nn.Module):\n",
    "    def __init__(self):\n",
    "        super(LinearContrastiveNet, self).__init__()\n",
    "        self.name = \"LinearContrastiveNet\"\n",
    "        self.fc1 = nn.Linear(94, 10)\n",
    "        self.fc2 = nn.Linear(10, 1)\n",
    "    \n",
    "    def forward(self, x):\n",
    "        x = self.fc1(x)\n",
    "        x = self.fc2(x)\n",
    "        x = torch.sigmoid(x)\n",
    "        return x"
   ]
  },
  {
   "cell_type": "code",
   "execution_count": 30,
   "metadata": {},
   "outputs": [],
   "source": [
    "class ConvContrastiveNet(nn.Module):\n",
    "    def __init__(self):\n",
    "        super(ConvContrastiveNet, self).__init__()\n",
    "        self.name = \"ConvContrastiveNet\"\n",
    "        self.conv1 = self.cnn_apt_1 = nn.Conv1d(1, 10, 5) \n",
    "        self.fc1 = nn.Linear(90, 1)\n",
    "    \n",
    "    def forward(self, x):\n",
    "        x = self.conv1(x)\n",
    "        x = self.fc1(x)\n",
    "        x = torch.sigmoid(x)\n",
    "        return x "
   ]
  },
  {
   "cell_type": "code",
   "execution_count": 31,
   "metadata": {},
   "outputs": [],
   "source": [
    "def weights_init(m):\n",
    "    if isinstance(m, nn.Conv1d):\n",
    "        nn.init.xavier_uniform_(m.weight.data, gain=nn.init.calculate_gain('relu'))\n",
    "        nn.init.zeros_(m.bias.data)\n",
    "    if isinstance(m, nn.Linear):\n",
    "        nn.init.kaiming_normal_(m.weight.data, nonlinearity='sigmoid')\n",
    "        nn.init.zeros_(m.bias.data)"
   ]
  },
  {
   "cell_type": "code",
   "execution_count": 32,
   "metadata": {},
   "outputs": [
    {
     "name": "stderr",
     "output_type": "stream",
     "text": [
      "  0%|          | 0/135 [00:00<?, ?it/s]/Users/aishwaryamandyam/anaconda3/envs/research/lib/python3.7/site-packages/torch/nn/modules/loss.py:528: UserWarning: Using a target size (torch.Size([1])) that is different to the input size (torch.Size([1, 10, 1])). This will likely lead to incorrect results due to broadcasting. Please ensure they have the same size.\n",
      "  return F.mse_loss(input, target, reduction=self.reduction)\n",
      "100%|██████████| 135/135 [00:00<00:00, 2673.65it/s]\n",
      "100%|██████████| 135/135 [00:00<00:00, 3014.95it/s]\n",
      "100%|██████████| 135/135 [00:00<00:00, 3711.24it/s]\n",
      "100%|██████████| 135/135 [00:00<00:00, 3511.86it/s]\n",
      "100%|██████████| 135/135 [00:00<00:00, 3846.13it/s]\n",
      "100%|██████████| 135/135 [00:00<00:00, 3705.65it/s]\n",
      "100%|██████████| 135/135 [00:00<00:00, 3709.61it/s]\n",
      "100%|██████████| 135/135 [00:00<00:00, 3648.25it/s]\n",
      "100%|██████████| 135/135 [00:00<00:00, 3799.09it/s]\n",
      "100%|██████████| 135/135 [00:00<00:00, 4248.37it/s]\n",
      "/Users/aishwaryamandyam/anaconda3/envs/research/lib/python3.7/site-packages/seaborn/_decorators.py:43: FutureWarning: Pass the following variables as keyword args: x, y. From version 0.12, the only valid positional argument will be `data`, and passing other arguments without an explicit keyword will result in an error or misinterpretation.\n",
      "  FutureWarning\n"
     ]
    },
    {
     "data": {
      "text/plain": [
       "<AxesSubplot:>"
      ]
     },
     "execution_count": 32,
     "metadata": {},
     "output_type": "execute_result"
    },
    {
     "data": {
      "image/png": "[encoded data removed]",
      "text/plain": [
       "<Figure size 432x288 with 1 Axes>"
      ]
     },
     "metadata": {
      "needs_background": "light"
     },
     "output_type": "display_data"
    }
   ],
   "source": [
    "model = ConvContrastiveNet()\n",
    "train_ds=ContrastiveDataset(train_tuples)\n",
    "test_ds=ContrastiveDataset(test_tuples)\n",
    "model.apply(weights_init)\n",
    "optimizer = SGD(model.parameters(), lr=0.001)\n",
    "num_epochs = 10\n",
    "criterion = nn.MSELoss()    \n",
    "losses = []\n",
    "for epoch in range(num_epochs):\n",
    "    for i, (s_a, r) in enumerate(tqdm.tqdm(train_ds)):\n",
    "        if model.name == \"ConvContrastiveNet\":\n",
    "            s_a = np.reshape(s_a, (1, 1, 94))\n",
    "        s_a = torch.Tensor(s_a)\n",
    "        r = torch.Tensor([r])\n",
    "        model.train()\n",
    "        pred_r = model(s_a)\n",
    "        train_loss = criterion(pred_r, r)\n",
    "        losses.append(train_loss.detach().cpu().numpy().item())\n",
    "iterations = [i for i in range(len(losses))]\n",
    "sns.lineplot(iterations, losses)"
   ]
  },
  {
   "cell_type": "markdown",
   "metadata": {},
   "source": [
    "# Interpretability"
   ]
  },
  {
   "cell_type": "markdown",
   "metadata": {},
   "source": [
    "## Linear Model"
   ]
  },
  {
   "cell_type": "code",
   "execution_count": null,
   "metadata": {},
   "outputs": [],
   "source": [
    "# First 47 elements are shared, second 47 are fg specific\n",
    "model.fc2.weight"
   ]
  },
  {
   "cell_type": "code",
   "execution_count": null,
   "metadata": {},
   "outputs": [],
   "source": [
    "bg_weights = model.fc2.weight[0][:5]\n",
    "fg_weights = model.fc2.weight[0][5:]"
   ]
  },
  {
   "cell_type": "code",
   "execution_count": null,
   "metadata": {},
   "outputs": [],
   "source": [
    "# 1 is fg, 0 is bg. This is the contrastive representation. \n",
    "sns.heatmap([bg_weights.detach().cpu().numpy(), fg_weights.detach().cpu().numpy()])"
   ]
  },
  {
   "cell_type": "markdown",
   "metadata": {},
   "source": [
    "## Conv Model"
   ]
  },
  {
   "cell_type": "code",
   "execution_count": 36,
   "metadata": {},
   "outputs": [
    {
     "data": {
      "text/plain": [
       "torch.Size([10, 5])"
      ]
     },
     "execution_count": 36,
     "metadata": {},
     "output_type": "execute_result"
    }
   ],
   "source": [
    "np.squeeze(model.conv1.weight).shape"
   ]
  },
  {
   "cell_type": "code",
   "execution_count": 37,
   "metadata": {},
   "outputs": [
    {
     "data": {
      "text/plain": [
       "<AxesSubplot:>"
      ]
     },
     "execution_count": 37,
     "metadata": {},
     "output_type": "execute_result"
    },
    {
     "data": {
      "image/png": "[encoded data removed]",
      "text/plain": [
       "<Figure size 432x288 with 2 Axes>"
      ]
     },
     "metadata": {
      "needs_background": "light"
     },
     "output_type": "display_data"
    }
   ],
   "source": [
    "sns.heatmap(np.squeeze(model.conv1.weight.detach().cpu().numpy()))"
   ]
  },
  {
   "cell_type": "code",
   "execution_count": null,
   "metadata": {},
   "outputs": [],
   "source": []
  }
 ],
 "metadata": {
  "kernelspec": {
   "display_name": "research",
   "language": "python",
   "name": "research"
  },
  "language_info": {
   "codemirror_mode": {
    "name": "ipython",
    "version": 3
   },
   "file_extension": ".py",
   "mimetype": "text/x-python",
   "name": "python",
   "nbconvert_exporter": "python",
   "pygments_lexer": "ipython3",
   "version": "3.7.9"
  },
  "toc": {
   "base_numbering": 1,
   "nav_menu": {},
   "number_sections": true,
   "sideBar": true,
   "skip_h1_title": false,
   "title_cell": "Table of Contents",
   "title_sidebar": "Contents",
   "toc_cell": false,
   "toc_position": {},
   "toc_section_display": true,
   "toc_window_display": false
  }
 },
 "nbformat": 4,
 "nbformat_minor": 4
}
