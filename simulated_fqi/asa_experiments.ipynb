{
 "cells": [
  {
   "cell_type": "code",
   "execution_count": 1,
   "metadata": {},
   "outputs": [],
   "source": [
    "import json\n",
    "import sys\n",
    "from train_cnfqi import run\n",
    "import seaborn as sns\n",
    "import tqdm\n",
    "import matplotlib.pyplot as plt \n",
    "import numpy as np"
   ]
  },
  {
   "cell_type": "markdown",
   "metadata": {},
   "source": [
    "# Force_left vs success"
   ]
  },
  {
   "cell_type": "code",
   "execution_count": 2,
   "metadata": {},
   "outputs": [
    {
     "name": "stdout",
     "output_type": "stream",
     "text": [
      "0 0\n"
     ]
    },
    {
     "name": "stderr",
     "output_type": "stream",
     "text": [
      "/home/amandyam/.conda/envs/research/lib/python3.6/site-packages/gym/logger.py:30: UserWarning: \u001b[33mWARN: Box bound precision lowered by casting to float32\u001b[0m\n",
      "  warnings.warn(colorize('%s: %s'%('WARN', msg % args), 'yellow'))\n"
     ]
    },
    {
     "name": "stdout",
     "output_type": "stream",
     "text": [
      "0 2\n",
      "0 4\n",
      "0 6\n",
      "0 8\n",
      "1 0\n",
      "1 2\n",
      "1 4\n",
      "1 6\n",
      "1 8\n",
      "2 0\n",
      "2 2\n",
      "2 4\n",
      "2 6\n",
      "2 8\n",
      "3 0\n",
      "3 2\n",
      "3 4\n",
      "3 6\n",
      "3 8\n",
      "4 0\n",
      "4 2\n",
      "4 4\n",
      "4 6\n",
      "4 8\n"
     ]
    }
   ],
   "source": [
    "c_success = []\n",
    "f_success = []\n",
    "for j in range(5):\n",
    "    cfqi_success = []\n",
    "    fqi_success = []\n",
    "    for i in range(0, 10, 2):\n",
    "        print(str(j) + \" \" + str(i))\n",
    "        success, total, nfq_agent = run(verbose=False, is_contrastive=True, evaluations=10, force_left=i)\n",
    "        cfqi_success.append(success/total)\n",
    "        success, total, nfq_agent = run(verbose=False, is_contrastive=False, evaluations=10, force_left=i)\n",
    "        fqi_success.append(success/total)\n",
    "    c_success.append(cfqi_success)\n",
    "    f_success.append(fqi_success)      "
   ]
  },
  {
   "cell_type": "code",
   "execution_count": 3,
   "metadata": {},
   "outputs": [
    {
     "name": "stderr",
     "output_type": "stream",
     "text": [
      "/home/amandyam/.conda/envs/research/lib/python3.6/site-packages/seaborn/_decorators.py:43: FutureWarning: Pass the following variables as keyword args: x, y. From version 0.12, the only valid positional argument will be `data`, and passing other arguments without an explicit keyword will result in an error or misinterpretation.\n",
      "  FutureWarning\n",
      "/home/amandyam/.conda/envs/research/lib/python3.6/site-packages/seaborn/_decorators.py:43: FutureWarning: Pass the following variables as keyword args: x, y. From version 0.12, the only valid positional argument will be `data`, and passing other arguments without an explicit keyword will result in an error or misinterpretation.\n",
      "  FutureWarning\n"
     ]
    },
    {
     "data": {
      "text/plain": [
       "Text(0, 0.5, 'Percentage of runs that were successful')"
      ]
     },
     "execution_count": 3,
     "metadata": {},
     "output_type": "execute_result"
    },
    {
     "data": {
      "image/png": "[encoded data removed]",
      "text/plain": [
       "<Figure size 432x288 with 1 Axes>"
      ]
     },
     "metadata": {
      "needs_background": "light"
     },
     "output_type": "display_data"
    }
   ],
   "source": [
    "c_success = np.asarray(c_success)\n",
    "c_mean = np.mean(c_success, axis=0)\n",
    "c_std = np.std(c_success, axis=0)\n",
    "f_success = np.asarray(f_success)\n",
    "f_mean = np.mean(f_success, axis=0)\n",
    "f_std = np.std(f_success, axis=0)\n",
    "x = [i for i in range(0, 10, 2)]\n",
    "sns.scatterplot(x, c_mean, label='CFQI')\n",
    "plt.errorbar(x, c_mean ,yerr=c_std, linestyle=\"None\")\n",
    "sns.scatterplot(x, f_mean, label='FQI')\n",
    "plt.errorbar(x, f_mean ,yerr=f_std, linestyle=\"None\")\n",
    "plt.xlabel(\"Force Left\")\n",
    "plt.ylabel(\"Percentage of runs that were successful\")"
   ]
  },
  {
   "cell_type": "markdown",
   "metadata": {},
   "source": [
    "# Interpretability"
   ]
  },
  {
   "cell_type": "code",
   "execution_count": null,
   "metadata": {},
   "outputs": [],
   "source": [
    "# Foreground group\n",
    "heatmap = []\n",
    "for pos in range(-10, 11, 1):\n",
    "    pos /= 10\n",
    "    pos_values = []\n",
    "    vel = 0\n",
    "    ang = -4\n",
    "    p_vel = 0\n",
    "    state = np.asarray([pos, vel, ang, p_vel])\n",
    "    best_action = nfq_agent.get_best_action(state, np.array([0, 1]), 1)\n",
    "    pos_values.append(best_action)\n",
    "    \n",
    "    heatmap.append(pos_values)\n",
    "    \n",
    "heatmap = np.asarray(heatmap)\n",
    "xticklabels = [x/10 for x in range(-10, 10, 1)]\n",
    "yticklabels = [-4]\n",
    "ax = plt.figure(figsize=(10, 2))\n",
    "sns.heatmap(heatmap.T, xticklabels=xticklabels, yticklabels=yticklabels)\n",
    "plt.title(\"Foreground\")\n",
    "plt.xlabel(\"Cart Position\")\n",
    "plt.ylabel(\"Pole Angle\")"
   ]
  },
  {
   "cell_type": "code",
   "execution_count": null,
   "metadata": {},
   "outputs": [],
   "source": [
    "# Background group\n",
    "heatmap = []\n",
    "for pos in range(-10, 11, 1):\n",
    "    pos /= 10\n",
    "    pos_values = []\n",
    "    vel = 0\n",
    "    ang = -4\n",
    "    p_vel = 0\n",
    "    state = np.asarray([pos, vel, ang, p_vel])\n",
    "    best_action = nfq_agent.get_best_action(state, np.array([0, 1]), 0)\n",
    "    pos_values.append(best_action)\n",
    "    \n",
    "    heatmap.append(pos_values)\n",
    "heatmap = np.asarray(heatmap)\n",
    "xticklabels = [x/10 for x in range(-10, 10, 1)]\n",
    "yticklabels = [-4]\n",
    "ax = plt.figure(figsize=(10, 2))\n",
    "sns.heatmap(heatmap.T, xticklabels=xticklabels, yticklabels=yticklabels)\n",
    "plt.title(\"Background\")\n",
    "plt.xlabel(\"Cart Position\")\n",
    "plt.ylabel(\"Pole Angle\")"
   ]
  },
  {
   "cell_type": "code",
   "execution_count": null,
   "metadata": {},
   "outputs": [],
   "source": [
    "nfq_agent._nfq_net.layers_fg"
   ]
  },
  {
   "cell_type": "code",
   "execution_count": null,
   "metadata": {},
   "outputs": [],
   "source": [
    "nc_success = []\n",
    "c_success = []\n",
    "for i in range(10):\n",
    "    print(str(i))\n",
    "    success, total = run(verbose=False, is_contrastive=False, evaluations=5)\n",
    "    nc_success.append(success/total)\n",
    "    \n",
    "    success, total = run(verbose=False, is_contrastive=True, evaluations=5)\n",
    "    c_success.append(success/total)"
   ]
  },
  {
   "cell_type": "code",
   "execution_count": null,
   "metadata": {},
   "outputs": [],
   "source": [
    "ax = sns.boxplot(x=nc_success)\n",
    "sns.swarmplot(nc_success, label='FQI', color='.25')"
   ]
  },
  {
   "cell_type": "code",
   "execution_count": null,
   "metadata": {},
   "outputs": [],
   "source": [
    "ax = sns.boxplot(x=c_success)\n",
    "sns.swarmplot(c_success, label='CFQI', color='.25')"
   ]
  },
  {
   "cell_type": "code",
   "execution_count": null,
   "metadata": {},
   "outputs": [],
   "source": [
    "plt.ylabel(\"Percentage of evaluations that were successful\")\n",
    "plt.boxplot(x=[nc_success, c_success], labels=['FQI', 'CFQI'])"
   ]
  },
  {
   "cell_type": "code",
   "execution_count": null,
   "metadata": {},
   "outputs": [],
   "source": []
  }
 ],
 "metadata": {
  "kernelspec": {
   "display_name": "Python 3",
   "language": "python",
   "name": "python3"
  },
  "language_info": {
   "codemirror_mode": {
    "name": "ipython",
    "version": 3
   },
   "file_extension": ".py",
   "mimetype": "text/x-python",
   "name": "python",
   "nbconvert_exporter": "python",
   "pygments_lexer": "ipython3",
   "version": "3.8.5"
  },
  "toc": {
   "base_numbering": 1,
   "nav_menu": {},
   "number_sections": true,
   "sideBar": true,
   "skip_h1_title": false,
   "title_cell": "Table of Contents",
   "title_sidebar": "Contents",
   "toc_cell": false,
   "toc_position": {},
   "toc_section_display": true,
   "toc_window_display": false
  }
 },
 "nbformat": 4,
 "nbformat_minor": 5
}
