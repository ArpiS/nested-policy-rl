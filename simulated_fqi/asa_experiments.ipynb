{
 "cells": [
  {
   "cell_type": "code",
   "execution_count": 1,
   "id": "complex-summer",
   "metadata": {},
   "outputs": [],
   "source": [
    "import json\n",
    "import sys\n",
    "from train_cnfqi import run\n",
    "import seaborn as sns\n",
    "import tqdm\n",
    "import matplotlib.pyplot as plt \n",
    "import numpy as np"
   ]
  },
  {
   "cell_type": "markdown",
   "id": "ceramic-pleasure",
   "metadata": {},
   "source": [
    "# Force_left vs success"
   ]
  },
  {
   "cell_type": "code",
   "execution_count": null,
   "id": "adopted-opera",
   "metadata": {},
   "outputs": [
    {
     "name": "stdout",
     "output_type": "stream",
     "text": [
      "0\n"
     ]
    }
   ],
   "source": [
    "# CFQI\n",
    "cfqi_success = []\n",
    "fqi_success = []\n",
    "for i in range(10):\n",
    "    print(str(i))\n",
    "    success, total, nfq_agent = run(verbose=False, is_contrastive=True, evaluations=5, force_left=i)\n",
    "    cfqi_success.append(success/total)\n",
    "    success, total, nfq_agent = run(verbose=False, is_contrastive=False, evaluations=5, force_left=i)\n",
    "    fqi_success.append(success/total)"
   ]
  },
  {
   "cell_type": "markdown",
   "id": "disciplinary-miller",
   "metadata": {},
   "source": [
    "# Interpretability"
   ]
  },
  {
   "cell_type": "code",
   "execution_count": null,
   "id": "forbidden-sarah",
   "metadata": {},
   "outputs": [],
   "source": [
    "# Foreground group\n",
    "heatmap = []\n",
    "for pos in range(-10, 11, 1):\n",
    "    pos /= 10\n",
    "    pos_values = []\n",
    "    vel = 0\n",
    "    ang = -4\n",
    "    p_vel = 0\n",
    "    state = np.asarray([pos, vel, ang, p_vel])\n",
    "    best_action = nfq_agent.get_best_action(state, np.array([0, 1]), 1)\n",
    "    pos_values.append(best_action)\n",
    "    \n",
    "    heatmap.append(pos_values)\n",
    "    \n",
    "heatmap = np.asarray(heatmap)\n",
    "xticklabels = [x/10 for x in range(-10, 10, 1)]\n",
    "yticklabels = [-4]\n",
    "ax = plt.figure(figsize=(10, 2))\n",
    "sns.heatmap(heatmap.T, xticklabels=xticklabels, yticklabels=yticklabels)\n",
    "plt.title(\"Foreground\")\n",
    "plt.xlabel(\"Cart Position\")\n",
    "plt.ylabel(\"Pole Angle\")"
   ]
  },
  {
   "cell_type": "code",
   "execution_count": null,
   "id": "assigned-pillow",
   "metadata": {},
   "outputs": [],
   "source": [
    "# Background group\n",
    "heatmap = []\n",
    "for pos in range(-10, 11, 1):\n",
    "    pos /= 10\n",
    "    pos_values = []\n",
    "    vel = 0\n",
    "    ang = -4\n",
    "    p_vel = 0\n",
    "    state = np.asarray([pos, vel, ang, p_vel])\n",
    "    best_action = nfq_agent.get_best_action(state, np.array([0, 1]), 0)\n",
    "    pos_values.append(best_action)\n",
    "    \n",
    "    heatmap.append(pos_values)\n",
    "heatmap = np.asarray(heatmap)\n",
    "xticklabels = [x/10 for x in range(-10, 10, 1)]\n",
    "yticklabels = [-4]\n",
    "ax = plt.figure(figsize=(10, 2))\n",
    "sns.heatmap(heatmap.T, xticklabels=xticklabels, yticklabels=yticklabels)\n",
    "plt.title(\"Background\")\n",
    "plt.xlabel(\"Cart Position\")\n",
    "plt.ylabel(\"Pole Angle\")"
   ]
  },
  {
   "cell_type": "code",
   "execution_count": null,
   "id": "legendary-steam",
   "metadata": {},
   "outputs": [],
   "source": [
    "nfq_agent._nfq_net.layers_fg"
   ]
  },
  {
   "cell_type": "code",
   "execution_count": null,
   "id": "healthy-amino",
   "metadata": {},
   "outputs": [],
   "source": [
    "nc_success = []\n",
    "c_success = []\n",
    "for i in range(10):\n",
    "    print(str(i))\n",
    "    success, total = run(verbose=False, is_contrastive=False, evaluations=5)\n",
    "    nc_success.append(success/total)\n",
    "    \n",
    "    success, total = run(verbose=False, is_contrastive=True, evaluations=5)\n",
    "    c_success.append(success/total)"
   ]
  },
  {
   "cell_type": "code",
   "execution_count": null,
   "id": "equivalent-davis",
   "metadata": {},
   "outputs": [],
   "source": [
    "ax = sns.boxplot(x=nc_success)\n",
    "sns.swarmplot(nc_success, label='FQI', color='.25')"
   ]
  },
  {
   "cell_type": "code",
   "execution_count": null,
   "id": "political-nelson",
   "metadata": {},
   "outputs": [],
   "source": [
    "ax = sns.boxplot(x=c_success)\n",
    "sns.swarmplot(c_success, label='CFQI', color='.25')"
   ]
  },
  {
   "cell_type": "code",
   "execution_count": null,
   "id": "sound-tumor",
   "metadata": {},
   "outputs": [],
   "source": [
    "plt.ylabel(\"Percentage of evaluations that were successful\")\n",
    "plt.boxplot(x=[nc_success, c_success], labels=['FQI', 'CFQI'])"
   ]
  },
  {
   "cell_type": "code",
   "execution_count": null,
   "id": "insured-truck",
   "metadata": {},
   "outputs": [],
   "source": []
  }
 ],
 "metadata": {
  "kernelspec": {
   "display_name": "Python 3",
   "language": "python",
   "name": "python3"
  },
  "language_info": {
   "codemirror_mode": {
    "name": "ipython",
    "version": 3
   },
   "file_extension": ".py",
   "mimetype": "text/x-python",
   "name": "python",
   "nbconvert_exporter": "python",
   "pygments_lexer": "ipython3",
   "version": "3.7.9"
  },
  "toc": {
   "base_numbering": 1,
   "nav_menu": {},
   "number_sections": true,
   "sideBar": true,
   "skip_h1_title": false,
   "title_cell": "Table of Contents",
   "title_sidebar": "Contents",
   "toc_cell": false,
   "toc_position": {},
   "toc_section_display": true,
   "toc_window_display": false
  }
 },
 "nbformat": 4,
 "nbformat_minor": 5
}
