{
 "cells": [
  {
   "cell_type": "markdown",
   "metadata": {},
   "source": [
    "# Pendulum Environment, OpenAI Gym\n",
    "* Left force: -50N, Right force: 50N, Nothing: 0N, with some amount of noise\n",
    "* Generate trajectories by starting upright, and then applying random forces. \n",
    "* Failure if the pendulum exceeds +/- pi/2"
   ]
  },
  {
   "cell_type": "code",
   "execution_count": 3,
   "metadata": {},
   "outputs": [],
   "source": [
    "import configargparse\n",
    "import torch\n",
    "import torch.optim as optim\n",
    "import sys\n",
    "sys.path.append('../')\n",
    "\n",
    "from environments import PendulumEnv\n",
    "from models.agents import NFQAgent\n",
    "from models.networks import NFQNetwork, ContrastiveNFQNetwork\n",
    "from util import get_logger, close_logger, load_models, make_reproducible, save_models\n",
    "import matplotlib.pyplot as plt\n",
    "import numpy as np\n",
    "import itertools\n",
    "import seaborn as sns\n",
    "import tqdm"
   ]
  },
  {
   "cell_type": "code",
   "execution_count": 4,
   "metadata": {},
   "outputs": [
    {
     "name": "stderr",
     "output_type": "stream",
     "text": [
      "/home/amandyam/.conda/envs/research/lib/python3.6/site-packages/seaborn/distributions.py:2551: FutureWarning: `distplot` is a deprecated function and will be removed in a future version. Please adapt your code to use either `displot` (a figure-level function with similar flexibility) or `histplot` (an axes-level function for histograms).\n",
      "  warnings.warn(msg, FutureWarning)\n"
     ]
    },
    {
     "data": {
      "text/plain": [
       "<AxesSubplot:ylabel='Density'>"
      ]
     },
     "execution_count": 4,
     "metadata": {},
     "output_type": "execute_result"
    },
    {
     "data": {
      "image/png": "[encoded data removed]",
      "text/plain": [
       "<Figure size 432x288 with 1 Axes>"
      ]
     },
     "metadata": {
      "needs_background": "light"
     },
     "output_type": "display_data"
    }
   ],
   "source": [
    "env = PendulumEnv()\n",
    "rollouts = []\n",
    "for i in range(10):\n",
    "    rollout, episode_cost = env.generate_rollout()\n",
    "    rollouts.extend(rollout)\n",
    "rewards = [r[2] for r in rollouts]\n",
    "sns.distplot(rewards)"
   ]
  },
  {
   "cell_type": "code",
   "execution_count": 5,
   "metadata": {},
   "outputs": [],
   "source": [
    "def generate_data(init_experience=100, bg_only=False, agent=None):\n",
    "    env_bg = PendulumEnv(group=0)\n",
    "    env_fg = PendulumEnv(group=1)\n",
    "    bg_rollouts = []\n",
    "    fg_rollouts = []\n",
    "    if init_experience > 0:\n",
    "        for _ in range(init_experience):\n",
    "            rollout_bg, episode_cost = env_bg.generate_rollout(\n",
    "                agent, render=False, group=0\n",
    "            )\n",
    "            bg_rollouts.extend(rollout_bg)\n",
    "            if not bg_only:\n",
    "                rollout_fg, episode_cost = env_fg.generate_rollout(\n",
    "                    agent, render=False, group=1\n",
    "                )\n",
    "                fg_rollouts.extend(rollout_fg)\n",
    "    bg_rollouts.extend(fg_rollouts)\n",
    "    all_rollouts = bg_rollouts.copy()\n",
    "    return all_rollouts, env_bg, env_fg"
   ]
  },
  {
   "cell_type": "code",
   "execution_count": 7,
   "metadata": {},
   "outputs": [
    {
     "name": "stderr",
     "output_type": "stream",
     "text": [
      "  0%|          | 2/1001 [00:01<13:11,  1.26it/s]"
     ]
    },
    {
     "name": "stdout",
     "output_type": "stream",
     "text": [
      "Evaluation bg: [75.68560058034853, 30.2770426516875, 48.65055467558749, 58.55521173780764, 32.19083477769133] Evaluation fg: [28.87704393991044, 47.59576349531395, 75.95423471687491, 25.924144413318622, 30.94253995253151]\n"
     ]
    },
    {
     "name": "stderr",
     "output_type": "stream",
     "text": [
      " 30%|███       | 301/1001 [01:05<05:38,  2.07it/s]"
     ]
    },
    {
     "name": "stdout",
     "output_type": "stream",
     "text": [
      "Evaluation bg: [30.945675449085115, 75.73452743190674, 25.562269418396053, 27.025835410857397, 30.731779623114857] Evaluation fg: [33.47774609515595, 75.53749335645647, 31.813491082201793, 36.15854352765779, 30.44009761314201]\n"
     ]
    },
    {
     "name": "stderr",
     "output_type": "stream",
     "text": [
      " 60%|██████    | 601/1001 [02:10<03:07,  2.14it/s]"
     ]
    },
    {
     "name": "stdout",
     "output_type": "stream",
     "text": [
      "Evaluation bg: [26.903237935668326, 32.51799461219754, 31.13663286010572, 30.959665982521017, 27.074126635504975] Evaluation fg: [40.029306596088084, 0.5434888195623302, 32.530614993769134, 32.31882060866191, 27.808703680165074]\n"
     ]
    },
    {
     "name": "stderr",
     "output_type": "stream",
     "text": [
      " 90%|█████████ | 901/1001 [03:14<00:47,  2.09it/s]"
     ]
    },
    {
     "name": "stdout",
     "output_type": "stream",
     "text": [
      "Evaluation bg: [35.011100069531025, 34.56858244352236, 31.532574178922616, 30.16702068545008, 29.66938676834567] Evaluation fg: [28.948838668637713, 30.28838294389383, 28.571715414280597, 33.94346718119634, 41.85577824619168]\n"
     ]
    },
    {
     "name": "stderr",
     "output_type": "stream",
     "text": [
      "100%|██████████| 1001/1001 [03:35<00:00,  4.64it/s]\n"
     ]
    },
    {
     "name": "stdout",
     "output_type": "stream",
     "text": [
      "Evaluation bg: 0.0 Evaluation fg: 0.0\n"
     ]
    }
   ],
   "source": [
    "train_rollouts, train_env_bg, train_env_fg = generate_data(init_experience=200, bg_only=True)\n",
    "test_rollouts, eval_env_bg, eval_env_fg = generate_data(init_experience=200, bg_only=True)\n",
    "\n",
    "is_contrastive=True\n",
    "epoch = 1000\n",
    "hint_to_goal = False\n",
    "if hint_to_goal:\n",
    "    goal_state_action_b_bg, goal_target_q_values_bg, group_bg = train_env_bg.get_goal_pattern_set(group=0)\n",
    "    goal_state_action_b_fg, goal_target_q_values_fg, group_fg = train_env_fg.get_goal_pattern_set(group=1)\n",
    "    \n",
    "    goal_state_action_b_bg = torch.FloatTensor(goal_state_action_b_bg)\n",
    "    goal_target_q_values_bg = torch.FloatTensor(goal_target_q_values_bg)\n",
    "    goal_state_action_b_fg = torch.FloatTensor(goal_state_action_b_fg)\n",
    "    goal_target_q_values_fg = torch.FloatTensor(goal_target_q_values_fg)\n",
    "    \n",
    "nfq_net = ContrastiveNFQNetwork(state_dim=train_env_bg.state_dim, is_contrastive=is_contrastive, deep=False)\n",
    "optimizer = optim.Adam(nfq_net.parameters(), lr=1e-1)\n",
    "\n",
    "nfq_agent = NFQAgent(nfq_net, optimizer)\n",
    "\n",
    "bg_success_queue = [0] * 3\n",
    "fg_success_queue = [0] * 3\n",
    "eval_fg = 0\n",
    "evaluations = 5\n",
    "for k, ep in enumerate(tqdm.tqdm(range(epoch + 1))):\n",
    "    state_action_b, target_q_values, groups = nfq_agent.generate_pattern_set(train_rollouts)\n",
    "    if hint_to_goal:\n",
    "        goal_state_action_b = torch.cat([goal_state_action_b_bg, goal_state_action_b_fg], dim=0)\n",
    "        goal_target_q_values = torch.cat([goal_target_q_values_bg, goal_target_q_values_fg], dim=0)\n",
    "        state_action_b = torch.cat([state_action_b, goal_state_action_b], dim=0)\n",
    "        target_q_values = torch.cat([target_q_values, goal_target_q_values], dim=0)\n",
    "        goal_groups = torch.cat([group_bg, group_fg], dim=0)\n",
    "        groups = torch.cat([groups, goal_groups], dim=0)\n",
    "\n",
    "    if not nfq_net.freeze_shared:\n",
    "        loss = nfq_agent.train((state_action_b, target_q_values, groups))\n",
    "\n",
    "    eval_episode_length_fg, eval_success_fg, eval_episode_cost_fg = 0, 0, 0\n",
    "    if nfq_net.freeze_shared:\n",
    "        eval_fg += 1\n",
    "        if eval_fg > 50:\n",
    "            loss = nfq_agent.train((state_action_b, target_q_values, groups))\n",
    "\n",
    "    (eval_episode_length_bg, eval_success_bg, eval_episode_cost_bg) = nfq_agent.evaluate_pendulum(eval_env_bg, render=False)\n",
    "    bg_success_queue = bg_success_queue[1:]\n",
    "    bg_success_queue.append(1 if eval_success_bg else 0)\n",
    "    \n",
    "    (eval_episode_length_fg, eval_success_fg, eval_episode_cost_fg) = nfq_agent.evaluate_pendulum(eval_env_fg, render=False)\n",
    "    fg_success_queue = fg_success_queue[1:]\n",
    "    fg_success_queue.append(1 if eval_success_fg else 0)\n",
    "\n",
    "    if sum(bg_success_queue) == 3 and not nfq_net.freeze_shared == True:\n",
    "        nfq_net.freeze_shared = True\n",
    "        print(\"FREEZING SHARED\")\n",
    "        if is_contrastive:\n",
    "            for param in nfq_net.layers_shared.parameters():\n",
    "                param.requires_grad = False\n",
    "            for param in nfq_net.layers_last_shared.parameters():\n",
    "                param.requires_grad = False\n",
    "            for param in nfq_net.layers_fg.parameters():\n",
    "                param.requires_grad = True\n",
    "            for param in nfq_net.layers_last_fg.parameters():\n",
    "                param.requires_grad = True\n",
    "        else:\n",
    "            for param in nfq_net.layers_fg.parameters():\n",
    "                param.requires_grad = False\n",
    "            for param in nfq_net.layers_last_fg.parameters():\n",
    "                param.requires_grad = False\n",
    "\n",
    "        optimizer = optim.Adam(\n",
    "            itertools.chain(\n",
    "                nfq_net.layers_fg.parameters(),\n",
    "                nfq_net.layers_last_fg.parameters(),\n",
    "            ),\n",
    "            lr=1e-1,\n",
    "        )\n",
    "        nfq_agent._optimizer = optimizer\n",
    "    if sum(fg_success_queue) == 3:\n",
    "        print(\"Done Training\")\n",
    "        break\n",
    "    if ep % 300 == 0:\n",
    "        perf_bg = []\n",
    "        perf_fg = []\n",
    "        for it in range(evaluations):\n",
    "            (eval_episode_length_bg,eval_success_bg,eval_episode_cost_bg) = nfq_agent.evaluate_pendulum(eval_env_bg, render=False)\n",
    "            (eval_episode_length_fg,eval_success_fg,eval_episode_cost_fg) = nfq_agent.evaluate_pendulum(eval_env_fg, render=False)\n",
    "            perf_bg.append(eval_episode_cost_bg)\n",
    "            perf_fg.append(eval_episode_cost_fg)\n",
    "            train_env_bg.close()\n",
    "            train_env_fg.close()\n",
    "            eval_env_bg.close()\n",
    "            eval_env_fg.close()\n",
    "        print(\"Evaluation bg: \" + str(perf_bg) + \" Evaluation fg: \" + str(perf_fg))\n",
    "perf_bg = []\n",
    "perf_fg = []\n",
    "for it in range(evaluations*10):\n",
    "    (eval_episode_length_bg,eval_success_bg,eval_episode_cost_bg) = nfq_agent.evaluate_car(eval_env_bg, render=False)\n",
    "    (eval_episode_length_fg,eval_success_fg,eval_episode_cost_fg) = nfq_agent.evaluate_car(eval_env_fg, render=False)\n",
    "    perf_bg.append(eval_success_bg)\n",
    "    perf_fg.append(eval_success_fg)\n",
    "    eval_env_bg.close()\n",
    "    eval_env_fg.close()\n",
    "print(\"Evaluation bg: \" + str(sum(perf_bg)/len(perf_bg)) + \" Evaluation fg: \" + str(sum(perf_fg)/len(perf_fg)))"
   ]
  },
  {
   "cell_type": "code",
   "execution_count": null,
   "metadata": {},
   "outputs": [],
   "source": []
  }
 ],
 "metadata": {
  "kernelspec": {
   "display_name": "research [~/.conda/envs/research/]",
   "language": "python",
   "name": "conda_research"
  },
  "language_info": {
   "codemirror_mode": {
    "name": "ipython",
    "version": 3
   },
   "file_extension": ".py",
   "mimetype": "text/x-python",
   "name": "python",
   "nbconvert_exporter": "python",
   "pygments_lexer": "ipython3",
   "version": "3.6.12"
  }
 },
 "nbformat": 4,
 "nbformat_minor": 4
}
