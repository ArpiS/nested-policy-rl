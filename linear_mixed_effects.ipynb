{
 "cells": [
  {
   "cell_type": "markdown",
   "id": "ongoing-sally",
   "metadata": {},
   "source": [
    "# Statsmodels\n",
    "* https://www.kaggle.com/ojwatson/mixed-models"
   ]
  },
  {
   "cell_type": "code",
   "execution_count": null,
   "id": "stunning-great",
   "metadata": {},
   "outputs": [],
   "source": [
    "%matplotlib inline\n",
    "\n",
    "import numpy as np\n",
    "import pandas as pd\n",
    "import statsmodels.api as sm\n",
    "import statsmodels.formula.api as smf\n",
    "from statsmodels.tools.sm_exceptions import ConvergenceWarning"
   ]
  },
  {
   "cell_type": "code",
   "execution_count": null,
   "id": "senior-architecture",
   "metadata": {},
   "outputs": [],
   "source": [
    "# Formula indicates mean weight as a linear function of time. Random intercept for each pig. \n",
    "data = sm.datasets.get_rdataset('dietox', 'geepack').data\n",
    "md = smf.mixedlm(\"Weight ~ Time\", data, groups=data[\"Pig\"], re_formula=\"~Time\")\n",
    "mdf = md.fit(method=[\"lbfgs\"])\n",
    "print(mdf.summary())"
   ]
  },
  {
   "cell_type": "code",
   "execution_count": null,
   "id": "designed-tonight",
   "metadata": {},
   "outputs": [],
   "source": [
    "rmse = mdf.fittedvalues"
   ]
  },
  {
   "cell_type": "markdown",
   "id": "exclusive-sword",
   "metadata": {},
   "source": [
    "# Stats models on the FQI part"
   ]
  },
  {
   "cell_type": "code",
   "execution_count": null,
   "id": "official-community",
   "metadata": {},
   "outputs": [],
   "source": [
    "with open('train_tuples.json', 'r') as f:\n",
    "    train_dict = json.load(f)\n",
    "with open('test_tuples.json', 'r') as f:\n",
    "    test_dict = json.load(f)"
   ]
  },
  {
   "cell_type": "code",
   "execution_count": null,
   "id": "immediate-bernard",
   "metadata": {},
   "outputs": [],
   "source": [
    "train_df = pd.DataFrame.from_dict(train_dict)\n",
    "test_df = pd.DataFrame.from_dict(test_dict)\n",
    "train_df.columns"
   ]
  },
  {
   "cell_type": "code",
   "execution_count": null,
   "id": "lined-attempt",
   "metadata": {},
   "outputs": [],
   "source": [
    "y = train_df['r']\n",
    "X = train_df[['a0', 'a1', 's0', 's1', 's2', 's3', 's4', 's5', 's6', 's7', 's8', 's9']]\n",
    "groups = train_df['ds']s"
   ]
  },
  {
   "cell_type": "code",
   "execution_count": null,
   "id": "vietnamese-engineering",
   "metadata": {},
   "outputs": [],
   "source": [
    "model = sm.MixedLM(endog=y, exog=X, groups=groups)\n",
    "result = model.fit()"
   ]
  },
  {
   "cell_type": "code",
   "execution_count": null,
   "id": "harmful-wilson",
   "metadata": {},
   "outputs": [],
   "source": [
    "testX = test_df[['a0', 'a1', 's0', 's1', 's2', 's3', 's4', 's5', 's6', 's7', 's8', 's9']]\n",
    "result.predict(exog=testX)"
   ]
  },
  {
   "cell_type": "code",
   "execution_count": null,
   "id": "stunning-corporation",
   "metadata": {},
   "outputs": [],
   "source": []
  }
 ],
 "metadata": {
  "kernelspec": {
   "display_name": "tf",
   "language": "python",
   "name": "tf"
  },
  "language_info": {
   "codemirror_mode": {
    "name": "ipython",
    "version": 3
   },
   "file_extension": ".py",
   "mimetype": "text/x-python",
   "name": "python",
   "nbconvert_exporter": "python",
   "pygments_lexer": "ipython3",
   "version": "3.7.10"
  },
  "toc": {
   "base_numbering": 1,
   "nav_menu": {},
   "number_sections": true,
   "sideBar": true,
   "skip_h1_title": false,
   "title_cell": "Table of Contents",
   "title_sidebar": "Contents",
   "toc_cell": false,
   "toc_position": {},
   "toc_section_display": true,
   "toc_window_display": false
  }
 },
 "nbformat": 4,
 "nbformat_minor": 5
}
