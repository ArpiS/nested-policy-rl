{
 "cells": [
  {
   "cell_type": "markdown",
   "metadata": {},
   "source": [
    "# Transition Tuples for Covid + Patients"
   ]
  },
  {
   "cell_type": "markdown",
   "metadata": {},
   "source": [
    "* What are the units for o2 saturation?\n",
    "* Can we have more finegrained actions? "
   ]
  },
  {
   "cell_type": "code",
   "execution_count": 8,
   "metadata": {},
   "outputs": [],
   "source": [
    "import pandas as pd\n",
    "import numpy as np\n",
    "from sklearn import preprocessing\n",
    "import pickle\n",
    "import os\n",
    "import seaborn as sns\n",
    "import matplotlib.pyplot as plt"
   ]
  },
  {
   "cell_type": "code",
   "execution_count": 2,
   "metadata": {},
   "outputs": [],
   "source": [
    "pth = \"/tigress/BEE/penn-covidsub/wip-state_rep_all_feat_24H.csv\"\n",
    "#pth = '/tigress/BEE/penn-covidsub/COVID - boosting_24H.csv'"
   ]
  },
  {
   "cell_type": "code",
   "execution_count": 9,
   "metadata": {},
   "outputs": [
    {
     "name": "stderr",
     "output_type": "stream",
     "text": [
      "/home/amandyam/.conda/envs/research/lib/python3.6/site-packages/seaborn/distributions.py:2551: FutureWarning: `distplot` is a deprecated function and will be removed in a future version. Please adapt your code to use either `displot` (a figure-level function with similar flexibility) or `histplot` (an axes-level function for histograms).\n",
      "  warnings.warn(msg, FutureWarning)\n"
     ]
    },
    {
     "data": {
      "text/plain": [
       "<AxesSubplot:xlabel='O2 SAT MEASURED', ylabel='Density'>"
      ]
     },
     "execution_count": 9,
     "metadata": {},
     "output_type": "execute_result"
    },
    {
     "data": {
      "image/png": "[encoded data removed]",
      "text/plain": [
       "<Figure size 432x288 with 1 Axes>"
      ]
     },
     "metadata": {
      "needs_background": "light"
     },
     "output_type": "display_data"
    }
   ],
   "source": [
    "respiratory_rate_cols = ['MEASURED O2 SAT VEN', 'MEASURED O2 SAT ART', 'C O2 SAT MEASURED', 'C O2 SAT',\n",
    "                        'O2 SAT MEASURED']\n",
    "data = pd.read_csv(pth)\n",
    "o2 = data[respiratory_rate_cols]\n",
    "sns.distplot(o2['O2 SAT MEASURED'])"
   ]
  },
  {
   "cell_type": "code",
   "execution_count": 10,
   "metadata": {},
   "outputs": [
    {
     "name": "stderr",
     "output_type": "stream",
     "text": [
      "/home/amandyam/.conda/envs/research/lib/python3.6/site-packages/seaborn/distributions.py:2551: FutureWarning: `distplot` is a deprecated function and will be removed in a future version. Please adapt your code to use either `displot` (a figure-level function with similar flexibility) or `histplot` (an axes-level function for histograms).\n",
      "  warnings.warn(msg, FutureWarning)\n"
     ]
    },
    {
     "data": {
      "text/plain": [
       "<AxesSubplot:ylabel='Density'>"
      ]
     },
     "execution_count": 10,
     "metadata": {},
     "output_type": "execute_result"
    },
    {
     "data": {
      "image/png": "[encoded data removed]",
      "text/plain": [
       "<Figure size 432x288 with 1 Axes>"
      ]
     },
     "metadata": {
      "needs_background": "light"
     },
     "output_type": "display_data"
    }
   ],
   "source": [
    "sns.distplot(o2[o2['O2 SAT MEASURED'] < 100])"
   ]
  },
  {
   "cell_type": "code",
   "execution_count": null,
   "metadata": {},
   "outputs": [],
   "source": [
    "allFrames = pd.read_csv(pth)\n",
    "state_feats = ['ALBUMIN', 'ANION GAP',\n",
    "       'BASE EXCESS', 'BICARBONATE', 'BILIRUBIN', 'CALCIUM',\n",
    "       'CARBOXYHEMOGLOBIN', 'CHLORIDE', 'CREATININE', 'HEMATOCRIT',\n",
    "       'HEMOGLOBIN', 'INSPIRED OXYGEN', 'INTERNATIONAL NORMALIZED RATIO',\n",
    "       'LACTATE', 'METHEMOGLOBIN', 'PARTIAL THROMBOPLASTIN TIME', 'PCO2', 'PH',\n",
    "       'PLATELETS', 'PO2', 'POTASSIUM', 'SODIUM', 'UREA NITROGEN',\n",
    "       'URINE OUTPUT', 'WHITE BLOOD CELLS', 'FIO2', 'PEEP', 'OXYGEN (L)',\n",
    "       'Respiratory Aids', 'Nonsteroidal Anti-inflammatory Agents (NSAIDs)',\n",
    "       'Corticosteroids - Topical', 'Mineralocorticoids',\n",
    "       'Glucocorticosteroids', 'Influenza Agents', 'Antiretrovirals',\n",
    "       'is_deceased_next_t']"
   ]
  },
  {
   "cell_type": "code",
   "execution_count": null,
   "metadata": {},
   "outputs": [],
   "source": [
    "allFrames"
   ]
  },
  {
   "cell_type": "code",
   "execution_count": null,
   "metadata": {},
   "outputs": [],
   "source": [
    "def state_transformer(frames, states=None, feats=state_feats, transformer='tuples/transformer.pkl'):\n",
    "   \n",
    "    print('#:', len(feats))\n",
    "    if states is None:\n",
    "        states = np.vstack([np.array(frames.loc[i, feats]).astype(float) for i in range(len(frames))])\n",
    "    if False: #os.path.isfile(transformer):\n",
    "        scaler = pickle.load(open(transformer, 'rb'))\n",
    "    else:\n",
    "        scaler = preprocessing.StandardScaler().fit(states)\n",
    "        pickle.dump(scaler, open('tuples/transformer.pkl', 'wb'))\n",
    "    transformed_states = scaler.transform(states)\n",
    "    return transformed_states\n",
    "\n",
    "def state_invtransformer(tstates, transformer='tuples/transformer.pkl'):\n",
    "    \n",
    "    scaler = pickle.load(open(transformer, 'rb'))\n",
    "    states = scaler.inverse_transform(tstates)\n",
    "    \n",
    "    return states\n",
    "\n",
    "def transform(state, transformer='tuples/transformer.pkl'):\n",
    "    if os.path.isfile(transformer):\n",
    "        scaler = pickle.load(open(transformer, 'rb'))\n",
    "        return scaler.transform([state])[0]\n",
    "    else:\n",
    "        return state\n",
    "    return \n",
    "\n",
    "def discretize(a, el='Respiratory Aids'):\n",
    "    \n",
    "    print(\"A \", a )\n",
    "    if el=='Respiratory Aids':\n",
    "        adict = {'none': 0, 'vent': 0}\n",
    "        \n",
    "        # What is ivd, ivh?\n",
    "        aid = a[0]\n",
    "        \n",
    "        if aid:\n",
    "            adict['vent'] = 1        \n",
    "        \n",
    "    da = list(adict.values())\n",
    "    if sum(da) == 0: da[0] = 1\n",
    "\n",
    "    return da\n",
    "\n",
    "def reward(s, a, ns, w=np.array([1, 1])/5., el='Respiratory Aid'):\n",
    "    \n",
    "    rdict = {'cost-vent': 0, 'low-o2sat': 0}\n",
    "    \n",
    "    if a[0] > 0 : rdict['cost-iv'] -= 1 \n",
    "    if a[1] > 0 : rdict['cost-po'] -= 1\n",
    "    \n",
    "    if el=='Respiratory Aid': rdict['cost-vent'], rdict['low-02sat'] = sigmoid(ns[0], el=el)\n",
    "    if el=='Mg': rdict['high'], rdict['low'] = sigmoid(ns[1], el=el)\n",
    "    if el=='P': rdict['high'], rdict['low'] = sigmoid(ns[2], el=el)\n",
    "    \n",
    "    phi = np.array(list(rdict.values()))\n",
    "    r = np.dot(phi, w)\n",
    "    \n",
    "    return phi, r\n",
    "\n",
    "def sigmoid(x, el='K'):\n",
    "    \n",
    "    minmax = {'K': [3.5, 4.5], 'Mg': [1.5, 2.5], 'P': [2.5, 4.5]}\n",
    "    lmin, lmax = minmax[el]\n",
    "    \n",
    "    if x < lmin:\n",
    "        z = 1/(1 + np.exp(-3.5*(x-(lmin-1)))) - 1\n",
    "        return (0, z)\n",
    "    elif x > lmax: \n",
    "        z = - 1/(1 + np.exp(-3.5*(x-(lmax+1))))\n",
    "        return (z, 0)\n",
    "    else:\n",
    "        z = 0\n",
    "        return (z, z)\n",
    "    \n",
    "def generate_samples(vnum, trainFrames, el='Respiratory Aids'):\n",
    "\n",
    "    frame = trainFrames[trainFrames.pat_id==vnum]\n",
    "    all_st = []\n",
    "    all_nst = []\n",
    "    all_a = []\n",
    "    all_phi = []\n",
    "    all_r = []\n",
    "\n",
    "    for i in frame.index[:-1]:\n",
    "        \n",
    "        s = list(frame.loc[i, state_feats])\n",
    "        st = transform(s)\n",
    "        all_st.append(st)\n",
    "        if el=='Respiratory Aids':\n",
    "            a = list(frame.loc[i+1, ['Respiratory Aids']])\n",
    "        da = discretize(a, el=el)\n",
    "        all_a.append(da)\n",
    "        ns = list(frame.loc[i+1, state_feats])\n",
    "        nst = transform(ns)\n",
    "        all_nst.append(nst)\n",
    "        phi, r = reward(s, a, ns, el=el) \n",
    "        all_phi.append(phi)\n",
    "        all_r.append(r)\n",
    "        #print('s:', s, '\\n\\na:', a, '\\n\\nns', ns, '\\n\\nr', phi, r)\n",
    "        \n",
    "    return (all_st, all_a, all_nst, all_phi, all_r)\n",
    "\n",
    "def combine(ent):\n",
    "    return np.concatenate(np.array(ent))\n",
    "\n",
    "def get_tuples(frames, filename='tuples.pkl', el='Respiratory Aids'):\n",
    "    \n",
    "    transition_tuples = {'s': [], 'a': [], 'ns': [], 'phi': [], 'r': [], 'vnum': []}\n",
    "    \n",
    "    if el=='Respiratory Aids':\n",
    "        visits = frames[(frames['Respiratory Aids']!=0)].pat_id.unique()\n",
    "        \n",
    "    for vnum in visits:\n",
    "        if len(frames[frames.pat_id==vnum]) > 1:\n",
    "            s, a, ns, phi, r = generate_samples(vnum, frames, el)\n",
    "            transition_tuples['s'].append(np.array(s))\n",
    "            transition_tuples['a'].append(np.array(a))\n",
    "            transition_tuples['ns'].append(ns)\n",
    "            transition_tuples['phi'].append(phi)\n",
    "            transition_tuples['r'].append(r)\n",
    "            transition_tuples['vnum'].append(np.repeat(vnum, len(r)))\n",
    "\n",
    "    for k in transition_tuples.keys():\n",
    "        transition_tuples[k] = combine(transition_tuples[k])\n",
    "    \n",
    "    print(str(transition_tuples))\n",
    "    pickle.dump(transition_tuples, open(cf.outputdir + filename, 'wb'))\n",
    "    \n",
    "    return transition_tuples"
   ]
  },
  {
   "cell_type": "code",
   "execution_count": null,
   "metadata": {},
   "outputs": [],
   "source": [
    "print('Total number of processed adms =', len(allFrames.pat_id.unique()),'; number of transitions =', len(allFrames))    \n",
    "allFrames = allFrames.sort_values(by=['pat_id', 'order_time'])\n",
    "bp = np.sort(allFrames.pat_id.unique())[75]\n",
    "trainFrames = allFrames[allFrames['pat_id'] < bp].reset_index()\n",
    "testFrames = allFrames[allFrames['pat_id'] >= bp].reset_index()\n",
    "trainFrames.to_csv('tuples/trainFrames.csv', index=False)\n",
    "testFrames.to_csv('tuples/testFrames.csv', index=False)\n",
    "print('Transformer')\n",
    "ts = state_transformer(trainFrames)\n",
    "visits = allFrames.pat_id.unique()"
   ]
  },
  {
   "cell_type": "code",
   "execution_count": null,
   "metadata": {},
   "outputs": [],
   "source": [
    "print('Training set:')\n",
    "print('Total number of processed adms =',len(trainFrames.pat_id.unique()),'; number of transitions =',len(trainFrames))\n",
    "print ('Respiratory Aids Cohort')\n",
    "print('Number given respiratory aids =', len(allFrames[allFrames[\"Respiratory Aids\"] != 0].pat_id.unique()))\n",
    "print('Get tuples')\n",
    "get_tuples(trainFrames, filename='train_resp_tuples.pkl', el='Respiratory Aids')"
   ]
  },
  {
   "cell_type": "code",
   "execution_count": null,
   "metadata": {},
   "outputs": [],
   "source": []
  }
 ],
 "metadata": {
  "kernelspec": {
   "display_name": "research [~/.conda/envs/research/]",
   "language": "python",
   "name": "conda_research"
  },
  "language_info": {
   "codemirror_mode": {
    "name": "ipython",
    "version": 3
   },
   "file_extension": ".py",
   "mimetype": "text/x-python",
   "name": "python",
   "nbconvert_exporter": "python",
   "pygments_lexer": "ipython3",
   "version": "3.6.12"
  }
 },
 "nbformat": 4,
 "nbformat_minor": 4
}
